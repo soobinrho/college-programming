{
 "cells": [
  {
   "cell_type": "markdown",
   "id": "9a37a6ef-106d-41cb-a1f6-40ffd6ae5eeb",
   "metadata": {},
   "source": [
    "# Day 4 Homework\n",
    "\n",
    "`COSC210`\n",
    "`Chapter 4: Functions`\n",
    "`Soobin Rho`\n",
    "***"
   ]
  },
  {
   "cell_type": "markdown",
   "id": "0ce9acac",
   "metadata": {},
   "source": [
    "<center><b><em>The Two Functions</em></b></center>"
   ]
  },
  {
   "cell_type": "code",
   "execution_count": 1,
   "id": "663adb14",
   "metadata": {},
   "outputs": [
    {
     "name": "stdout",
     "output_type": "stream",
     "text": [
      "=======================\n",
      "Multiplying two numbers\n",
      "=======================\n",
      "\n",
      "Enter the first number: 123.45\n",
      "Enter the second number: 678.9\n",
      "\n",
      "123.45 * 678.9 = 83810.21\n"
     ]
    }
   ],
   "source": [
    "'''Multiplies two numbers from user input.'''\n",
    "\n",
    "def print_product_from_user_input():\n",
    "    '''Reads two numbers from user input.\n",
    "    1. Prompts for two numbers.\n",
    "    2. Calls the funtion \"multiply()\" which then\n",
    "       returns the product of the two numbers.\n",
    "    3. Prints the product.\n",
    "    '''\n",
    "    \n",
    "    # 1. Read user input for the two numbers.\n",
    "    string = '\\nEnter the first number: '\n",
    "    num_input_1 = float(input(string))\n",
    "    string = 'Enter the second number: '\n",
    "    num_input_2 = float(input(string))\n",
    "    \n",
    "    # 2. Call the function \"multiply()\".\n",
    "    #    and, at the same time, save the return value.\n",
    "    product = multiply(num_input_1, num_input_2)\n",
    "    \n",
    "    # 3. Print the product of the two numbers.\n",
    "    string = f'\\n{num_input_1} * {num_input_2} = {product}'\n",
    "    print(string)\n",
    "    \n",
    "def multiply(*numbers: float) -> float:\n",
    "    '''Returns the product of all parameters.'''\n",
    "    \n",
    "    # Initialize the return value, which is the product.\n",
    "    product = 1\n",
    "    \n",
    "    # Calculate the product.\n",
    "    for n in numbers:\n",
    "        product *= n\n",
    "        \n",
    "    # Round up or down to two decimal places.\n",
    "    product = round(product, 2)\n",
    "    \n",
    "    # Return the product.\n",
    "    return product\n",
    "\n",
    "print('=======================')\n",
    "print('Multiplying two numbers')\n",
    "print('=======================')\n",
    "    \n",
    "print_product_from_user_input()"
   ]
  },
  {
   "cell_type": "markdown",
   "id": "4e81c54a-b975-46bb-a2e8-262ededb7c12",
   "metadata": {},
   "source": [
    "<center><b><em>Circle Stats</em></b></center>"
   ]
  },
  {
   "cell_type": "code",
   "execution_count": 2,
   "id": "4f439467",
   "metadata": {},
   "outputs": [
    {
     "name": "stdout",
     "output_type": "stream",
     "text": [
      "==========================================\n",
      "Calculating the area and the circumference\n",
      "==========================================\n",
      "\n",
      "Enter the radius: 10\n",
      "\n",
      "Returned Values From the Function\n",
      "Area = 314.16\n",
      "Circumference = 62.83\n"
     ]
    }
   ],
   "source": [
    "# '''Calculates the area and the circumference of a circle.'''\n",
    "import math\n",
    "\n",
    "def get_area_and_circumference(radius: float = 1) -> tuple:\n",
    "    '''Returns the area and circumference of a circle.\n",
    "    1. Calculates the area and the circumference.\n",
    "    2. Returns these two.\n",
    "    '''\n",
    "    \n",
    "    # 1. Calculate the area and the circumference.\n",
    "    area = math.pi * radius ** 2\n",
    "    circumference = 2 * math.pi * radius\n",
    "    \n",
    "    # Round up or down to two decimal places.\n",
    "    area = round(area, 2)\n",
    "    circumference = round(circumference, 2)\n",
    "    \n",
    "    # 2. Return the area and the circumference.\n",
    "    return area, circumference\n",
    "    \n",
    "print('==========================================')\n",
    "print('Calculating the area and the circumference')\n",
    "print('==========================================')\n",
    "\n",
    "# Get the radius from user input.\n",
    "string = '\\nEnter the radius: '\n",
    "num_input = float(input(string))\n",
    "\n",
    "# Call the function.\n",
    "# This function returns the area and the circumference.\n",
    "area, circumference = get_area_and_circumference(num_input)\n",
    "\n",
    "# Print the area and the circumference.\n",
    "print('\\nReturn Values From the Function')\n",
    "print(f'Area = {area}\\nCircumference = {circumference}')"
   ]
  },
  {
   "cell_type": "markdown",
   "id": "9f6d9d77",
   "metadata": {},
   "source": [
    "***\n",
    "\n",
    "<center><em>----- End of Homework -----</em><center>"
   ]
  },
  {
   "cell_type": "markdown",
   "id": "84838657",
   "metadata": {},
   "source": [
    "<br>\n",
    "<br>\n",
    "<br>"
   ]
  }
 ],
 "metadata": {
  "kernelspec": {
   "display_name": "Python 3 (ipykernel)",
   "language": "python",
   "name": "python3"
  },
  "language_info": {
   "codemirror_mode": {
    "name": "ipython",
    "version": 3
   },
   "file_extension": ".py",
   "mimetype": "text/x-python",
   "name": "python",
   "nbconvert_exporter": "python",
   "pygments_lexer": "ipython3",
   "version": "3.9.12"
  }
 },
 "nbformat": 4,
 "nbformat_minor": 5
}
