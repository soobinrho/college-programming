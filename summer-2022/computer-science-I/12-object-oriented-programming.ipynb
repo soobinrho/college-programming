{
 "cells": [
  {
   "cell_type": "markdown",
   "id": "9a37a6ef-106d-41cb-a1f6-40ffd6ae5eeb",
   "metadata": {},
   "source": [
    "# Homework #12\n",
    "\n",
    "`COSC210`\n",
    "`Chapter 10: Objected-Oriented Programming`\n",
    "`Soobin Rho`\n",
    "***"
   ]
  },
  {
   "cell_type": "markdown",
   "id": "208e8e82",
   "metadata": {},
   "source": [
    "<center><b><em>Fraction Class</em></b></center>"
   ]
  },
  {
   "cell_type": "code",
   "execution_count": 7,
   "id": "aec4f3e8-c6e2-4011-a3c7-08ea41f7181f",
   "metadata": {},
   "outputs": [],
   "source": [
    "'''Excercises on the Fraction class'''\n",
    "from fractions import Fraction"
   ]
  },
  {
   "cell_type": "code",
   "execution_count": 21,
   "id": "a55ffd75-612a-425d-9b73-9e9ba715cea3",
   "metadata": {},
   "outputs": [],
   "source": [
    "# Constructing two fractions.\n",
    "fraction_1 = Fraction(numerator=1, denominator=10)\n",
    "fraction_2 = Fraction(numerator=4, denominator=10)"
   ]
  },
  {
   "cell_type": "code",
   "execution_count": 15,
   "id": "32765764-7802-41e1-90b8-ff712764e906",
   "metadata": {},
   "outputs": [
    {
     "name": "stdout",
     "output_type": "stream",
     "text": [
      "1/2\n"
     ]
    }
   ],
   "source": [
    "# Adding the two fractions.\n",
    "print(fraction_1 + fraction_2)"
   ]
  },
  {
   "cell_type": "code",
   "execution_count": 16,
   "id": "d7a99cae-a55b-4ca8-ba19-0f8898de67c9",
   "metadata": {},
   "outputs": [
    {
     "name": "stdout",
     "output_type": "stream",
     "text": [
      "-3/10\n"
     ]
    }
   ],
   "source": [
    "# Subtracting the two fractions.\n",
    "print(fraction_1 - fraction_2)"
   ]
  },
  {
   "cell_type": "code",
   "execution_count": 19,
   "id": "872ddc8f-7328-4601-8ce2-ff7d84ec83f2",
   "metadata": {},
   "outputs": [
    {
     "name": "stdout",
     "output_type": "stream",
     "text": [
      "1/25\n"
     ]
    }
   ],
   "source": [
    "# Multiplying the two fractions.\n",
    "print(fraction_1 * fraction_2)"
   ]
  },
  {
   "cell_type": "code",
   "execution_count": 20,
   "id": "621d4c8a-95f3-4f7d-8192-6de639d2d553",
   "metadata": {},
   "outputs": [
    {
     "name": "stdout",
     "output_type": "stream",
     "text": [
      "1/4\n"
     ]
    }
   ],
   "source": [
    "# Dividing the two fractions.\n",
    "print(fraction_1 / fraction_2)"
   ]
  },
  {
   "cell_type": "code",
   "execution_count": 24,
   "id": "10668832-cf9e-4abb-a8a2-b069b41ccca9",
   "metadata": {},
   "outputs": [
    {
     "name": "stdout",
     "output_type": "stream",
     "text": [
      "1/10, 2/5\n"
     ]
    }
   ],
   "source": [
    "# Printing both fractions into the form of a/b.\n",
    "print(fraction_1, fraction_2, sep=', ')"
   ]
  },
  {
   "cell_type": "code",
   "execution_count": 26,
   "id": "5217b75b-c9f6-484e-b907-3a9ece5a516f",
   "metadata": {},
   "outputs": [
    {
     "name": "stdout",
     "output_type": "stream",
     "text": [
      "0.1, 0.4\n"
     ]
    }
   ],
   "source": [
    "# Converting both fractions into floating-point numbers.\n",
    "print(float(fraction_1), float(fraction_2), sep=', ')"
   ]
  },
  {
   "cell_type": "markdown",
   "id": "9f6d9d77",
   "metadata": {},
   "source": [
    "***\n",
    "\n",
    "<center><em>----- End of Homework -----</em><center>"
   ]
  },
  {
   "cell_type": "markdown",
   "id": "84838657",
   "metadata": {},
   "source": [
    "<br>\n",
    "<br>\n",
    "<br>"
   ]
  }
 ],
 "metadata": {
  "kernelspec": {
   "display_name": "Python 3 (ipykernel)",
   "language": "python",
   "name": "python3"
  },
  "language_info": {
   "codemirror_mode": {
    "name": "ipython",
    "version": 3
   },
   "file_extension": ".py",
   "mimetype": "text/x-python",
   "name": "python",
   "nbconvert_exporter": "python",
   "pygments_lexer": "ipython3",
   "version": "3.9.12"
  }
 },
 "nbformat": 4,
 "nbformat_minor": 5
}
