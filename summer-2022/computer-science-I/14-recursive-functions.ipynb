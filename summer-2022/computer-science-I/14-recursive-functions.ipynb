{
 "cells": [
  {
   "cell_type": "markdown",
   "id": "9a37a6ef-106d-41cb-a1f6-40ffd6ae5eeb",
   "metadata": {},
   "source": [
    "# Homework #14\n",
    "\n",
    "`COSC210`\n",
    "`Chapter 11: Recursion, Searching, Sorting and Big O`\n",
    "`Soobin Rho`\n",
    "***"
   ]
  },
  {
   "cell_type": "markdown",
   "id": "208e8e82",
   "metadata": {},
   "source": [
    "<center><b><em>Approximating the value of pi</em></b></center>"
   ]
  },
  {
   "cell_type": "code",
   "execution_count": 99,
   "id": "f2735895-27b0-4ac9-b0f4-100ae8377cf4",
   "metadata": {},
   "outputs": [],
   "source": [
    "'''Approximates the value of pi with recursion.'''\n",
    "\n",
    "def approximate_pi(recursion_depth: int) -> float:\n",
    "    '''A recursive function for approximating the value of pi.'''\n",
    "    \n",
    "    # The formula for the pi approximation.\n",
    "    value = (-1)**recursion_depth * 4\n",
    "    value = value / (2 * recursion_depth + 1)\n",
    "\n",
    "    # --------------------------------------------- #\n",
    "    # The Base Case\n",
    "    # --------------------------------------------- #\n",
    "    # If recursion_depth is 0,\n",
    "    # stop the recursion and return the value.\n",
    "    if recursion_depth == 0: return value\n",
    "    \n",
    "    # --------------------------------------------- #\n",
    "    # The Recursive Step\n",
    "    # --------------------------------------------- #    \n",
    "    # Until recursion_depth becomes 0,\n",
    "    # recursively call this fuction itself.\n",
    "    else:\n",
    "        value += approximate_pi(recursion_depth - 1)\n",
    "        return value\n",
    "    "
   ]
  },
  {
   "cell_type": "code",
   "execution_count": 105,
   "id": "6be39e65-184d-4568-9f43-0f51f2d3dab2",
   "metadata": {},
   "outputs": [
    {
     "name": "stdout",
     "output_type": "stream",
     "text": [
      "=============================\n",
      "Approximating the value of pi\n",
      "=============================\n",
      "\n"
     ]
    },
    {
     "data": {
      "text/plain": [
       "3.1425916543395442"
      ]
     },
     "execution_count": 105,
     "metadata": {},
     "output_type": "execute_result"
    }
   ],
   "source": [
    "# Printing the title.\n",
    "str_title = 'Approximating the value of pi'\n",
    "print(len(str_title) * '=')\n",
    "print(str_title)\n",
    "print((len(str_title) * '=') + '\\n')\n",
    "\n",
    "# Calling the function.\n",
    "approximate_pi(1000)"
   ]
  },
  {
   "cell_type": "markdown",
   "id": "f87bdabe-b72b-43d2-89f4-902d883565c4",
   "metadata": {},
   "source": [
    "<center><b><em>Finding the Max Value in a List</em></b></center>"
   ]
  },
  {
   "cell_type": "code",
   "execution_count": 101,
   "id": "8e114434-d617-46af-b6e7-e4166e4f148c",
   "metadata": {},
   "outputs": [],
   "source": [
    "'''Find the max value from a list.'''\n",
    "import sys\n",
    "import math\n",
    "\n",
    "def get_max(\n",
    "        # Through each recursion,\n",
    "        # the list gets smaller by one element.\n",
    "        input_list: list, \n",
    "    \n",
    "        # Assigning the lowest possible float as the\n",
    "        # default value of current_max value.\n",
    "        current_max: float = math.floor(-(sys.float_info.max))\n",
    "    ) -> float:\n",
    "    '''A recursive function for finding the max value in a list.'''\n",
    "    \n",
    "    # Checking if the list has a bigger value than current_max.\n",
    "    if input_list[0] > current_max: \n",
    "        current_max = input_list[0]\n",
    "        \n",
    "    # --------------------------------------------- #\n",
    "    # The Base Case\n",
    "    # --------------------------------------------- #\n",
    "    # If there's only one element left in input_list,\n",
    "    # stop the recursion and return current_max.\n",
    "    if len(input_list) == 1: return current_max\n",
    "    \n",
    "    # --------------------------------------------- #\n",
    "    # The Recursive Step\n",
    "    # --------------------------------------------- #    \n",
    "    # Until there's no more element left in input_list,\n",
    "    # call the function itself recursively.\n",
    "    else: return get_max(input_list[1:], current_max)\n",
    "    "
   ]
  },
  {
   "cell_type": "code",
   "execution_count": 96,
   "id": "f440c7bb-bc83-4509-9172-9b7d762a9926",
   "metadata": {},
   "outputs": [
    {
     "name": "stdout",
     "output_type": "stream",
     "text": [
      "===============================\n",
      "Finding the Max Value in a List\n",
      "===============================\n",
      "\n"
     ]
    },
    {
     "data": {
      "text/plain": [
       "15"
      ]
     },
     "execution_count": 96,
     "metadata": {},
     "output_type": "execute_result"
    }
   ],
   "source": [
    "# Printing the title.\n",
    "str_title = 'Finding the Max Value in a List'\n",
    "print(len(str_title) * '=')\n",
    "print(str_title)\n",
    "print((len(str_title) * '=') + '\\n')\n",
    "\n",
    "# Calling the function.\n",
    "input_list = [-10, 15, -7, 2, 0, 3, 7, 12]\n",
    "get_max(input_list)"
   ]
  },
  {
   "cell_type": "code",
   "execution_count": null,
   "id": "6ca81575-751c-472c-a54f-427097d5ab08",
   "metadata": {},
   "outputs": [],
   "source": []
  },
  {
   "cell_type": "markdown",
   "id": "9f6d9d77",
   "metadata": {},
   "source": [
    "***\n",
    "\n",
    "<center><em>----- End of Homework -----</em><center>"
   ]
  },
  {
   "cell_type": "markdown",
   "id": "dad6efde-f06d-415e-8548-f72da7ebb3db",
   "metadata": {},
   "source": [
    "<br>\n",
    "<br>\n",
    "<br>"
   ]
  }
 ],
 "metadata": {
  "kernelspec": {
   "display_name": "Python 3 (ipykernel)",
   "language": "python",
   "name": "python3"
  },
  "language_info": {
   "codemirror_mode": {
    "name": "ipython",
    "version": 3
   },
   "file_extension": ".py",
   "mimetype": "text/x-python",
   "name": "python",
   "nbconvert_exporter": "python",
   "pygments_lexer": "ipython3",
   "version": "3.9.12"
  }
 },
 "nbformat": 4,
 "nbformat_minor": 5
}
