{
 "cells": [
  {
   "cell_type": "markdown",
   "id": "e9004867",
   "metadata": {},
   "source": [
    "# COSC 210: Introduction to Python Programming\n",
    "### FUNCTIONS\n",
    "\n",
    "In this notebook, we will cover\n",
    "- defining functions\n",
    "- functions with and without formal parameters\n",
    "- functions with multiple parameters\n",
    "- Default Parameters and Keyword Arguments\n",
    "- Arbitrary Arguements\n",
    "- Python Standard Library\n",
    "- Scope\n",
    "- import function\n",
    "- Measures of Dispersion and NumPy\n",
    "\n",
    "### Defining functions\n",
    "\n",
    "In this course, we have used many functions, including: print() range() input() etc...\n",
    "\n",
    "However, sometimes you will want to define your own functions.\n",
    "\n",
    "To do so, you need to define the function with def"
   ]
  },
  {
   "cell_type": "code",
   "execution_count": null,
   "id": "c3e52af5",
   "metadata": {},
   "outputs": [],
   "source": [
    "#def function_name(formal parameters and defaults):\n",
    "\n",
    "#   ''' doc string to give information on the function'''\n",
    "\n",
    "#   body of function\n",
    "\n",
    "#   return value # optional, you can also use print()\n",
    "\n",
    "#function_name(actual parameters) "
   ]
  },
  {
   "cell_type": "code",
   "execution_count": null,
   "id": "37f38e6c",
   "metadata": {},
   "outputs": [],
   "source": [
    "# First, a function with no formal parameters\n",
    "\n",
    "def instructions():\n",
    "    '''This will give the instructions'''\n",
    "    print(\"Here are some instructions that you need. They are important\")\n",
    "\n",
    "instructions()"
   ]
  },
  {
   "cell_type": "code",
   "execution_count": null,
   "id": "7f519de3",
   "metadata": {},
   "outputs": [],
   "source": [
    "# A function with one formal parameter\n",
    "\n",
    "def square(number: float) -> float:\n",
    "    \n",
    "    '''Calculate the square of the number'''\n",
    "    \n",
    "    return number ** 2\n",
    "\n",
    "square(8)"
   ]
  },
  {
   "cell_type": "code",
   "execution_count": null,
   "id": "2cda5d9c",
   "metadata": {},
   "outputs": [],
   "source": [
    "square(5.5)"
   ]
  },
  {
   "cell_type": "markdown",
   "id": "71930870",
   "metadata": {},
   "source": [
    "#### Type Annotations\n",
    "\n",
    "- Type annotations are not necessary for a code to function properly\n",
    "- Because Python is a dynamic typed language, we do not need to specify the input and output types for our functions\n",
    "- Even if you deliberately state an input type, you can still pass other types into the function\n",
    " - It may or may not work depending on if it is a legal operation\n",
    "- Type annotations are useful for documentation and designing cleaner code\n",
    "- They are also useful if using a code editor\n",
    " - Can raise type errors before compiling\n",
    " - Allows autocomplete of statements\n"
   ]
  },
  {
   "cell_type": "code",
   "execution_count": null,
   "id": "dd53794a",
   "metadata": {},
   "outputs": [],
   "source": [
    "# Return statements and None type\n",
    "def g():\n",
    "    print(\"Hello World\")\n",
    "\n",
    "a = g()\n",
    "print(a)"
   ]
  },
  {
   "cell_type": "code",
   "execution_count": null,
   "id": "0ebca340",
   "metadata": {},
   "outputs": [],
   "source": [
    "# Identify the formal parameters and the docstring with the keyword of the function followed by a ?\n",
    "square?"
   ]
  },
  {
   "cell_type": "code",
   "execution_count": null,
   "id": "c958b122",
   "metadata": {},
   "outputs": [],
   "source": [
    "# Use two ?? to see the entire function\n",
    "square??"
   ]
  },
  {
   "cell_type": "code",
   "execution_count": null,
   "id": "c341337d",
   "metadata": {},
   "outputs": [],
   "source": [
    "help(square)"
   ]
  },
  {
   "cell_type": "markdown",
   "id": "7d817552",
   "metadata": {},
   "source": [
    "### Exercise 1\n",
    "\n",
    "Write a function that calculates the square root of a number named square_root(). It will take one arguement (a float) and return a float. Include type annotations and docstring. Then call the function with the parameter equal to 16."
   ]
  },
  {
   "cell_type": "code",
   "execution_count": null,
   "id": "5c82ecd9",
   "metadata": {},
   "outputs": [],
   "source": []
  },
  {
   "cell_type": "code",
   "execution_count": null,
   "id": "47e4a1a8",
   "metadata": {},
   "outputs": [],
   "source": [
    "# Multiple formal parameters\n",
    "\n",
    "def maximum(value1: float, value2: float, value3: float) -> float:\n",
    "    \"\"\" Return the maximum of three values\"\"\"\n",
    "    max_value = value1\n",
    "    if value2 > max_value:\n",
    "        max_value = value2\n",
    "    if value3 > max_value:\n",
    "        max_value = value3\n",
    "    return max_value\n",
    "\n",
    "maximum(12.3, 45.6, 9.7)"
   ]
  },
  {
   "cell_type": "code",
   "execution_count": null,
   "id": "2bfd67ab",
   "metadata": {},
   "outputs": [],
   "source": [
    "# Even if we don't enter floats into here, it will still calculate the max for us\n",
    "maximum(12, 27, 36)"
   ]
  },
  {
   "cell_type": "code",
   "execution_count": null,
   "id": "4f6084a2",
   "metadata": {},
   "outputs": [],
   "source": [
    "# Same as above but with strings. Strings will be order in alphabetical order\n",
    "maximum(\"yellow\", \"zebra\", \"orange\")"
   ]
  },
  {
   "cell_type": "code",
   "execution_count": null,
   "id": "aa7ebd19",
   "metadata": {},
   "outputs": [],
   "source": [
    "# A custom function with default parameters\n",
    "\n",
    "def hello(day: str, name: str = 'friend'):\n",
    "    print(f'Hello, {name}! Nice {day} to you!')\n",
    "\n",
    "hello('Monday')"
   ]
  },
  {
   "cell_type": "code",
   "execution_count": null,
   "id": "59ce4bd1",
   "metadata": {},
   "outputs": [],
   "source": [
    "# Parameters will be set according to the order you place arguments\n",
    "hello('Monday','George')"
   ]
  },
  {
   "cell_type": "code",
   "execution_count": null,
   "id": "e93f327c",
   "metadata": {},
   "outputs": [],
   "source": [
    "# You can place the arguments out of order as long as you use the keywords\n",
    "hello(name = 'George', day = 'Monday')"
   ]
  },
  {
   "cell_type": "markdown",
   "id": "5e6d7983",
   "metadata": {},
   "source": [
    "### Exercise 2\n",
    "\n",
    "Create a function called hypotenuse that takes two inputs (both floats) with default values of 3 and 4. The function will return the length of a right triangles hypotenuse as a float value. Include type annotations and a docsting. Call the function and get the default value for the return and then try it for sides 6 and 8."
   ]
  },
  {
   "cell_type": "code",
   "execution_count": null,
   "id": "b433947d",
   "metadata": {},
   "outputs": [],
   "source": []
  },
  {
   "cell_type": "markdown",
   "id": "1c6f4fdb",
   "metadata": {},
   "source": [
    "### Arbitrary Arguments\n",
    "\n",
    "We use arbitrary arguments when we do not want to limit the number of parameters for a function"
   ]
  },
  {
   "cell_type": "code",
   "execution_count": null,
   "id": "42ce48d2",
   "metadata": {},
   "outputs": [],
   "source": [
    "def tips(percent: float, *args: float) -> float:\n",
    "    \"\"\"This function will calculate the tips a server earns based on the percentage for shift\n",
    "    and the sum of all the receipts for the shift.\"\"\"\n",
    "    \n",
    "    return percent * sum(args) "
   ]
  },
  {
   "cell_type": "code",
   "execution_count": null,
   "id": "136ffca9",
   "metadata": {},
   "outputs": [],
   "source": [
    "receipts = [18.40,24.80,42.24,8.69,31.47]"
   ]
  },
  {
   "cell_type": "code",
   "execution_count": null,
   "id": "d15f755e",
   "metadata": {},
   "outputs": [],
   "source": [
    "tips(.2,18.40,24.80,42.24,8.69,31.47)"
   ]
  },
  {
   "cell_type": "code",
   "execution_count": null,
   "id": "eb30e9bf",
   "metadata": {},
   "outputs": [],
   "source": [
    "tips(.15,*receipts)"
   ]
  },
  {
   "cell_type": "markdown",
   "id": "55f8b25b",
   "metadata": {},
   "source": [
    "### Exercise 3\n",
    "Write a function that uses arbitrary arguments to calculate the geometric mean of a series. The geometric mean is the product of all numbers in a series taken to the (1/n) power.\n",
    "- Call the function \"geo\" \n",
    "- it will take an arbitrary number of arguments (floats)\n",
    "- return a float \n",
    "- Then calculate the geometric mean for the x series below."
   ]
  },
  {
   "cell_type": "code",
   "execution_count": null,
   "id": "efefe6f2",
   "metadata": {},
   "outputs": [],
   "source": [
    "x = [5.0,7.8,2.4,5.9,2.4,1.5,5.8,7.6,3.9,11.4]"
   ]
  },
  {
   "cell_type": "markdown",
   "id": "bf813f8a",
   "metadata": {},
   "source": [
    "### Python Standard Library\n",
    "\n",
    "Check out the list of [modules](https://docs.python.org/3/library/)\n",
    "\n",
    "We will use the math module today"
   ]
  },
  {
   "cell_type": "code",
   "execution_count": null,
   "id": "9e12afd8",
   "metadata": {},
   "outputs": [],
   "source": [
    "# We can import indivdual functions like this. Notice how we do not need to use the module name first when\n",
    "# calling the function\n",
    "from math import sqrt"
   ]
  },
  {
   "cell_type": "code",
   "execution_count": null,
   "id": "38c9d1bc",
   "metadata": {},
   "outputs": [],
   "source": [
    "sqrt(16)"
   ]
  },
  {
   "cell_type": "code",
   "execution_count": null,
   "id": "72fd7fa3",
   "metadata": {},
   "outputs": [],
   "source": [
    "## Or we can import the whole module to use all the functions\n",
    "import math"
   ]
  },
  {
   "cell_type": "code",
   "execution_count": null,
   "id": "beea6317",
   "metadata": {},
   "outputs": [],
   "source": [
    "math.trunc(1.5)"
   ]
  },
  {
   "cell_type": "code",
   "execution_count": null,
   "id": "7a5d2315",
   "metadata": {},
   "outputs": [],
   "source": [
    "## Some modules have very long names so we can shorten them for ease of use in our code\n",
    "import math as clown"
   ]
  },
  {
   "cell_type": "code",
   "execution_count": null,
   "id": "a9e9a5b4",
   "metadata": {},
   "outputs": [],
   "source": [
    "clown.log(145)"
   ]
  },
  {
   "cell_type": "code",
   "execution_count": null,
   "id": "e7dbce61",
   "metadata": {},
   "outputs": [],
   "source": [
    "import math as m\n",
    "m.log(67)"
   ]
  },
  {
   "cell_type": "markdown",
   "id": "51399889",
   "metadata": {},
   "source": [
    "### Exercies 4\n",
    "- Look at the documentation for the \"random\" module in the python standard library\n",
    "- import the random module\n",
    "- use the randrange() function to simulate a dice roll (one through six) "
   ]
  },
  {
   "cell_type": "code",
   "execution_count": null,
   "id": "d6603ce7",
   "metadata": {},
   "outputs": [],
   "source": []
  },
  {
   "cell_type": "markdown",
   "id": "44a114c3",
   "metadata": {},
   "source": [
    "### Methods\n",
    "\n",
    "Methods are functions that can be perfored on an object. The format for methods is object_name.method_name(argument)."
   ]
  },
  {
   "cell_type": "code",
   "execution_count": null,
   "id": "b065c9b8",
   "metadata": {},
   "outputs": [],
   "source": [
    "note = 'TwO MoRe DaYs UnTiL tHe WeEkEnD'"
   ]
  },
  {
   "cell_type": "markdown",
   "id": "ab1a51ca",
   "metadata": {},
   "source": [
    "The .lower() and .upper() methods turn a string all lower or upper case respectively"
   ]
  },
  {
   "cell_type": "code",
   "execution_count": null,
   "id": "375da729",
   "metadata": {},
   "outputs": [],
   "source": [
    "note.lower()"
   ]
  },
  {
   "cell_type": "code",
   "execution_count": null,
   "id": "42ccaf13",
   "metadata": {},
   "outputs": [],
   "source": [
    "note.upper()"
   ]
  },
  {
   "cell_type": "markdown",
   "id": "c73adfe3",
   "metadata": {},
   "source": [
    "### Scope\n",
    "- Global scope is for variables defined outside of functions. They can be used anywhere in the code (globally!)\n",
    "- Local scope is for variables defined inside a funciton. They can only be used inside of that function"
   ]
  },
  {
   "cell_type": "code",
   "execution_count": null,
   "id": "73a8a0b6",
   "metadata": {},
   "outputs": [],
   "source": [
    "x = 7\n",
    "\n",
    "def from_global():\n",
    "    print('x printed from access_global:', x)\n",
    "    \n",
    "def try_to_modify_global():\n",
    "    x = 3.5\n",
    "    print(\"x printed from try_to_modify_global\", x)\n",
    "\n",
    "from_global()\n",
    "try_to_modify_global()\n",
    "print('x from global', x)"
   ]
  },
  {
   "cell_type": "markdown",
   "id": "119ed92e",
   "metadata": {},
   "source": [
    "Under normal circumstances, we cannot reassign a global variable within a function. The function will just create a new local variable. We can use the \"global\" statement to get around this."
   ]
  },
  {
   "cell_type": "code",
   "execution_count": null,
   "id": "c16538e6",
   "metadata": {},
   "outputs": [],
   "source": [
    "x = 7\n",
    "\n",
    "def modify_global():\n",
    "    global x\n",
    "    x = 3.5\n",
    "    print(\"x printed from modify_global\", x)\n",
    "\n",
    "modify_global()\n",
    "print('x from global', x)"
   ]
  },
  {
   "cell_type": "markdown",
   "id": "df561ecc",
   "metadata": {},
   "source": [
    "### Exercise 5"
   ]
  },
  {
   "cell_type": "code",
   "execution_count": null,
   "id": "b7b34949",
   "metadata": {},
   "outputs": [],
   "source": [
    "# Why does this code give an error?\n",
    "a = 1\n",
    "\n",
    "def f(x):\n",
    "    y= 1\n",
    "    z = g(x+1)+y\n",
    "    return z\n",
    "def g(x):\n",
    "    return x*(y+a)\n",
    "f(1)"
   ]
  },
  {
   "cell_type": "markdown",
   "id": "20c5bbbd",
   "metadata": {},
   "source": [
    "### Returning Multiple Values and Tuples"
   ]
  },
  {
   "cell_type": "code",
   "execution_count": null,
   "id": "237f71e6",
   "metadata": {},
   "outputs": [],
   "source": [
    "def return_two() -> tuple[int,int]:\n",
    "    x = 7\n",
    "    y = 9\n",
    "    return x,y"
   ]
  },
  {
   "cell_type": "code",
   "execution_count": null,
   "id": "92323317",
   "metadata": {},
   "outputs": [],
   "source": [
    "type(return_two())"
   ]
  },
  {
   "cell_type": "markdown",
   "id": "b5baebc5",
   "metadata": {},
   "source": [
    "### Craps Game\n",
    "\n",
    "Let's unpack these functions to figure out what the game does before it gets played"
   ]
  },
  {
   "cell_type": "code",
   "execution_count": null,
   "id": "bd062f63",
   "metadata": {},
   "outputs": [],
   "source": [
    "\"\"\"Simulating the dice game Craps.\"\"\"\n",
    "import random\n",
    "\n",
    "def roll_dice() -> tuple[int,int]:\n",
    "    \"\"\"Roll two dice and return their face values as a tuple.\"\"\"\n",
    "    die1 = random.randrange(1, 7)\n",
    "    die2 = random.randrange(1, 7)\n",
    "    return (die1, die2)  # pack die face values into a tuple\n",
    "\n",
    "def display_dice(dice: tuple):\n",
    "    \"\"\"Display one roll of the two dice.\"\"\"\n",
    "    die1, die2 = dice  # unpack the tuple into variables die1 and die2\n",
    "    print(f'Player rolled {die1} + {die2} = {sum(dice)}')\n",
    "\n",
    "die_values = roll_dice()  # first roll\n",
    "display_dice(die_values)\n",
    "\n",
    "# determine game status and point, based on first roll\n",
    "sum_of_dice = sum(die_values)\n",
    "\n",
    "if sum_of_dice in (7, 11):  # win\n",
    "    game_status = 'WON'\n",
    "elif sum_of_dice in (2, 3, 12):  # lose\n",
    "    game_status = 'LOST'\n",
    "else:  # remember point\n",
    "    game_status = 'CONTINUE'\n",
    "    my_point = sum_of_dice\n",
    "    print('Point is', my_point)\n",
    "\n",
    "# continue rolling until player wins or loses\n",
    "while game_status == 'CONTINUE':\n",
    "    die_values = roll_dice()\n",
    "    display_dice(die_values)\n",
    "    sum_of_dice = sum(die_values)\n",
    "\n",
    "    if sum_of_dice == my_point:  # win by making point\n",
    "        game_status = 'WON'\n",
    "    elif sum_of_dice == 7:  # lose by rolling 7\n",
    "        game_status = 'LOST'\n",
    "\n",
    "# display \"wins\" or \"loses\" message\n",
    "if game_status == 'WON':\n",
    "    print('Player wins')\n",
    "else:\n",
    "    print('Player loses')"
   ]
  },
  {
   "cell_type": "markdown",
   "id": "11d1f5f4",
   "metadata": {},
   "source": [
    "### Passing Arguments and IDs"
   ]
  },
  {
   "cell_type": "code",
   "execution_count": null,
   "id": "5f4a0ef0",
   "metadata": {},
   "outputs": [],
   "source": [
    "## We can look at the ID number for a variable. This is the location it is stored in our memory\n",
    "\n",
    "x = 5\n",
    "id(x)"
   ]
  },
  {
   "cell_type": "code",
   "execution_count": null,
   "id": "842cd16b",
   "metadata": {},
   "outputs": [],
   "source": [
    "# When we pass an argument to a fucntion we are not passing the actual value but the location in which\n",
    "# we can find that value\n",
    "\n",
    "def returner(num: int) -> int:\n",
    "    \"\"\"Takes an integer, prints it's reference ID, and returns the same integer\"\"\"\n",
    "    print(id(num))\n",
    "    return num\n",
    "returner(x)\n",
    "id(x)"
   ]
  },
  {
   "cell_type": "code",
   "execution_count": null,
   "id": "49706746",
   "metadata": {},
   "outputs": [],
   "source": [
    "## Once we assign a new value to an object, the location in which it is store changes. This means it is immutable\n",
    "\n",
    "x = 7\n",
    "id(x)"
   ]
  },
  {
   "cell_type": "markdown",
   "id": "58486e6f",
   "metadata": {},
   "source": [
    "### Measures of Dispersion\n",
    "Let's first load our modules. Both statistics and NumPy will give us the tools we need\n",
    "\n",
    "Check out NumPy's statistics [documentation](https://numpy.org/doc/stable/reference/routines.statistics.html)"
   ]
  },
  {
   "cell_type": "code",
   "execution_count": null,
   "id": "4e2416ab",
   "metadata": {},
   "outputs": [],
   "source": [
    "import statistics\n",
    "import numpy as np"
   ]
  },
  {
   "cell_type": "code",
   "execution_count": null,
   "id": "a4c05f38",
   "metadata": {},
   "outputs": [],
   "source": [
    "x = [22.1,10.4,12,16.5,17.9,7.2,11.8,13.2,4.8,15.6,12.6,17.4,9.2,13.7,19,22.1]"
   ]
  },
  {
   "cell_type": "markdown",
   "id": "67dbf6df",
   "metadata": {},
   "source": [
    "#### Population Var and StDev\n",
    "\n",
    "If this were a population (it's not but let's assume) then we would use the Population Variance and Standard Devation"
   ]
  },
  {
   "cell_type": "code",
   "execution_count": null,
   "id": "793dda04",
   "metadata": {},
   "outputs": [],
   "source": [
    "statistics.pstdev(x)"
   ]
  },
  {
   "cell_type": "code",
   "execution_count": null,
   "id": "4b3c1a64",
   "metadata": {},
   "outputs": [],
   "source": [
    "statistics.pvariance(x)"
   ]
  },
  {
   "cell_type": "markdown",
   "id": "3cee9fe8",
   "metadata": {},
   "source": [
    "We can get the same info from NumPy"
   ]
  },
  {
   "cell_type": "code",
   "execution_count": null,
   "id": "c70aab41",
   "metadata": {},
   "outputs": [],
   "source": [
    "np.std(x)"
   ]
  },
  {
   "cell_type": "code",
   "execution_count": null,
   "id": "69ef662d",
   "metadata": {},
   "outputs": [],
   "source": [
    "np.var(x)"
   ]
  },
  {
   "cell_type": "markdown",
   "id": "314c0219",
   "metadata": {},
   "source": [
    "#### Sample Var and StDev\n",
    "\n",
    "Since this IS a sample, we should be finding the sample Variance and Standard Devation"
   ]
  },
  {
   "cell_type": "code",
   "execution_count": null,
   "id": "60aa29f4",
   "metadata": {},
   "outputs": [],
   "source": [
    "statistics.stdev(x)"
   ]
  },
  {
   "cell_type": "code",
   "execution_count": null,
   "id": "cad45be6",
   "metadata": {},
   "outputs": [],
   "source": [
    "statistics.variance(x)"
   ]
  },
  {
   "cell_type": "markdown",
   "id": "9cea2e71",
   "metadata": {},
   "source": [
    "We can get the same info from NumPy"
   ]
  },
  {
   "cell_type": "code",
   "execution_count": null,
   "id": "c0739cce",
   "metadata": {},
   "outputs": [],
   "source": [
    "np.std(x, ddof = 1)"
   ]
  },
  {
   "cell_type": "code",
   "execution_count": null,
   "id": "1ecf0973",
   "metadata": {},
   "outputs": [],
   "source": [
    "np.var(x, ddof = 1)"
   ]
  },
  {
   "cell_type": "markdown",
   "id": "53401583",
   "metadata": {},
   "source": [
    "### Exercise 6\n",
    "Look at NumPy's documentation and find the Mean, Median, Sample Standard Deviation, Sample Variance, and Range for the data below"
   ]
  },
  {
   "cell_type": "code",
   "execution_count": null,
   "id": "848fca07",
   "metadata": {},
   "outputs": [],
   "source": [
    "import numpy as np\n",
    "y = [179,160,136,227,217,168,108,124,143,140]"
   ]
  },
  {
   "cell_type": "code",
   "execution_count": null,
   "id": "6b469e5d",
   "metadata": {},
   "outputs": [],
   "source": [
    "# Mean\n",
    "# Median\n",
    "# St Dev\n",
    "# Variance\n",
    "# Range"
   ]
  },
  {
   "cell_type": "code",
   "execution_count": null,
   "id": "f5ac28f6",
   "metadata": {},
   "outputs": [],
   "source": []
  },
  {
   "cell_type": "code",
   "execution_count": null,
   "id": "5b2a5c9b",
   "metadata": {},
   "outputs": [],
   "source": []
  }
 ],
 "metadata": {
  "kernelspec": {
   "display_name": "Python 3 (ipykernel)",
   "language": "python",
   "name": "python3"
  },
  "language_info": {
   "codemirror_mode": {
    "name": "ipython",
    "version": 3
   },
   "file_extension": ".py",
   "mimetype": "text/x-python",
   "name": "python",
   "nbconvert_exporter": "python",
   "pygments_lexer": "ipython3",
   "version": "3.9.12"
  }
 },
 "nbformat": 4,
 "nbformat_minor": 5
}
