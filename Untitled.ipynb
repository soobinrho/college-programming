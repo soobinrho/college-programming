{
 "cells": [
  {
   "cell_type": "code",
   "execution_count": 2,
   "id": "bfc34810-5d88-4d31-9790-a3accad1cc6e",
   "metadata": {},
   "outputs": [],
   "source": [
    "class A:\n",
    "    x = 5    \n",
    "    z = 2\n",
    "    _y = 10"
   ]
  },
  {
   "cell_type": "code",
   "execution_count": 10,
   "id": "fccfbb6a-53a6-41c9-bd00-d886eb44965c",
   "metadata": {},
   "outputs": [
    {
     "data": {
      "text/plain": [
       "10"
      ]
     },
     "execution_count": 10,
     "metadata": {},
     "output_type": "execute_result"
    }
   ],
   "source": [
    "test = A()\n",
    "test._y"
   ]
  }
 ],
 "metadata": {
  "kernelspec": {
   "display_name": "Python 3 (ipykernel)",
   "language": "python",
   "name": "python3"
  },
  "language_info": {
   "codemirror_mode": {
    "name": "ipython",
    "version": 3
   },
   "file_extension": ".py",
   "mimetype": "text/x-python",
   "name": "python",
   "nbconvert_exporter": "python",
   "pygments_lexer": "ipython3",
   "version": "3.9.12"
  }
 },
 "nbformat": 4,
 "nbformat_minor": 5
}
