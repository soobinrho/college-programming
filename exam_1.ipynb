{
 "cells": [
  {
   "cell_type": "markdown",
   "id": "9a37a6ef-106d-41cb-a1f6-40ffd6ae5eeb",
   "metadata": {},
   "source": [
    "# Exam #1\n",
    "\n",
    "`COSC210`\n",
    "`Soobin Rho`\n",
    "***"
   ]
  },
  {
   "cell_type": "markdown",
   "id": "0ce9acac",
   "metadata": {},
   "source": [
    "<center><b><em>Guess The Number</em></b></center>"
   ]
  },
  {
   "cell_type": "code",
   "execution_count": 2,
   "id": "cf3f738f",
   "metadata": {},
   "outputs": [
    {
     "name": "stdout",
     "output_type": "stream",
     "text": [
      "==================================\n",
      "         GUESS THE NUMBER\n",
      "==================================\n",
      "Intergers Only | Between 1 And 100\n",
      "==================================\n",
      "\n",
      "Enter: 50\n",
      "50 is lower than the number.\n",
      "Enter: 75\n",
      "75 is higher than the number.\n",
      "Enter: 60\n",
      "60 is lower than the number.\n",
      "Enter: 70\n",
      "70 is higher than the number.\n",
      "Enter: 65\n",
      "65 is lower than the number.\n",
      "Enter: 67\n",
      "67 is higher than the number.\n",
      "Enter: 66\n",
      "\n",
      "Nice! You found it! It is 66.\n",
      "Good job! See you later :)\n"
     ]
    }
   ],
   "source": [
    "'''Number Guessing Game'''\n",
    "import random\n",
    "\n",
    "def guess_the_number():\n",
    "    '''\n",
    "    1. Computer chooses a random number.\n",
    "    2. Prompts the user to choose an integer.\n",
    "    3. Tells if the guess was higher, lower, or correct.\n",
    "    '''\n",
    "    \n",
    "    # 1. Choose a random number.\n",
    "    number_correct = random.randrange(1, 101)\n",
    "    \n",
    "    # Loop until boolean_correct becomes true.\n",
    "    boolean_correct = False\n",
    "    while boolean_correct != True:\n",
    "\n",
    "        # 2. Get user input.\n",
    "        number_user_guess = int(input('Enter: '))\n",
    "\n",
    "        # 3. Tell if it was higher, lower, or correct.\n",
    "        # Possibility 1: Higher\n",
    "        if(number_user_guess > number_correct):\n",
    "            print(f'{number_user_guess} is higher than the number.')\n",
    "\n",
    "        # Possibility 2: Lower\n",
    "        elif(number_user_guess < number_correct):\n",
    "            print(f'{number_user_guess} is lower than the number.')\n",
    "        \n",
    "        # Possibility 3: Correct\n",
    "        else:\n",
    "            boolean_correct = True\n",
    "            print(f'\\nNice! You found it! It is {number_correct}.')\n",
    "            print('Good job! See you later :)')\n",
    "\n",
    "print('==================================')\n",
    "print('         GUESS THE NUMBER')\n",
    "print('==================================')\n",
    "print('Intergers Only | Between 1 And 100')\n",
    "print('==================================\\n')\n",
    "    \n",
    "# Call the main function.\n",
    "guess_the_number()"
   ]
  },
  {
   "cell_type": "markdown",
   "id": "9f6d9d77",
   "metadata": {},
   "source": [
    "***\n",
    "\n",
    "<center><em>----- End of Homework -----</em><center>"
   ]
  },
  {
   "cell_type": "markdown",
   "id": "84838657",
   "metadata": {},
   "source": [
    "<br>\n",
    "<br>\n",
    "<br>"
   ]
  }
 ],
 "metadata": {
  "kernelspec": {
   "display_name": "Python 3 (ipykernel)",
   "language": "python",
   "name": "python3"
  },
  "language_info": {
   "codemirror_mode": {
    "name": "ipython",
    "version": 3
   },
   "file_extension": ".py",
   "mimetype": "text/x-python",
   "name": "python",
   "nbconvert_exporter": "python",
   "pygments_lexer": "ipython3",
   "version": "3.9.12"
  }
 },
 "nbformat": 4,
 "nbformat_minor": 5
}
