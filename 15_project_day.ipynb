{
 "cells": [
  {
   "cell_type": "markdown",
   "id": "9a37a6ef-106d-41cb-a1f6-40ffd6ae5eeb",
   "metadata": {},
   "source": [
    "# Project Day\n",
    "\n",
    "`COSC210`\n",
    "`Soobin Rho`\n",
    "***"
   ]
  },
  {
   "cell_type": "markdown",
   "id": "208e8e82",
   "metadata": {},
   "source": [
    "<center><b><em>Making a Class</em></b></center>"
   ]
  },
  {
   "cell_type": "markdown",
   "id": "a6075738-b293-4338-9f03-d601ee40017b",
   "metadata": {},
   "source": [
    " The Invoice class is defined and it's saved as `invoice.py`. The class could just have been defined in a cell on this notebook file directly; the class didn't have to be saved in a file, but I did it as an exercise."
   ]
  },
  {
   "cell_type": "code",
   "execution_count": 1,
   "id": "aec4f3e8-c6e2-4011-a3c7-08ea41f7181f",
   "metadata": {},
   "outputs": [],
   "source": [
    "# Matplotlib. \n",
    "# 1. Triangle Class. Maybe generic angle triangles.\n",
    "# 2. Child of (1.). Maybe a right angle triangle.\n",
    "# \"Python's Class Development Toolkit\"\n",
    "# by Raymond Hettinger\n",
    "# https://www.youtube.com/watch?v=HTLu2DFOdTg\n",
    "#\n",
    "# \"Raymond Hettinger - Beyond PEP 8 -- Best practices for beautiful intelligible code - PyCon 2015\"\n",
    "# https://www.youtube.com/watch?v=wf-BqAjZb8M\n",
    "\n",
    "'''Docstring'''\n",
    "\n",
    "class graph_trinalge(object):\n",
    "    '''Docstring'''\n",
    "    \n",
    "    version = '1.0'\n",
    "    \n",
    "    def __init__(self, v1):\n",
    "        self._v1 = v1\n",
    "    \n",
    "    @property\n",
    "    def v1(self):\n",
    "        return self._v1\n",
    "\n",
    "    @v1.setter\n",
    "    def v1(self, v1):\n",
    "        self._v1 = v1"
   ]
  },
  {
   "cell_type": "code",
   "execution_count": 4,
   "id": "c024cf64-0df3-403a-b360-ea41b8a29d28",
   "metadata": {},
   "outputs": [
    {
     "data": {
      "text/plain": [
       "0.1"
      ]
     },
     "execution_count": 4,
     "metadata": {},
     "output_type": "execute_result"
    }
   ],
   "source": [
    "from collections import namedtuple\n",
    "\n",
    "Color = namedtuple('Color', ['hue', 'saturation', 'luminosity'])\n",
    "color_1 = Color(170, 0.1, 0.6)\n",
    "color_1.saturation"
   ]
  },
  {
   "cell_type": "code",
   "execution_count": 5,
   "id": "6be39e65-184d-4568-9f43-0f51f2d3dab2",
   "metadata": {},
   "outputs": [
    {
     "name": "stdout",
     "output_type": "stream",
     "text": [
      "============================\n",
      "Invoices for Hardware Stores\n",
      "============================\n",
      "\n",
      "               Screws\n",
      "Part Number         1\n",
      "Quantity Sold     125\n",
      "Price Per Item   1.28\n",
      "\n",
      "Total price = $160.0\n",
      "\n",
      "               WD-40\n",
      "Part Number        2\n",
      "Quantity Sold     12\n",
      "Price Per Item  9.99\n",
      "\n",
      "Total price = $119.88\n"
     ]
    }
   ],
   "source": [
    "# Printing the title.\n",
    "str_title = 'Invoices for Hardware Stores'\n",
    "print(len(str_title) * '=')\n",
    "print(str_title)\n",
    "print((len(str_title) * '=') + '\\n')\n",
    "\n",
    "# An invoice for screws.\n",
    "invoice_1 = Invoice('1', 'Screws', 125, 1.28)\n",
    "print(invoice_1)\n",
    "\n",
    "# Calculating the total price.\n",
    "total = invoice_1.calculate_invoice()\n",
    "print(f'\\nTotal price = ${total}\\n')\n",
    "\n",
    "# An invoice for WD-40's.\n",
    "invoice_2 = Invoice('2', 'WD-40', 12, 9.99)\n",
    "print(invoice_2)\n",
    "\n",
    "# Calculating the total price.\n",
    "total = invoice_2.calculate_invoice()\n",
    "print(f'\\nTotal price = ${total}')"
   ]
  },
  {
   "cell_type": "markdown",
   "id": "9f6d9d77",
   "metadata": {},
   "source": [
    "***\n",
    "\n",
    "<center><em>----- End of Homework -----</em><center>"
   ]
  },
  {
   "cell_type": "markdown",
   "id": "dad6efde-f06d-415e-8548-f72da7ebb3db",
   "metadata": {},
   "source": [
    "<br>\n",
    "<br>\n",
    "<br>"
   ]
  }
 ],
 "metadata": {
  "kernelspec": {
   "display_name": "Python 3 (ipykernel)",
   "language": "python",
   "name": "python3"
  },
  "language_info": {
   "codemirror_mode": {
    "name": "ipython",
    "version": 3
   },
   "file_extension": ".py",
   "mimetype": "text/x-python",
   "name": "python",
   "nbconvert_exporter": "python",
   "pygments_lexer": "ipython3",
   "version": "3.9.12"
  }
 },
 "nbformat": 4,
 "nbformat_minor": 5
}
