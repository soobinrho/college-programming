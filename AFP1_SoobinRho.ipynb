{
 "cells": [
  {
   "cell_type": "markdown",
   "id": "9a37a6ef-106d-41cb-a1f6-40ffd6ae5eeb",
   "metadata": {},
   "source": [
    "# Chapter 8: Techniques of Integration\n",
    "\n",
    "`Calculus II`\n",
    "`AFP1`\n",
    "`June 8, 2022`\n",
    "`Soobin Rho`"
   ]
  },
  {
   "cell_type": "markdown",
   "id": "0ce9acac",
   "metadata": {},
   "source": [
    "### 8.2.80 \n",
    "### $$\\int log_2(x)\\,dx$$\n",
    "\n",
    "The"
   ]
  },
  {
   "cell_type": "markdown",
   "id": "6aa8d0e0",
   "metadata": {},
   "source": [
    "$$\\iint r(\\cos\\varphi+\\sin\\varphi)\\,d\\varphi\\,dr$$\n",
    "$$\\iiint 1 \\,dx \\,dy \\,dz$$\n",
    "$$\\int_0^1 x^2 \\,dx= \\frac13$$\n",
    "\n",
    "$$\\int x\\cos x\\, dx = \\left| \\begin{array}{cc} u=x & v'=\\cos x \\\\ u'=1 & v=\\sin x \\end{array} \\right|  = x\\sin x - \\int \\sin x \\,dx$$\n",
    "\n",
    "$$\\int_a^b f(x) \\,dx,$$ $\\int_a^b f(x) \\,dx$ and $\\int\\limits_a^b f(x)\\,dx$."
   ]
  }
 ],
 "metadata": {
  "kernelspec": {
   "display_name": "Python 3 (ipykernel)",
   "language": "python",
   "name": "python3"
  },
  "language_info": {
   "codemirror_mode": {
    "name": "ipython",
    "version": 3
   },
   "file_extension": ".py",
   "mimetype": "text/x-python",
   "name": "python",
   "nbconvert_exporter": "python",
   "pygments_lexer": "ipython3",
   "version": "3.9.12"
  }
 },
 "nbformat": 4,
 "nbformat_minor": 5
}
