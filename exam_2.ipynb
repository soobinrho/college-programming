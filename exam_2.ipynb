{
 "cells": [
  {
   "cell_type": "markdown",
   "id": "9a37a6ef-106d-41cb-a1f6-40ffd6ae5eeb",
   "metadata": {},
   "source": [
    "# Exam #2\n",
    "\n",
    "`COSC210`\n",
    "`Soobin Rho`\n",
    "***"
   ]
  },
  {
   "cell_type": "markdown",
   "id": "0ce9acac",
   "metadata": {},
   "source": [
    "<center><b><em>cosh(numpy.euler_gamma)</em></b></center>"
   ]
  },
  {
   "cell_type": "code",
   "execution_count": 1,
   "id": "cf3f738f",
   "metadata": {},
   "outputs": [
    {
     "data": {
      "text/plain": [
       "1.1712659507785417"
      ]
     },
     "execution_count": 1,
     "metadata": {},
     "output_type": "execute_result"
    }
   ],
   "source": [
    "'''Calculates hyperbolic cosine of Euler Gamma'''\n",
    "import numpy as np\n",
    "\n",
    "np.cosh(np.euler_gamma)"
   ]
  },
  {
   "cell_type": "markdown",
   "id": "919795df",
   "metadata": {},
   "source": [
    "<center><b><em>One Name, One Number</em></b></center>"
   ]
  },
  {
   "cell_type": "code",
   "execution_count": 23,
   "id": "cb00e9e5",
   "metadata": {},
   "outputs": [
    {
     "name": "stdout",
     "output_type": "stream",
     "text": [
      "====================\n",
      "One Name, One Number\n",
      "====================\n"
     ]
    }
   ],
   "source": [
    "'''Prints the name 1~5 times.'''\n",
    "\n",
    "def print_name(number: int, name: str = 'Soobin'):\n",
    "    '''\n",
    "    1. If the number is greater than 5, print \"That's a lot of loops\"\n",
    "    2. If (0 <= the number <= 5), print the name that amount of times.\n",
    "    3. If the number is neither (1.) nor (2.), print \"No Loops\"\n",
    "    '''\n",
    "    \n",
    "    # 1. Print \"'That's a lot of loops'\"\n",
    "    if(number > 5):\n",
    "        print(\"'That's a lot of loops'\")\n",
    "    \n",
    "    # 2. Print the name that amount of times.\n",
    "    elif(number > 0):\n",
    "        for count in range(number):\n",
    "            print(name)\n",
    "    \n",
    "    # 3. Print \"'No Loops'\"\n",
    "    else:\n",
    "        print(\"'No Loops'\")\n",
    "    \n",
    "print('====================')\n",
    "print('One Name, One Number')\n",
    "print('====================')"
   ]
  },
  {
   "cell_type": "code",
   "execution_count": 21,
   "id": "ea80d086",
   "metadata": {},
   "outputs": [
    {
     "name": "stdout",
     "output_type": "stream",
     "text": [
      "'No Loops'\n"
     ]
    }
   ],
   "source": [
    "# Call the main function.\n",
    "print_name(0, 'Soobin')"
   ]
  },
  {
   "cell_type": "code",
   "execution_count": 22,
   "id": "7e086993",
   "metadata": {},
   "outputs": [
    {
     "name": "stdout",
     "output_type": "stream",
     "text": [
      "'That's a lot of loops'\n"
     ]
    }
   ],
   "source": [
    "# Call the main function.\n",
    "print_name(6, 'Soobin')"
   ]
  },
  {
   "cell_type": "code",
   "execution_count": 19,
   "id": "fadc9915",
   "metadata": {},
   "outputs": [
    {
     "name": "stdout",
     "output_type": "stream",
     "text": [
      "Soobin\n",
      "Soobin\n",
      "Soobin\n"
     ]
    }
   ],
   "source": [
    "# Call the main function.\n",
    "print_name(3, 'Soobin')"
   ]
  },
  {
   "cell_type": "markdown",
   "id": "9f6d9d77",
   "metadata": {},
   "source": [
    "***\n",
    "\n",
    "<center><em>----- End of Exam -----</em><center>"
   ]
  },
  {
   "cell_type": "markdown",
   "id": "84838657",
   "metadata": {},
   "source": [
    "<br>\n",
    "<br>\n",
    "<br>"
   ]
  }
 ],
 "metadata": {
  "kernelspec": {
   "display_name": "Python 3 (ipykernel)",
   "language": "python",
   "name": "python3"
  },
  "language_info": {
   "codemirror_mode": {
    "name": "ipython",
    "version": 3
   },
   "file_extension": ".py",
   "mimetype": "text/x-python",
   "name": "python",
   "nbconvert_exporter": "python",
   "pygments_lexer": "ipython3",
   "version": "3.9.12"
  }
 },
 "nbformat": 4,
 "nbformat_minor": 5
}
