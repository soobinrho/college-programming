{
 "cells": [
  {
   "cell_type": "markdown",
   "id": "9a37a6ef-106d-41cb-a1f6-40ffd6ae5eeb",
   "metadata": {},
   "source": [
    "# Day 2 Homework\n",
    "\n",
    "`CS210`\n",
    "`Chapter 2: Introduction to Python Programming`\n",
    "`Soobin Rho`"
   ]
  },
  {
   "cell_type": "markdown",
   "id": "4e81c54a-b975-46bb-a2e8-262ededb7c12",
   "metadata": {},
   "source": [
    "### Part 1: *Fahrenheit to Celsius*"
   ]
  },
  {
   "cell_type": "code",
   "execution_count": 233,
   "id": "5fe23ca1-6bbd-4204-9912-4cd8fc2e0f0e",
   "metadata": {},
   "outputs": [
    {
     "name": "stdin",
     "output_type": "stream",
     "text": [
      "Enter the temperature in Fahrenheit:  77\n"
     ]
    },
    {
     "name": "stdout",
     "output_type": "stream",
     "text": [
      "77 degrees Fahrenheit is equal to 25 degrees Celsius.\n"
     ]
    }
   ],
   "source": [
    "# Input\n",
    "input_temp = eval(input(\"Enter the temperature in Fahrenheit: \"))\n",
    "\n",
    "# Convert the Fahrenheit into Celcius\n",
    "output_temp = (input_temp - 32) * (5 / 9)\n",
    "\n",
    "# Output\n",
    "print(int(input_temp), \"degrees Fahrenheit is equal to\", int(output_temp), \"degrees Celsius.\")"
   ]
  },
  {
   "cell_type": "markdown",
   "id": "67885184-92cf-4443-b54d-7da987b1f560",
   "metadata": {},
   "source": [
    "### Part 2: *Four 4s*"
   ]
  },
  {
   "cell_type": "code",
   "execution_count": 232,
   "id": "6afcb93e-10f2-4ff8-8152-3c807ab1955c",
   "metadata": {},
   "outputs": [
    {
     "name": "stdout",
     "output_type": "stream",
     "text": [
      "0 is:  0\n",
      "1 is:  1.0\n",
      "2 is:  2\n",
      "3 is:  3\n",
      "4 is:  4\n",
      "5 is:  5\n",
      "6 is:  6\n",
      "7 is:  7\n",
      "8 is:  8\n",
      "9 is:  9.0\n"
     ]
    }
   ],
   "source": [
    "print(\"0 is: \", 4 + 4 - 4 - 4)\n",
    "print(\"1 is: \", 4 - 4 + 4 / 4)\n",
    "print(\"2 is: \", 4 * 4 // (4 + 4))\n",
    "print(\"3 is: \",  -4 // (4 + 4) + 4)\n",
    "print(\"4 is: \", 4 // 4 // 4 + 4)\n",
    "print(\"5 is: \", 4 + 4 // 4 % 4)\n",
    "print(\"6 is: \", (4 + 4) // 4 + 4)\n",
    "print(\"7 is: \", 4 + 4 - 4 // 4)\n",
    "print(\"8 is: \", 4 + 4 + 4 - 4)\n",
    "print(\"9 is: \", 4 / 4 + 4 + 4)\n",
    "\n",
    "\n",
    "\n",
    "\n",
    "\n"
   ]
  }
 ],
 "metadata": {
  "kernelspec": {
   "display_name": "Python 3 (ipykernel)",
   "language": "python",
   "name": "python3"
  },
  "language_info": {
   "codemirror_mode": {
    "name": "ipython",
    "version": 3
   },
   "file_extension": ".py",
   "mimetype": "text/x-python",
   "name": "python",
   "nbconvert_exporter": "python",
   "pygments_lexer": "ipython3",
   "version": "3.9.12"
  }
 },
 "nbformat": 4,
 "nbformat_minor": 5
}
