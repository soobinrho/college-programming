{
 "cells": [
  {
   "cell_type": "markdown",
   "id": "9a37a6ef-106d-41cb-a1f6-40ffd6ae5eeb",
   "metadata": {},
   "source": [
    "# Day 3 Homework\n",
    "\n",
    "`COSC210`\n",
    "`Chapter 3: Control Flow`\n",
    "`Soobin Rho`"
   ]
  },
  {
   "cell_type": "markdown",
   "id": "0ce9acac",
   "metadata": {},
   "source": [
    "### Initialization"
   ]
  },
  {
   "cell_type": "code",
   "execution_count": 2,
   "id": "663adb14",
   "metadata": {},
   "outputs": [],
   "source": [
    "import random\n",
    "\n",
    "# Copied from `comp_choice.py` as instructed.\n",
    "def comp_choice():\n",
    "    '''\n",
    "    When called, this function returns \n",
    "    a random item from the rock, paper, scissors list\n",
    "    '''\n",
    "\n",
    "    rps = [\"rock\", \"paper\", \"scissors\"]\n",
    "    return random.choices(rps)[0]"
   ]
  },
  {
   "cell_type": "markdown",
   "id": "4e81c54a-b975-46bb-a2e8-262ededb7c12",
   "metadata": {},
   "source": [
    "### Rock, Paper, Scissors"
   ]
  },
  {
   "cell_type": "code",
   "execution_count": 3,
   "id": "10eca6bf",
   "metadata": {},
   "outputs": [
    {
     "name": "stdout",
     "output_type": "stream",
     "text": [
      "===================\n",
      "Rock Paper Scissors\n",
      "===================\n",
      "\n",
      "Enter either rock, paper, or scissors: scissors\n",
      "\n",
      "scissors(You) vs scissors(Computer) = Draw.\n",
      "Resetting...\n",
      "\n",
      "Enter either rock, paper, or scissors: scissors\n",
      "\n",
      "scissors(You) vs paper(Computer) = Nice :) You won!\n",
      "Would you like to play again? (y, n) Enter: n\n",
      "Bbye :)\n"
     ]
    }
   ],
   "source": [
    "# Main function\n",
    "def play_rock_paper_scissors():\n",
    "    \n",
    "    # User input\n",
    "    string = '\\nEnter either rock, paper, or scissors: '\n",
    "    user_choice = input(string)\n",
    "    \n",
    "    # If user_choice is invalid, this function \n",
    "    # returns True. At the bottom, you'll find the main loop. \n",
    "    # This program doesn't stop until this function\n",
    "    # returns False. This functions returns False\n",
    "    # when the user answers `n` to the prompt at the end.\n",
    "    if ((user_choice != 'rock') and\n",
    "       (user_choice != 'paper') and\n",
    "       (user_choice != 'scissors')):\n",
    "        print('Please type either rock, paper, or scissors.')\n",
    "        return True\n",
    "\n",
    "    # Get a randomly-generated value from\n",
    "    # the function `comp_choice`.\n",
    "    computer_choice = comp_choice()\n",
    "\n",
    "    # Print `user_choice` and `computer_choice`\n",
    "    string = f'\\n{user_choice}(You) vs {computer_choice}(Computer) ='\n",
    "    print(string, end=' ')\n",
    "\n",
    "    #### IF statements for determining who won.\n",
    "    # 0. (user_choice) vs (computer_choice)\n",
    "    # 1. rock\n",
    "    # 2. paper\n",
    "    # 3. scissors\n",
    "    ####\n",
    "\n",
    "    # 1. rock\n",
    "    if user_choice == 'rock':\n",
    "\n",
    "        # Winning situation\n",
    "        if computer_choice == 'scissors':\n",
    "            print('Nice :) You won!')\n",
    "\n",
    "        # Losing situation\n",
    "        elif computer_choice == 'paper':\n",
    "            print('Computer won.')\n",
    "\n",
    "        # Draw situation\n",
    "        else:\n",
    "            print('Draw.')\n",
    "            return True\n",
    "\n",
    "    # 2. paper\n",
    "    if user_choice == 'paper':\n",
    "\n",
    "        # Winning situation\n",
    "        if computer_choice == 'rock':\n",
    "            print('Nice :) You won!')\n",
    "\n",
    "        # Losing situation\n",
    "        elif computer_choice == 'scissors':\n",
    "            print('Computer won.')\n",
    "\n",
    "        # Draw situation\n",
    "        else:\n",
    "            print('Draw.')\n",
    "            return True\n",
    "\n",
    "    # 3. scissors\n",
    "    if user_choice == 'scissors':\n",
    "\n",
    "        # Winning situation\n",
    "        if computer_choice == 'paper':\n",
    "            print('Nice :) You won!')\n",
    "\n",
    "        # Losing situation\n",
    "        elif computer_choice == 'rock':\n",
    "            print('Computer won.')\n",
    "\n",
    "        # Draw situation\n",
    "        else:\n",
    "            print('Draw.')\n",
    "            return True\n",
    "        \n",
    "    # Ask if the user wants to play again.\n",
    "    print('Would you like to play again? (y, n)', end=' ')\n",
    "    user_choice_exit = input('Enter: ')\n",
    "    \n",
    "    # If `n`, return False so that the main loop can finish.\n",
    "    if user_choice_exit == 'n':\n",
    "        return False\n",
    "\n",
    "    # If `y`, return True so that the main loop can go on.\n",
    "    else:\n",
    "        return True\n",
    "    \n",
    "print('===================')\n",
    "print('Rock Paper Scissors')\n",
    "print('===================')\n",
    "\n",
    "# Main loop\n",
    "boolean_keep_playing = True\n",
    "while boolean_keep_playing == True:\n",
    "    \n",
    "    # The main function returns True if\n",
    "    # the game has to be played again.\n",
    "    boolean_keep_playing = play_rock_paper_scissors()\n",
    "    if boolean_keep_playing == True:\n",
    "        print('Resetting...')\n",
    "    else:\n",
    "        print('Bbye :)')"
   ]
  },
  {
   "cell_type": "markdown",
   "id": "9f6d9d77",
   "metadata": {},
   "source": [
    "*----- End of Homework -----*"
   ]
  }
 ],
 "metadata": {
  "kernelspec": {
   "display_name": "Python 3 (ipykernel)",
   "language": "python",
   "name": "python3"
  },
  "language_info": {
   "codemirror_mode": {
    "name": "ipython",
    "version": 3
   },
   "file_extension": ".py",
   "mimetype": "text/x-python",
   "name": "python",
   "nbconvert_exporter": "python",
   "pygments_lexer": "ipython3",
   "version": "3.9.12"
  }
 },
 "nbformat": 4,
 "nbformat_minor": 5
}
