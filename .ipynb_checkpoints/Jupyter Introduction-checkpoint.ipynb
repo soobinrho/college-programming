{
 "cells": [
  {
   "cell_type": "markdown",
   "metadata": {},
   "source": [
    "# COSC 210: Welcome to Jupyter Notebooks!"
   ]
  },
  {
   "cell_type": "markdown",
   "metadata": {},
   "source": [
    "   We will use these notebooks to complete coding exercises, homework assignments, and the group projects.\n",
    "\n",
    "   This notebook will introduce you to some of the jargon and you will learn to use some of the important features."
   ]
  },
  {
   "cell_type": "markdown",
   "metadata": {},
   "source": [
    "## Important Vocabulary\n",
    "\n",
    "- **Cell** - the fundamental unit of a notebook, these rectangular boxes are where you execute code or markdown.\n",
    "- **Dependencies** - all the additional modules, packages, and libraries required to execute the code blocks in your notebook.\n",
    "- **Kernel** - the program that runs and introspects your code in the background. The type of kernel will indicate what [language](https://github.com/jupyter/jupyter/wiki/Jupyter-kernels) you can write in the notebook's code cells. AoU supports Python and R kernels. \n",
    "- **Library** - a collection of functions and methods that allows you to perform several operations without writing your own code. A library could contain several modules.\n",
    "- **Markdown** - a lightweight markup language with plain text formatting syntax used to write text in a cell.\n",
    "- **Modules** - code that provides a piece of functionality. "
   ]
  },
  {
   "cell_type": "code",
   "execution_count": null,
   "metadata": {},
   "outputs": [],
   "source": []
  },
  {
   "cell_type": "code",
   "execution_count": null,
   "metadata": {},
   "outputs": [],
   "source": []
  },
  {
   "cell_type": "code",
   "execution_count": null,
   "metadata": {},
   "outputs": [],
   "source": []
  },
  {
   "cell_type": "markdown",
   "metadata": {},
   "source": [
    "## How to add or remove cells\n",
    "\n",
    "To add a cell (three options):\n",
    "* Click the + icon in the menubar\n",
    "* Insert -> Choose Cell Above or Below your current cell\n",
    "* press ESC A\n",
    "\n",
    "\n",
    "To remove a cell (three options):\n",
    "* Click the scissors icon in the menubar\n",
    "* Edit -> Delete or Cut cells\n",
    "* press ESC X (for cut) ESC d d (for delete)\n",
    "\n",
    "**Try removing the cell below. Then try adding it back**"
   ]
  },
  {
   "cell_type": "markdown",
   "metadata": {},
   "source": [
    "\n",
    "Hello"
   ]
  },
  {
   "cell_type": "code",
   "execution_count": 2,
   "metadata": {},
   "outputs": [
    {
     "name": "stdout",
     "output_type": "stream",
     "text": [
      "Hello\n"
     ]
    }
   ],
   "source": [
    "    \n",
    "    \n",
    "    ### Remove this cell and add it back\n",
    "print('Hello')"
   ]
  },
  {
   "cell_type": "markdown",
   "metadata": {},
   "source": [
    "## Exercise One - Executing a code cell\n",
    "\n",
    "**Try these steps in the code cell below this markdown cell**\n",
    "1. Click on the cell. \n",
    "   The cell will default to \"Code\" mode. To use \"Markdown\" mode, change the type in the dropdown under the \"Code\" (**Note** Heading and Raw NBConvert are advanced cell type options). \n",
    "2. Type in some text and run the cell to see how the kernel interacts in each mode. \n",
    "3. To execute the cell, click the \"Run\" button in the menu-bar or use the short-cut (Shift-Enter). There are several options for executing cells underneath **Cell** in the menubar.\n",
    "4.  Type a piece of code, such as print(\"Hello world\")\n",
    "5. The cell is done executing when **In [*]**  turns to **In [a number]**.\n",
    "\n",
    "**Note about standard output:** When you execute a code cell, the kernel will often send a message with important information, including conflicts and warnings, as well as the actual command outputs. These are useful, but do not always demand action. If there is a problem executing the code, this will be clear when you read the output. With time, you'll be able to skim these messages. Don't be alarmed if you get output in a pale red box, for example!  \n"
   ]
  },
  {
   "cell_type": "code",
   "execution_count": 3,
   "metadata": {},
   "outputs": [
    {
     "name": "stdout",
     "output_type": "stream",
     "text": [
      "h\n"
     ]
    }
   ],
   "source": [
    "print('h')"
   ]
  },
  {
   "cell_type": "code",
   "execution_count": null,
   "metadata": {},
   "outputs": [],
   "source": []
  },
  {
   "cell_type": "markdown",
   "metadata": {},
   "source": [
    "## Exercise Two - Creating a \"markdown\" type cell\n",
    "\n",
    "1. Clicking on the open cell below\n",
    "2. Changing the dropdown box in the menubar above from \"Code\" to \"Markdown\"\n",
    "3. Copy the following sentence into the Markdown cell and fill in the blank: \"The ____ is the brain of the computer\"\n",
    "\n",
    "When you are done, click the \"Run\" button in the menubar or use the short-cut (Shift-Enter).\n"
   ]
  },
  {
   "cell_type": "markdown",
   "metadata": {},
   "source": [
    "# testing"
   ]
  },
  {
   "cell_type": "markdown",
   "metadata": {},
   "source": [
    "# Markdown Formatting"
   ]
  },
  {
   "cell_type": "markdown",
   "metadata": {},
   "source": [
    "The Hashmarks are used for section headings. The number of Hashmarks you use will change the size of the heading.\n",
    "\n",
    "The Astricks are used for inline highlights. The number of astricks you use on either side will change to bold or italics\n",
    "\n",
    "You can use a combination of square brackets and paratheses to create hyper links"
   ]
  },
  {
   "cell_type": "markdown",
   "metadata": {},
   "source": [
    "# One Hashmark - Largest Heading"
   ]
  },
  {
   "cell_type": "markdown",
   "metadata": {},
   "source": [
    "## Two Hashmarks - Large Heading"
   ]
  },
  {
   "cell_type": "markdown",
   "metadata": {},
   "source": [
    "### Three Hashmarks - Medium Heading"
   ]
  },
  {
   "cell_type": "markdown",
   "metadata": {},
   "source": [
    "#### Four Hashmarks - Small Heading"
   ]
  },
  {
   "cell_type": "markdown",
   "metadata": {},
   "source": [
    "##### Five Hashmarks - Small Italics Heading"
   ]
  },
  {
   "cell_type": "markdown",
   "metadata": {},
   "source": [
    "*One Astricks on Each Side* - Italics Inline"
   ]
  },
  {
   "cell_type": "markdown",
   "metadata": {},
   "source": [
    "**Two Astricks on Each Side** - Bold Inline"
   ]
  },
  {
   "cell_type": "markdown",
   "metadata": {},
   "source": [
    "***Three Astricks on Each Side*** - Bold Italics Inline"
   ]
  },
  {
   "cell_type": "markdown",
   "metadata": {},
   "source": [
    "[Hyperlink](https://www.augie.edu/)"
   ]
  },
  {
   "cell_type": "markdown",
   "metadata": {},
   "source": [
    "## Keyboard shortcuts\n",
    "\n",
    " - Evaluate a cell: `SHIFT + ENTER` or `CTRL + ENTER` "
   ]
  },
  {
   "cell_type": "markdown",
   "metadata": {},
   "source": [
    "## How to change the kernel (Python 2, Python 3, or R)\n",
    "\n",
    "Click **Kernel** -> **Change Kernel** -> Choose the language/version you want"
   ]
  },
  {
   "cell_type": "markdown",
   "metadata": {},
   "source": [
    "# HOMEWORK 1\n",
    "\n",
    "- Create a new Jupyter Notebook file\n",
    "- Create two cells: the first a Markdown cell and the second a Code cell\n",
    "- In the Markdown cell, write a few sentences about why you are taking computer science. Include a heading with hashmarks (hashtags) and bold or italicize a few key words in your sentences.\n",
    "- In the Code cell, type the following, adding your name after the : \n",
    "print(\"Hello, my name is: \") \n",
    "- Make sure to Evaluate (run) both cells\n",
    "- Upload this .ipynb to Canvas before the deadline"
   ]
  },
  {
   "cell_type": "markdown",
   "metadata": {},
   "source": [
    "# Soobin Rho |Python|"
   ]
  },
  {
   "cell_type": "code",
   "execution_count": null,
   "metadata": {},
   "outputs": [],
   "source": []
  }
 ],
 "metadata": {
  "kernelspec": {
   "display_name": "Python 3 (ipykernel)",
   "language": "python",
   "name": "python3"
  },
  "language_info": {
   "codemirror_mode": {
    "name": "ipython",
    "version": 3
   },
   "file_extension": ".py",
   "mimetype": "text/x-python",
   "name": "python",
   "nbconvert_exporter": "python",
   "pygments_lexer": "ipython3",
   "version": "3.9.12"
  }
 },
 "nbformat": 4,
 "nbformat_minor": 4
}
