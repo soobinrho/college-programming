{
 "cells": [
  {
   "cell_type": "markdown",
   "id": "f237b4fc",
   "metadata": {},
   "source": [
    "# COSC 210: Introduction to Python Programming\n",
    "\n",
    "## Chapter 2\n",
    "\n",
    "In this notebook, we will cover\n",
    "- comments\n",
    "- assignment\n",
    "- built-in types\n",
    "- operators and expressions\n",
    "- built-in functions\n",
    "    - help()\n",
    "    - print()\n",
    "    - input()\n",
    "- decision making...if statements\n",
    "- min and max"
   ]
  },
  {
   "cell_type": "code",
   "execution_count": null,
   "id": "0d1a54f4",
   "metadata": {},
   "outputs": [],
   "source": [
    "# This is a comment line, it starts with a \"#\" character. \n",
    "# This line is here to provide you with information, but deos not effect the program itself.\n",
    "# If we want to write regular text in a \"code block\" we must add it as a comment.\n",
    "\n",
    "# To run  the code in this cell, type shift+enter.\n",
    "\n",
    "# Instructions:\n",
    "# 1. The next line will print something.\n",
    "# 2. Change next line so it will print \"Hello World!\"\n",
    "# 3. Run this cell by presing shift+enter, ensure that it has correct output.\n",
    "\n",
    "print('Hello World!')"
   ]
  },
  {
   "cell_type": "markdown",
   "id": "416c46f7",
   "metadata": {},
   "source": [
    "### Variables and Assignment\n",
    "Variables (also called names and identifiers) store values for later use in the code. A variable can start with any character except a number. "
   ]
  },
  {
   "cell_type": "code",
   "execution_count": null,
   "id": "80318319",
   "metadata": {},
   "outputs": [],
   "source": [
    "# This is read as: abc is assigned to 5\n",
    "abc = 5\n",
    "print(\"abc is \", abc)\n",
    "\n",
    "# The values of 7 and 3 are stored in the variables x and y and evaluated in the last line\n",
    "x = 7\n",
    "y = 3\n",
    "x + y"
   ]
  },
  {
   "cell_type": "markdown",
   "id": "d49b4462",
   "metadata": {},
   "source": [
    "## In-Class Exercise 1\n",
    "\n",
    "Before executing the code below, what do you think will be the output of the code?"
   ]
  },
  {
   "cell_type": "code",
   "execution_count": null,
   "id": "c895320e",
   "metadata": {},
   "outputs": [],
   "source": [
    "a = 10\n",
    "b = 20\n",
    "#a = b\n",
    "print('The value of a is: ', a)\n",
    "print('The value of b is: ', b)"
   ]
  },
  {
   "cell_type": "markdown",
   "id": "99f01072",
   "metadata": {},
   "source": [
    "### Built-in types\n",
    "\n",
    "Values in Python take on built-in types. Variables can store data of different types, and different types can do different things.\n",
    "\n",
    "- Integers - whole numbers\n",
    "- Floats - decimal numbers\n",
    "- Strings - a series of characters in quotes\n",
    "\n",
    "You can use the type() function to figure out the type of a value.\n",
    "You can convert between types with the following functions.\n",
    "\n",
    "- int()\n",
    "- float()\n",
    "- str()"
   ]
  },
  {
   "cell_type": "code",
   "execution_count": null,
   "id": "cce00b67",
   "metadata": {},
   "outputs": [],
   "source": [
    "print(\"5 is \", type(5))\n",
    "print(\"5.0 is \", type(5.0))\n",
    "print(\"'5' is \", type('5'))"
   ]
  },
  {
   "cell_type": "markdown",
   "id": "2498aba9",
   "metadata": {},
   "source": [
    "### Operators and Expressions\n",
    "**Expressions** are anything that is evaluated. **Operators** are character that represent an action in our expressions. Expressions are evaluated in the following order... PEMDAS. \n",
    "\n",
    "Here are the arithmetic operator symbols:\n",
    "- Addition: +\n",
    "- Subtraction: -\n",
    "- Multiplication: *\n",
    "- Division: /\n",
    "- Floor Division: //\n",
    "- Modulo (Remainder): %\n",
    "- Exponent: **\n",
    "\n"
   ]
  },
  {
   "cell_type": "markdown",
   "id": "e6641112",
   "metadata": {},
   "source": [
    "We also have Logical operators which give comparisons for our expressions:\n",
    "- Less than: <\n",
    "- Less than or equal to: <=\n",
    "- Greater than: >\n",
    "- Greater than or equal to: >=\n",
    "- Is equal to: ==\n",
    "- Is not equal to: !=\n",
    "\n",
    "A logical operator will result in a Boolean data type which is just a True or False answer"
   ]
  },
  {
   "cell_type": "markdown",
   "id": "5ba2e694",
   "metadata": {},
   "source": [
    "## In Class Exercise 2\n",
    "\n",
    "Before running the following code, what will the output be for each line?"
   ]
  },
  {
   "cell_type": "code",
   "execution_count": null,
   "id": "9f6f4bb6",
   "metadata": {},
   "outputs": [],
   "source": [
    "print(5>2)\n",
    "print(5<2)\n",
    "print(5==2)\n",
    "print(4==4)\n",
    "print(5!=5)\n",
    "print(5>=4)"
   ]
  },
  {
   "cell_type": "markdown",
   "id": "6a1f4181",
   "metadata": {},
   "source": [
    "## Built-in functions\n",
    "\n",
    "- help()\n",
    "- print()\n",
    "- input()\n",
    "- min()\n",
    "- max()\n",
    "\n",
    "### help()\n",
    "Use the help() function to read the documentation for a function.\n",
    "\n",
    "### print()\n",
    "\n",
    "The print() function is incredibly useful for displaying arguments as text in console or to write to a file (covered later in this book)."
   ]
  },
  {
   "cell_type": "code",
   "execution_count": null,
   "id": "c735834e",
   "metadata": {},
   "outputs": [],
   "source": [
    "help(print)"
   ]
  },
  {
   "cell_type": "markdown",
   "id": "86ca8ecf",
   "metadata": {},
   "source": [
    "## In-Class Exercise 3\n",
    "\n",
    "- Use the help() function to find the documentation for print()\n",
    "- Inside of the print function, give three arguments \"Welcome\" \"to\" \"Python\" and evaluate\n",
    "- Change the seperator between the arguments from a space to an underscore ( _ )\n",
    "- Change the ending from defaulting to a new line to adding an exclamation point (!)"
   ]
  },
  {
   "cell_type": "code",
   "execution_count": null,
   "id": "0a1976b4",
   "metadata": {},
   "outputs": [],
   "source": []
  },
  {
   "cell_type": "markdown",
   "id": "674bc418",
   "metadata": {},
   "source": [
    "### input()\n",
    "To prompt the 'user'. A user is an individual who is running your script, but they are not looking at your code. Use input is commonly used to help the user interact with your program. When the input() function is executed from your script, it pauses the rest of the code and a box appears that accepts user keystrokes and saves it a string. After the user enters information, the next line of the code is run. "
   ]
  },
  {
   "cell_type": "code",
   "execution_count": null,
   "id": "56344cb7",
   "metadata": {},
   "outputs": [],
   "source": [
    "name = input(\"Enter your name: \")\n",
    "print(\"Your name is\", name)"
   ]
  },
  {
   "cell_type": "markdown",
   "id": "77cd59ec",
   "metadata": {},
   "source": [
    "Since the values are strings, we don't get addition here like we may expect. Instead, the two strings are concatenated together. The + symbol completes different operations on different types (strings, ints, and floats)"
   ]
  },
  {
   "cell_type": "code",
   "execution_count": null,
   "id": "1f4dbf89",
   "metadata": {},
   "outputs": [],
   "source": [
    "value1 = input(\"Enter a number: \")\n",
    "value2 = input(\"Enter a second number: \")\n",
    "print(value1 + value2)\n",
    "\n",
    "print(\"The type of value1 is, \", type(value1))\n",
    "print(\"The type of value2 is, \", type(value2))"
   ]
  },
  {
   "cell_type": "markdown",
   "id": "06baf80c",
   "metadata": {},
   "source": [
    "Use the eval() function to convert a string to a number. eval() changes strings that look like ints to ints and strings that look like floats to floats. "
   ]
  },
  {
   "cell_type": "code",
   "execution_count": null,
   "id": "3973b9da",
   "metadata": {},
   "outputs": [],
   "source": [
    "# Use the eval() function to convert a string to a number. \n",
    "# eval() changes strings that look like ints to ints and strings that look like floats to floats. \n",
    "value1 = eval(input(\"Enter a number: \"))\n",
    "value2 = eval(input(\"Enter a second number: \"))\n",
    "print(value1 + value2)\n",
    "\n",
    "print(\"The type of value1 is, \", type(value1))\n",
    "print(\"The type of value2 is, \", type(value2))"
   ]
  },
  {
   "cell_type": "markdown",
   "id": "ae7816a2",
   "metadata": {},
   "source": [
    "You can also use int() or float()"
   ]
  },
  {
   "cell_type": "code",
   "execution_count": null,
   "id": "bf0a7d52",
   "metadata": {},
   "outputs": [],
   "source": [
    "# You can also use int() or float()\n",
    "value1 = int(input(\"Enter a number: \"))\n",
    "value2 = int(input(\"Enter a second number: \"))\n",
    "print(value1 + value2)\n",
    "\n",
    "value3 = float(input(\"Enter a third: \"))\n",
    "value4 = float(input(\"Enter a second fourth: \"))\n",
    "print(value3 + value4)\n",
    "\n",
    "print(\"The type of value3 is, \", type(value3))\n",
    "print(\"The type of value4 is, \", type(value4))"
   ]
  },
  {
   "cell_type": "markdown",
   "id": "5572574b",
   "metadata": {},
   "source": [
    "### Control Statements\n",
    "\n",
    "Code runs in a sequential, line-by-line order. Often we will want to skip certain parts or repeat certain parts if a condition is met. The next chapter will talk about this topic of Control Flow. For now, we will introduce the if statement.\n",
    "\n",
    "## In Class Exercise 4\n",
    "\n",
    "In the code below what conditional(s) are we missing? Add as neccesary."
   ]
  },
  {
   "cell_type": "code",
   "execution_count": null,
   "id": "9b600f7d",
   "metadata": {},
   "outputs": [],
   "source": [
    "\"\"\" Comparing integers using if statements and comparison operators. \"\"\"\n",
    "\n",
    "# read the first integer\n",
    "number1 = int(input('Enter first integer: '))\n",
    "\n",
    "# read the second integer\n",
    "number2 = int(input('Enter second integer: '))\n",
    "\n",
    "if number1 == number2:\n",
    "    print(number1, 'is equal to', number2)\n",
    "    \n",
    "if number1 != number2:\n",
    "    print(number1, 'is not equal to', number2)"
   ]
  },
  {
   "cell_type": "markdown",
   "id": "d94d7d5d",
   "metadata": {},
   "source": [
    "## Summary Statistics in Python\n",
    "The help functions are useful for seeing what a command does, what arguments it accepts, and what it will return"
   ]
  },
  {
   "cell_type": "code",
   "execution_count": null,
   "id": "36d407ec",
   "metadata": {},
   "outputs": [],
   "source": [
    "help(min)"
   ]
  },
  {
   "cell_type": "code",
   "execution_count": null,
   "id": "b5770e8c",
   "metadata": {},
   "outputs": [],
   "source": [
    "help(max)"
   ]
  },
  {
   "cell_type": "markdown",
   "id": "4a8969ac",
   "metadata": {},
   "source": [
    "### Hands-On with Min and Max\n",
    "Find the Minimum of 15, 84, and 27"
   ]
  },
  {
   "cell_type": "code",
   "execution_count": null,
   "id": "a4a91af8",
   "metadata": {},
   "outputs": [],
   "source": [
    "# This is the code from our textbook which will\n",
    "# allow us to find the minimum of three integers.\n",
    "# It is not very useful but is a good example on\n",
    "# how the computer would think through the process\n",
    "# using \"if\" statements.\n",
    "\n",
    "# fig02_02.py\n",
    "\"\"\"Find the minimum of three values.\"\"\"\n",
    " \n",
    "number1 = int(input('Enter first integer: '))\n",
    "number2 = int(input('Enter second integer: '))\n",
    "number3 = int(input('Enter third integer: '))\n",
    "\n",
    "minimum = number1\n",
    "\n",
    "if number2 < minimum:\n",
    "    minimum = number2\n",
    "if number3 < minimum:\n",
    "    minimum = number3\n",
    "\n",
    "print('Minimum value is', minimum)"
   ]
  },
  {
   "cell_type": "code",
   "execution_count": null,
   "id": "6e3fe5d6",
   "metadata": {},
   "outputs": [],
   "source": [
    "## Find the min here\n",
    "min(15,84,27)"
   ]
  },
  {
   "cell_type": "code",
   "execution_count": null,
   "id": "cfdd7182",
   "metadata": {},
   "outputs": [],
   "source": [
    "## Find the max here\n",
    "max(15,84,27)"
   ]
  },
  {
   "cell_type": "code",
   "execution_count": null,
   "id": "2076551c",
   "metadata": {},
   "outputs": [],
   "source": [
    "## Find the range here\n",
    "max(15,84,27) - min(15,84,27)"
   ]
  },
  {
   "cell_type": "markdown",
   "id": "e23e4525",
   "metadata": {},
   "source": [
    "### New Object Type - List\n",
    "\n",
    "Lists are used to store multiple items in a single variable.\n",
    "\n",
    "Lists are one of 4 built-in data types in Python used to store collections of data, the other 3 are Tuple, Set, and Dictionary, all with different qualities and usage.\n",
    "\n",
    "Lists are created using square brackets:"
   ]
  },
  {
   "cell_type": "code",
   "execution_count": null,
   "id": "0eaca0fd",
   "metadata": {},
   "outputs": [],
   "source": [
    "x = [179,160,136,227,217,168,108,124,143,140]"
   ]
  },
  {
   "cell_type": "code",
   "execution_count": null,
   "id": "4e221e3d",
   "metadata": {},
   "outputs": [],
   "source": [
    "type(x)"
   ]
  },
  {
   "cell_type": "code",
   "execution_count": null,
   "id": "5f500020",
   "metadata": {},
   "outputs": [],
   "source": [
    "## Find the min of x here\n",
    "min(x)"
   ]
  },
  {
   "cell_type": "code",
   "execution_count": null,
   "id": "58697736",
   "metadata": {},
   "outputs": [],
   "source": [
    "## Find the max of x here\n",
    "max(x)"
   ]
  },
  {
   "cell_type": "code",
   "execution_count": null,
   "id": "886cf3a0",
   "metadata": {},
   "outputs": [],
   "source": [
    "## Find the range of x here\n",
    "max(x) - min(x)"
   ]
  }
 ],
 "metadata": {
  "kernelspec": {
   "display_name": "Python 3 (ipykernel)",
   "language": "python",
   "name": "python3"
  },
  "language_info": {
   "codemirror_mode": {
    "name": "ipython",
    "version": 3
   },
   "file_extension": ".py",
   "mimetype": "text/x-python",
   "name": "python",
   "nbconvert_exporter": "python",
   "pygments_lexer": "ipython3",
   "version": "3.8.12"
  }
 },
 "nbformat": 4,
 "nbformat_minor": 5
}
