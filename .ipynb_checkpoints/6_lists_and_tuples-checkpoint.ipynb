{
 "cells": [
  {
   "cell_type": "markdown",
   "id": "9a37a6ef-106d-41cb-a1f6-40ffd6ae5eeb",
   "metadata": {},
   "source": [
    "# Homework #6\n",
    "\n",
    "`COSC210`\n",
    "`Chapter 5: Lists and Tuples`\n",
    "`Soobin Rho`\n",
    "***"
   ]
  },
  {
   "cell_type": "markdown",
   "id": "0ce9acac",
   "metadata": {},
   "source": [
    "<center><b><em>\"abcdefg...\" List Slicing</em></b></center>"
   ]
  },
  {
   "cell_type": "code",
   "execution_count": 74,
   "id": "cf3f738f",
   "metadata": {},
   "outputs": [
    {
     "name": "stdout",
     "output_type": "stream",
     "text": [
      "============\n",
      "List Slicing\n",
      "============\n",
      "\n",
      "a. The first half of the string using starting and ending indices.\n",
      "['a', 'b', 'c', 'd', 'e', 'f', 'g', 'h', 'i', 'j', 'k', 'l', 'm']\n",
      "\n",
      "b. The first half of the string using only the ending index.\n",
      "['a', 'b', 'c', 'd', 'e', 'f', 'g', 'h', 'i', 'j', 'k', 'l', 'm']\n",
      "\n",
      "c. The second half of the string using starting and ending indices.\n",
      "['n', 'o', 'p', 'q', 'r', 's', 't', 'u', 'v', 'w', 'x', 'y', 'z']\n",
      "\n",
      "d. The second half of the string using only the starting index.\n",
      "['n', 'o', 'p', 'q', 'r', 's', 't', 'u', 'v', 'w', 'x', 'y', 'z']\n",
      "\n",
      "e. Every second letter in the string starting with 'a'.\n",
      "['a', 'c', 'e', 'g', 'i', 'k', 'm', 'o', 'q', 's', 'u', 'w', 'y']\n",
      "\n",
      "f. The entire string in reverse.\n",
      "['z', 'y', 'x', 'w', 'v', 'u', 't', 's', 'r', 'q', 'p', 'o', 'n', 'm', 'l', 'k', 'j', 'i', 'h', 'g', 'f', 'e', 'd', 'c', 'b', 'a']\n",
      "\n",
      "g. Every third letter of the string in reverse starting with 'z'.\n",
      "['z', 'w', 't', 'q', 'n', 'k', 'h', 'e', 'b']\n"
     ]
    }
   ],
   "source": [
    "'''List Slicing and Manipulation'''\n",
    "\n",
    "list_alphabet = []\n",
    "list_alphabet += 'abcdefghijklmnopqrstuvwxyz'\n",
    "\n",
    "# Initialize indexes.\n",
    "index_middle = int(len(list_alphabet) / 2)\n",
    "index_last = int(len(list_alphabet) - 1)\n",
    "\n",
    "print('============')\n",
    "print('List Slicing')\n",
    "print('============')\n",
    "\n",
    "print('\\na. The first half of the string using starting and ending indices.')\n",
    "print(list_alphabet[0:index_middle])\n",
    "\n",
    "print('\\nb. The first half of the string using only the ending index.')\n",
    "print(list_alphabet[:index_middle])\n",
    "\n",
    "print('\\nc. The second half of the string using starting and ending indices.') \n",
    "print(list_alphabet[index_middle:index_last + 1])\n",
    "\n",
    "print('\\nd. The second half of the string using only the starting index.')\n",
    "print(list_alphabet[index_middle:])\n",
    "\n",
    "print('\\ne. Every second letter in the string starting with \\'a\\'.')\n",
    "print(list_alphabet[::2])\n",
    "\n",
    "print('\\nf. The entire string in reverse.')\n",
    "print(list_alphabet[::-1])\n",
    "\n",
    "print('\\ng. Every third letter of the string in reverse starting with \\'z\\'.')\n",
    "print(list_alphabet[::-3])"
   ]
  },
  {
   "cell_type": "markdown",
   "id": "208e8e82",
   "metadata": {},
   "source": [
    "<center><b><em>Alphabet Frequency Count</em></b></center>"
   ]
  },
  {
   "cell_type": "code",
   "execution_count": 148,
   "id": "c312e757",
   "metadata": {},
   "outputs": [
    {
     "name": "stdout",
     "output_type": "stream",
     "text": [
      "========================\n",
      "Alphabet Frequency Count\n",
      "========================\n",
      "\n",
      "Enter: How many alphabets are in this sentence?\n",
      "\n",
      "\"How many alphabets are in this sentence?\" does not have all the alphabets in it!\n",
      "\n",
      "a = 4\n",
      "b = 1\n",
      "c = 1\n",
      "d = 0\n",
      "e = 5\n",
      "f = 0\n",
      "g = 0\n",
      "h = 3\n",
      "i = 2\n",
      "j = 0\n",
      "k = 0\n",
      "l = 1\n",
      "m = 1\n",
      "n = 4\n",
      "o = 1\n",
      "p = 1\n",
      "q = 0\n",
      "r = 1\n",
      "s = 3\n",
      "t = 3\n",
      "u = 0\n",
      "v = 0\n",
      "w = 1\n",
      "x = 0\n",
      "y = 1\n",
      "z = 0\n"
     ]
    }
   ],
   "source": [
    "'''Counts the frequency of each alphabet in a string'''\n",
    "import string\n",
    "\n",
    "def summarize_letters(str_input: str) -> list:\n",
    "    '''\n",
    "    1. Converts str_input to all lowercase.\n",
    "    2. Converts str_input into tuples.\n",
    "    3. Counts the frequency of each letter and \n",
    "       makes a list of tuples containing the frequency.\n",
    "    '''\n",
    "\n",
    "    # 1. Converts str_input to all lowercase.\n",
    "    str_input = str_input.lower()\n",
    "    \n",
    "    # 2. Converts str_input into tuples.    \n",
    "    str_input = tuple(str_input)\n",
    "    \n",
    "    # 3. Counts the frequency of each letter and \n",
    "    #    makes a list of tuples containing the frequency.\n",
    "    list_alphabet = tuple(string.ascii_lowercase)\n",
    "    list_frequency = []\n",
    "    for alphabet in list_alphabet:\n",
    "        \n",
    "        # The frequency of the alphabet.\n",
    "        frequency = str_input.count(alphabet)\n",
    "        \n",
    "        # Add the alphabet and the frequency to the list as a tuple.\n",
    "        list_frequency.append((alphabet, frequency))\n",
    "        \n",
    "    # The alphabet and the frequency are appended \n",
    "    # as a tuple. Therefore, the final return value \n",
    "    # is a list of tuples, as instructed.\n",
    "    return list_frequency\n",
    "    \n",
    "print('========================')\n",
    "print('Alphabet Frequency Count')\n",
    "print('========================\\n')\n",
    "    \n",
    "# Call the main function.\n",
    "str_input = input('Enter: ')\n",
    "list_frequency = summarize_letters(str_input)\n",
    "\n",
    "# Which alphabets were used zero times?\n",
    "list_alphabets_zero = list(filter(lambda x: x[1] == 0, list_frequency))\n",
    "\n",
    "# How many alphabets were used zero times?\n",
    "count_alphabets_zero = len(list_alphabets_zero)\n",
    "\n",
    "# Tell if the string had all the letters of the alphabet.\n",
    "if(count_alphabets_zero > 0):\n",
    "    print(f'\\n\"{str_input}\" does not have all the alphabets in it!\\n')\n",
    "    \n",
    "else:\n",
    "    print(f'\\n\"{str_input}\" does have all the alphabets in it!\\n')\n",
    "\n",
    "# Print the list.\n",
    "for item in list_frequency:\n",
    "    print(f'{item[0]} = {item[1]}')"
   ]
  },
  {
   "cell_type": "markdown",
   "id": "9f6d9d77",
   "metadata": {},
   "source": [
    "***\n",
    "\n",
    "<center><em>----- End of Homework -----</em><center>"
   ]
  },
  {
   "cell_type": "markdown",
   "id": "84838657",
   "metadata": {},
   "source": [
    "<br>\n",
    "<br>\n",
    "<br>"
   ]
  }
 ],
 "metadata": {
  "kernelspec": {
   "display_name": "Python 3 (ipykernel)",
   "language": "python",
   "name": "python3"
  },
  "language_info": {
   "codemirror_mode": {
    "name": "ipython",
    "version": 3
   },
   "file_extension": ".py",
   "mimetype": "text/x-python",
   "name": "python",
   "nbconvert_exporter": "python",
   "pygments_lexer": "ipython3",
   "version": "3.9.12"
  }
 },
 "nbformat": 4,
 "nbformat_minor": 5
}
