{
 "cells": [
  {
   "cell_type": "markdown",
   "id": "9a37a6ef-106d-41cb-a1f6-40ffd6ae5eeb",
   "metadata": {},
   "source": [
    "# Homework #9\n",
    "\n",
    "`COSC210`\n",
    "`Chapter 8: Strings`\n",
    "`Soobin Rho`\n",
    "***"
   ]
  },
  {
   "cell_type": "markdown",
   "id": "208e8e82",
   "metadata": {},
   "source": [
    "<center><b><em>Making a Checkerboard</em></b></center>"
   ]
  },
  {
   "cell_type": "code",
   "execution_count": 25,
   "id": "c312e757",
   "metadata": {},
   "outputs": [],
   "source": [
    "'''Makes a 10x10 array with a checkerboard pattern of dashes and asterisks.'''\n",
    "import numpy as np\n",
    "\n",
    "# Initializing two arrays of - and *.\n",
    "# These are the building block of the final array.\n",
    "array_building_block_even = np.array(['*', '-'])\n",
    "array_building_block_odd = np.array(['-', '*'])\n",
    "\n",
    "# Initializing the final array.\n",
    "array_final = np.empty((10, 10), dtype=str)\n",
    "\n",
    "# Using np.tile() function to make a 10x10 array with array_building_block.\n",
    "for count in range(0, 10):\n",
    "    \n",
    "    # Adding array_building_block_even to the final array.\n",
    "    if count % 2 == 0:\n",
    "        array_final[count] = np.tile(array_building_block_even, (1, 5))\n",
    "    \n",
    "    # Adding array_building_block_odd to the final array.\n",
    "    else:\n",
    "        array_final[count] = np.tile(array_building_block_odd, (1, 5))"
   ]
  },
  {
   "cell_type": "code",
   "execution_count": 7,
   "id": "0e67a41b-c129-44a2-a6d7-b95c0ffc45ac",
   "metadata": {},
   "outputs": [
    {
     "name": "stdout",
     "output_type": "stream",
     "text": [
      "# The final 10x10 array with a checkerboard pattern.\n",
      "\n",
      "[[ 1  2  3  4  5]\n",
      " [ 6  7  8  9 10]\n",
      " [11 12 13 14 15]]\n"
     ]
    }
   ],
   "source": [
    "print('# The final 10x10 array with a checkerboard pattern.\\n')\n",
    "print(array_final)"
   ]
  },
  {
   "cell_type": "markdown",
   "id": "aa57f61a-c793-4e40-bf5b-b9243b1c6075",
   "metadata": {},
   "source": [
    "<center><b><em>Array Slicing Exercise</em></b></center>"
   ]
  },
  {
   "cell_type": "code",
   "execution_count": 46,
   "id": "eab3be2a-fe8e-4fd4-b971-460f255470fa",
   "metadata": {},
   "outputs": [
    {
     "name": "stdout",
     "output_type": "stream",
     "text": [
      "# Array\n",
      "[[ 1  2  3  4  5]\n",
      " [ 6  7  8  9 10]\n",
      " [11 12 13 14 15]]\n"
     ]
    }
   ],
   "source": [
    "'''Exercises in NumPy arrays.'''\n",
    "\n",
    "import numpy as np\n",
    "\n",
    "# Initializing a 3x5 array with the values of 1-15.\n",
    "array_final = np.arange(1, 16)\n",
    "array_final = np.resize(array_final, (3, 5))\n",
    "\n",
    "# Printing the whole array.\n",
    "print('# Array')\n",
    "print(array_final)"
   ]
  },
  {
   "cell_type": "code",
   "execution_count": 59,
   "id": "0fe07d6d-0096-47a1-9f1d-faaa906ae580",
   "metadata": {},
   "outputs": [
    {
     "name": "stdout",
     "output_type": "stream",
     "text": [
      "# a. Row 2\n",
      "[11 12 13 14 15]\n",
      "\n",
      "# b. Column 5\n",
      "[ 5 10 15]\n",
      "\n",
      "# c. Rows 0 and 1\n",
      "[[ 1  2  3  4  5]\n",
      " [ 6  7  8  9 10]]\n",
      "\n",
      "# d. Columns 2-4\n",
      "[[ 3  4  5]\n",
      " [ 8  9 10]\n",
      " [13 14 15]]\n",
      "\n",
      "# e. Element in Row 1, Column 4\n",
      "10\n",
      "\n",
      "# f. All elements from Rows 1 and 2 that are in columns 0, 2, and 4\n",
      "[[ 6  8 10]\n",
      " [11 13 15]]\n"
     ]
    }
   ],
   "source": [
    "print('# a. Row 2')\n",
    "print(array_final[2])\n",
    "\n",
    "print('\\n# b. Column 5')\n",
    "print(array_final[:, 4])\n",
    "\n",
    "print('\\n# c. Rows 0 and 1')\n",
    "print(array_final[[0, 1]])\n",
    "\n",
    "print('\\n# d. Columns 2-4')\n",
    "print(array_final[:, 2:5])\n",
    "\n",
    "print('\\n# e. Element in Row 1, Column 4')\n",
    "print(array_final[1, 4])\n",
    "\n",
    "print('\\n# f. All elements from Rows 1 and 2 that are in columns 0, 2, and 4')\n",
    "array_sliced = array_final[[1, 2]]\n",
    "array_sliced = array_sliced[:, [0, 2, 4]]\n",
    "print(array_sliced)"
   ]
  },
  {
   "cell_type": "markdown",
   "id": "9f6d9d77",
   "metadata": {},
   "source": [
    "***\n",
    "\n",
    "<center><em>----- End of Homework -----</em><center>"
   ]
  },
  {
   "cell_type": "markdown",
   "id": "84838657",
   "metadata": {},
   "source": [
    "<br>\n",
    "<br>\n",
    "<br>"
   ]
  }
 ],
 "metadata": {
  "kernelspec": {
   "display_name": "Python 3 (ipykernel)",
   "language": "python",
   "name": "python3"
  },
  "language_info": {
   "codemirror_mode": {
    "name": "ipython",
    "version": 3
   },
   "file_extension": ".py",
   "mimetype": "text/x-python",
   "name": "python",
   "nbconvert_exporter": "python",
   "pygments_lexer": "ipython3",
   "version": "3.9.12"
  }
 },
 "nbformat": 4,
 "nbformat_minor": 5
}
