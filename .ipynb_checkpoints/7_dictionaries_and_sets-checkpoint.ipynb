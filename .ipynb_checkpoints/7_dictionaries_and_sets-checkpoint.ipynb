{
 "cells": [
  {
   "cell_type": "markdown",
   "id": "9a37a6ef-106d-41cb-a1f6-40ffd6ae5eeb",
   "metadata": {},
   "source": [
    "# Homework #7\n",
    "\n",
    "`COSC210`\n",
    "`Chapter 6: Dictionaries and Sets`\n",
    "`Soobin Rho`\n",
    "***"
   ]
  },
  {
   "cell_type": "markdown",
   "id": "208e8e82",
   "metadata": {},
   "source": [
    "<center><b><em>Scrabble Score</em></b></center>"
   ]
  },
  {
   "cell_type": "code",
   "execution_count": 135,
   "id": "c312e757",
   "metadata": {},
   "outputs": [],
   "source": [
    "'''Calculates the word score for scrabble games.'''\n",
    "import string\n",
    "\n",
    "def scrabble_score(\n",
    "        str_input: str,\n",
    "        print_individual_score: bool = False    # Optional feature.\n",
    "    ) -> int:\n",
    "    '''\n",
    "    1. Converts str_input to all lowercase.\n",
    "    2. Counts each letter in the word and\n",
    "       calculates the score.\n",
    "    3. (optional) Prints the score from each alphabet nicely.\n",
    "    '''\n",
    "    \n",
    "    # 1. Converts str_input to all lowercase.\n",
    "    str_input = str_input.lower()\n",
    "    \n",
    "    # Defining points for each letter. By the way, typing\n",
    "    # the code below can be automated by using a loop:\n",
    "    #\n",
    "    # list_alphabet = tuple(string.ascii_lowercase)\n",
    "    # for i in list_alphabet:\n",
    "    #     print(f'\\'{i}\\': ')    \n",
    "    #\n",
    "    dictionary_points = {\n",
    "        'a': 1,\n",
    "        'b': 3,\n",
    "        'c': 3,\n",
    "        'd': 2,\n",
    "        'e': 1,\n",
    "        'f': 4,\n",
    "        'g': 2,\n",
    "        'h': 4,\n",
    "        'i': 1,\n",
    "        'j': 8,\n",
    "        'k': 5,\n",
    "        'l': 1,\n",
    "        'm': 3,\n",
    "        'n': 1,\n",
    "        'o': 1,\n",
    "        'p': 3,\n",
    "        'q': 10,\n",
    "        'r': 1,\n",
    "        's': 1,\n",
    "        't': 1,\n",
    "        'u': 1,\n",
    "        'v': 4,\n",
    "        'w': 4,\n",
    "        'x': 8,\n",
    "        'y': 4,\n",
    "        'z': 10\n",
    "    }\n",
    "    \n",
    "    # 2. Counts each letter in the word and \n",
    "    #    calculates the score.\n",
    "    #\n",
    "    # I wrote this function to better understand dictionaries\n",
    "    # and sets. However, there's already a built-in function for \n",
    "    # counting letters:\n",
    "    #\n",
    "    # from collections import Counter    \n",
    "    # counter = Counter(str.input)\n",
    "    #\n",
    "    score_sum = 0\n",
    "    \n",
    "    # Getting the list of all alphabets.\n",
    "    list_alphabet = tuple(string.ascii_lowercase)    \n",
    "    \n",
    "    # Counting the frequency of each alphabet.\n",
    "    list_results = []\n",
    "    for alphabet in list_alphabet:\n",
    "        \n",
    "        # Calculating the frequency of the alphabet.\n",
    "        frequency = str_input.count(alphabet)\n",
    "        \n",
    "        # Initializing the score for this particular alphabet.\n",
    "        score = 0\n",
    "        \n",
    "        # Adding the score.\n",
    "        if frequency != 0:\n",
    "            score = dictionary_points[alphabet] * frequency   \n",
    "            score_sum += score\n",
    "        \n",
    "        # Adding the alphabet, the frequency, and the score\n",
    "        # to the list as a tuple.\n",
    "        list_results.append((alphabet, frequency, score))\n",
    "        \n",
    "    # Sorting the list based on the score.\n",
    "    list_results = sorted(\n",
    "        list_results, \n",
    "        key = lambda item: item[2],\n",
    "        reverse = True\n",
    "    )\n",
    "        \n",
    "    # 3. (optional) Prints the score from each alphabet nicely.\n",
    "    if print_individual_score == True:\n",
    "        print(f'\\n{\"Letter\":<6}{\"Frequency\":>11}{\"Score\":>8}')\n",
    "        for alphabet in list_results:\n",
    "            print(\n",
    "                f'{alphabet[0]:<6}' +\n",
    "                f'{alphabet[1]:>11}' +\n",
    "                f'{alphabet[2]:>8}'\n",
    "            )\n",
    "\n",
    "    return score_sum"
   ]
  },
  {
   "cell_type": "code",
   "execution_count": 141,
   "id": "0e67a41b-c129-44a2-a6d7-b95c0ffc45ac",
   "metadata": {},
   "outputs": [
    {
     "name": "stdout",
     "output_type": "stream",
     "text": [
      "==============\n",
      "Scrabble Score\n",
      "==============\n",
      "\n"
     ]
    },
    {
     "name": "stdin",
     "output_type": "stream",
     "text": [
      "Enter: calculus\n"
     ]
    },
    {
     "name": "stdout",
     "output_type": "stream",
     "text": [
      "\n",
      "\"calculus\" = 12 points\n",
      "\n"
     ]
    }
   ],
   "source": [
    "print('==============')\n",
    "print('Scrabble Score')\n",
    "print('==============\\n')\n",
    "\n",
    "# Getting user input.\n",
    "str_input = input('Enter:')\n",
    "\n",
    "# Calling the function.\n",
    "score_sum = scrabble_score(str_input)\n",
    "\n",
    "# Printing the return value.\n",
    "print(f'\\n\"{str_input}\" = {score_sum} points\\n')"
   ]
  },
  {
   "cell_type": "markdown",
   "id": "aa57f61a-c793-4e40-bf5b-b9243b1c6075",
   "metadata": {},
   "source": [
    "<center><b><em>Bonus Feature</em></b></center>\n",
    "\n",
    "I've added an optional feature to show the score for each individual letter. This feature can be used by calling the function with `print_individual_score=True`"
   ]
  },
  {
   "cell_type": "code",
   "execution_count": 139,
   "id": "eab3be2a-fe8e-4fd4-b971-460f255470fa",
   "metadata": {},
   "outputs": [
    {
     "name": "stdout",
     "output_type": "stream",
     "text": [
      "=======================\n",
      "Detailed Scrabble Score\n",
      "=======================\n",
      "\n"
     ]
    },
    {
     "name": "stdin",
     "output_type": "stream",
     "text": [
      "Enter: calculus\n"
     ]
    },
    {
     "name": "stdout",
     "output_type": "stream",
     "text": [
      "\n",
      "Letter  Frequency   Score\n",
      "c               2       6\n",
      "l               2       2\n",
      "u               2       2\n",
      "a               1       1\n",
      "s               1       1\n",
      "b               0       0\n",
      "d               0       0\n",
      "e               0       0\n",
      "f               0       0\n",
      "g               0       0\n",
      "h               0       0\n",
      "i               0       0\n",
      "j               0       0\n",
      "k               0       0\n",
      "m               0       0\n",
      "n               0       0\n",
      "o               0       0\n",
      "p               0       0\n",
      "q               0       0\n",
      "r               0       0\n",
      "t               0       0\n",
      "v               0       0\n",
      "w               0       0\n",
      "x               0       0\n",
      "y               0       0\n",
      "z               0       0\n",
      "\n",
      "\"calculus\" = 12 points\n",
      "\n"
     ]
    }
   ],
   "source": [
    "print('=======================')\n",
    "print('Detailed Scrabble Score')\n",
    "print('=======================\\n')\n",
    "\n",
    "# Getting user input.\n",
    "str_input = input('Enter:')\n",
    "\n",
    "# Calling the function.\n",
    "score_sum = scrabble_score(str_input, print_individual_score=True)    \n",
    "\n",
    "# Printing the return value.\n",
    "print(f'\\n\"{str_input}\" = {score_sum} points\\n')"
   ]
  },
  {
   "cell_type": "markdown",
   "id": "2fa43a96-4920-42cd-8d45-346901aeb2ec",
   "metadata": {},
   "source": [
    "<center><b><em>Sets</em></b></center>"
   ]
  },
  {
   "cell_type": "code",
   "execution_count": 186,
   "id": "fa9eda51-241f-43ef-bba9-ca27e7e136d0",
   "metadata": {},
   "outputs": [
    {
     "name": "stdout",
     "output_type": "stream",
     "text": [
      "\n",
      "A. Comparing the sets using each of the comparison operators.\n",
      "\tset_A.issubset(set_B) = True\n",
      "\tset_A.issuperset(set_B) = False\n",
      "\tset_A.isdisjoint(set_B) = False\n",
      "\n",
      "B. Combining the sets using each of the mathematical set operators.\n",
      "\tset_A | set_B (Union)\n",
      "\t{'magenta', 'red', 'green', 'cyan', 'blue'}\n",
      "\n",
      "\tset_A & set_B (Intersection)\n",
      "\t{'blue', 'red', 'green'}\n",
      "\n",
      "\tset_B - set_A (Difference)\n",
      "\t{'cyan', 'magenta'}\n",
      "\n",
      "\tset_B ^ set_A (Symmetric Difference)\n",
      "\t{'cyan', 'magenta'}\n"
     ]
    }
   ],
   "source": [
    "'''Set operatoions exercise.'''\n",
    "\n",
    "# Initializing the sets as instructed.\n",
    "set_A = {'red', 'green', 'blue'}\n",
    "set_B = {'cyan', 'green', 'blue', 'magenta', 'red'}\n",
    "\n",
    "########\n",
    "# Part A\n",
    "########\n",
    "print('\\nA. Comparing the sets using each of the comparison operators.')\n",
    "\n",
    "# When a set's elements are all inside another set.\n",
    "print('\\tset_A.issubset(set_B) =', end=' ')\n",
    "print(set_A.issubset(set_B))\n",
    "\n",
    "# When a set has all the elements of the other set.\n",
    "print('\\tset_A.issuperset(set_B) =', end=' ')\n",
    "print(set_A.issuperset(set_B))\n",
    "\n",
    "# When two sets have no common element.\n",
    "print('\\tset_A.isdisjoint(set_B) =', end=' ')\n",
    "print(set_A.isdisjoint(set_B))\n",
    "\n",
    "########\n",
    "# Part B\n",
    "########\n",
    "print('\\nB. Combining the sets using each of the mathematical set operators.')\n",
    "\n",
    "# Union\n",
    "print('\\tset_A | set_B (Union)')\n",
    "print('\\t', set_A | set_B, sep='')\n",
    "\n",
    "# Intersection\n",
    "print('\\n\\tset_A & set_B (Intersection)')\n",
    "print('\\t', set_A & set_B, sep='')\n",
    "\n",
    "# Difference\n",
    "print('\\n\\tset_B - set_A (Difference)')\n",
    "print('\\t', set_B - set_A, sep='')\n",
    "\n",
    "# Symmetric Difference\n",
    "print('\\n\\tset_B ^ set_A (Symmetric Difference)')\n",
    "print('\\t', set_A ^ set_B, sep='')"
   ]
  },
  {
   "cell_type": "markdown",
   "id": "9f6d9d77",
   "metadata": {},
   "source": [
    "***\n",
    "\n",
    "<center><em>----- End of Homework -----</em><center>"
   ]
  },
  {
   "cell_type": "markdown",
   "id": "84838657",
   "metadata": {},
   "source": [
    "<br>\n",
    "<br>\n",
    "<br>"
   ]
  }
 ],
 "metadata": {
  "kernelspec": {
   "display_name": "Python 3 (ipykernel)",
   "language": "python",
   "name": "python3"
  },
  "language_info": {
   "codemirror_mode": {
    "name": "ipython",
    "version": 3
   },
   "file_extension": ".py",
   "mimetype": "text/x-python",
   "name": "python",
   "nbconvert_exporter": "python",
   "pygments_lexer": "ipython3",
   "version": "3.9.12"
  }
 },
 "nbformat": 4,
 "nbformat_minor": 5
}
