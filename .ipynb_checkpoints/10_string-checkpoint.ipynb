{
 "cells": [
  {
   "cell_type": "markdown",
   "id": "9a37a6ef-106d-41cb-a1f6-40ffd6ae5eeb",
   "metadata": {},
   "source": [
    "# Homework #10\n",
    "\n",
    "`COSC210`\n",
    "`Chapter 8: Strings`\n",
    "`Soobin Rho`\n",
    "***"
   ]
  },
  {
   "cell_type": "markdown",
   "id": "208e8e82",
   "metadata": {},
   "source": [
    "<center><b><em>Palindrome Tester</em></b></center>"
   ]
  },
  {
   "cell_type": "code",
   "execution_count": 45,
   "id": "c312e757",
   "metadata": {},
   "outputs": [],
   "source": [
    "'''Tests if a string is a palindrome.'''\n",
    "import re\n",
    "\n",
    "def is_palindrome(str_input: str) -> bool:\n",
    "    '''\n",
    "        1. Replaces all white space and punctuation\n",
    "           for data sanitization.\n",
    "        2. Converts to all lower case.\n",
    "        3. Reverses the string and \n",
    "           tests if it's a plaindrome.\n",
    "    '''\n",
    "    \n",
    "    # 1. Replaces all white space and punctuation\n",
    "    #    for data sanitization.\n",
    "    str_input = re.sub(r'[^0-9a-zA-Z]', '', str_input)\n",
    "\n",
    "    # 2. Converts to all lower case.\n",
    "    str_input = str_input.lower()\n",
    "    \n",
    "    # Initializing the return value.\n",
    "    bool_result = False\n",
    "    \n",
    "    # 3. Reverses the string and \n",
    "    #    tests if it's a plaindrome.  \n",
    "    if str_input == str_input[::-1]:\n",
    "        bool_result = True    \n",
    "    \n",
    "    return bool_result"
   ]
  },
  {
   "cell_type": "code",
   "execution_count": 48,
   "id": "72646636-f6ee-41c1-aebb-f02c063fcab8",
   "metadata": {},
   "outputs": [
    {
     "name": "stdout",
     "output_type": "stream",
     "text": [
      "=================\n",
      "Palindrome Tester\n",
      "=================\n",
      "\n"
     ]
    },
    {
     "name": "stdin",
     "output_type": "stream",
     "text": [
      "Enter:  testinggnitset\n"
     ]
    },
    {
     "name": "stdout",
     "output_type": "stream",
     "text": [
      "\n",
      "\"testinggnitset\" is a palindrome!\n"
     ]
    }
   ],
   "source": [
    "# Printing the title.\n",
    "str_title = 'Palindrome Tester'\n",
    "print(len(str_title) * '=')\n",
    "print(str_title)\n",
    "print((len(str_title) * '=') + '\\n')\n",
    "\n",
    "# Prompting for user input\n",
    "str_input = input('Enter: ')\n",
    "bool_result = is_palindrome(str_input)\n",
    "\n",
    "# Printing if it is a palindrome.\n",
    "if bool_result == False:\n",
    "    print(f'\\n\"{str_input}\" is not a palindrome.')\n",
    "    \n",
    "else:\n",
    "    print(f'\\n\"{str_input}\" is a palindrome!')"
   ]
  },
  {
   "cell_type": "markdown",
   "id": "aa57f61a-c793-4e40-bf5b-b9243b1c6075",
   "metadata": {},
   "source": [
    "<center><b><em>Pig Latin Converter</em></b></center>"
   ]
  },
  {
   "cell_type": "code",
   "execution_count": 62,
   "id": "eab3be2a-fe8e-4fd4-b971-460f255470fa",
   "metadata": {},
   "outputs": [],
   "source": [
    "'''Converts a sentence into pig Latin.'''\n",
    "\n",
    "def convert_to_piglatin(str_input: str) -> str:\n",
    "    '''\n",
    "        1. Uses split() to make a list of \n",
    "           words in the sentence.\n",
    "        2. Loops through every word.\n",
    "        3. Translates each word to pig Latin\n",
    "           if the word has two or more letters.\n",
    "    '''\n",
    "    \n",
    "    # 1. Uses split() to make a list of \n",
    "    #    words in the sentence.\n",
    "    list_words = str_input.split()\n",
    "\n",
    "    # Initializing a list of converted words.\n",
    "    list_converted_words = []\n",
    "\n",
    "    # 2. Loops through every word.\n",
    "    for word in list_words:\n",
    "\n",
    "        # 3. Translates each word to pig Latin\n",
    "        #    if the word has two or more letters.\n",
    "        if len(word) >= 2:\n",
    "\n",
    "            # Storing the first letter.\n",
    "            firstletter = word[0]\n",
    "\n",
    "            # Moving the first letter to the back.\n",
    "            converted_word = word[1:]\n",
    "            converted_word += f'{firstletter}ay'\n",
    "\n",
    "            # Storing the converted word into the list.\n",
    "            list_converted_words.append(converted_word)\n",
    "\n",
    "        # Chaning nothing if the word \n",
    "        # has fewer than two letters.\n",
    "        else:\n",
    "            list_converted_words.append(word)\n",
    "            \n",
    "    # Inserting the converted words back.\n",
    "    # The reason why I make a new list instead of \n",
    "    # directly using str_input.replace() is because\n",
    "    # we should preserve any white space between words.\n",
    "    #\n",
    "    # This way, any white space between words\n",
    "    # can be preserved.\n",
    "    for count in range(len(list_words)):\n",
    "        str_input = str_input.replace(\n",
    "            list_words[count],\n",
    "            list_converted_words[count]\n",
    "        )\n",
    "    \n",
    "    # Chnage the name of str_input to str_converted\n",
    "    # to avoid confusion.\n",
    "    str_converted = str_input\n",
    "    \n",
    "    return str_converted"
   ]
  },
  {
   "cell_type": "code",
   "execution_count": 68,
   "id": "bbaf15f4-5485-45e2-8982-30b8539065ed",
   "metadata": {},
   "outputs": [
    {
     "name": "stdout",
     "output_type": "stream",
     "text": [
      "===================\n",
      "Pig Latin Converter\n",
      "===================\n",
      "\n"
     ]
    },
    {
     "name": "stdin",
     "output_type": "stream",
     "text": [
      "Enter:  Does this preserve    white spaces and not change words that have fewer than two words like t h i s?\n"
     ]
    },
    {
     "name": "stdout",
     "output_type": "stream",
     "text": [
      "\n",
      "oesDay histay reservepay    hiteway pacessay ndaay otnay hangecay ordsway hattay avehay ewerfay hantay wotay ordsway ikelay t h i ?say\n"
     ]
    }
   ],
   "source": [
    "# Printing the title.\n",
    "str_title = 'Pig Latin Converter'\n",
    "print(len(str_title) * '=')\n",
    "print(str_title)\n",
    "print((len(str_title) * '=') + '\\n')\n",
    "\n",
    "# Prompting for user input\n",
    "str_input = input('Enter: ')\n",
    "str_converted = convert_to_piglatin(str_input)\n",
    "\n",
    "# Printing the converted words.\n",
    "print(f'\\n{str_converted}')"
   ]
  },
  {
   "cell_type": "markdown",
   "id": "9f6d9d77",
   "metadata": {},
   "source": [
    "***\n",
    "\n",
    "<center><em>----- End of Homework -----</em><center>"
   ]
  },
  {
   "cell_type": "markdown",
   "id": "84838657",
   "metadata": {},
   "source": [
    "<br>\n",
    "<br>\n",
    "<br>"
   ]
  }
 ],
 "metadata": {
  "kernelspec": {
   "display_name": "Python 3 (ipykernel)",
   "language": "python",
   "name": "python3"
  },
  "language_info": {
   "codemirror_mode": {
    "name": "ipython",
    "version": 3
   },
   "file_extension": ".py",
   "mimetype": "text/x-python",
   "name": "python",
   "nbconvert_exporter": "python",
   "pygments_lexer": "ipython3",
   "version": "3.9.12"
  }
 },
 "nbformat": 4,
 "nbformat_minor": 5
}
