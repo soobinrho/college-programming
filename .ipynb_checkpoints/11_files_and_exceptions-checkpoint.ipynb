{
 "cells": [
  {
   "cell_type": "markdown",
   "id": "9a37a6ef-106d-41cb-a1f6-40ffd6ae5eeb",
   "metadata": {},
   "source": [
    "# Homework #11\n",
    "\n",
    "`COSC210`\n",
    "`Chapter 9: Files and Exceptions`\n",
    "`Soobin Rho`\n",
    "***"
   ]
  },
  {
   "cell_type": "markdown",
   "id": "208e8e82",
   "metadata": {},
   "source": [
    "<center><b><em>Repeated-Words Detecter</em></b></center>"
   ]
  },
  {
   "cell_type": "code",
   "execution_count": 178,
   "id": "c312e757",
   "metadata": {},
   "outputs": [],
   "source": [
    "'''Writes student exam scores into a .csv file.'''\n",
    "import pandas as pd\n",
    "import numpy as np\n",
    "import os\n",
    "import re\n",
    "\n",
    "def write_scores_to_csv():\n",
    "    '''\n",
    "        1. Loops until the user wants to quit.\n",
    "           The user can quit by typing a \"q\".    \n",
    "        2. Loops until the user inputs\n",
    "           a valid first name.    \n",
    "        3. Loops until the user inputs\n",
    "           a valid last name.        \n",
    "        4. Loops until the user inputs\n",
    "           a valid exam score #1.        \n",
    "        5. Loops until the user inputs\n",
    "           a valid exam score #2.        \n",
    "        6. Loops until the user inputs\n",
    "           a valid exam score #3.    \n",
    "        7. Saves the scores into a .csv file.\n",
    "           The output file has the form of\n",
    "           \"first_name,last_name,grade_1,grade_2,grade_3\"\n",
    "    '''\n",
    "\n",
    "    # Initalizing the list that all the \n",
    "    # names and the scores will go into.\n",
    "    scores = []\n",
    "\n",
    "    # Counting how many students\n",
    "    # the user has entered.\n",
    "    count_students = 0\n",
    "\n",
    "    # ---------------------------------------- #\n",
    "    # 1. Loops until the user wants to quit.\n",
    "    #    The user can quit by typing a \"q\".\n",
    "    # ---------------------------------------- #\n",
    "    bool_quit = False\n",
    "    while bool_quit == False:\n",
    "\n",
    "        # Instructing the user to input the first name.\n",
    "        print(f'[First name] Student #{count_students + 1}')\n",
    "\n",
    "        # -------------------------------- #\n",
    "        # 2. Loops until the user inputs\n",
    "        #    a valid first name.\n",
    "        # -------------------------------- #\n",
    "        bool_valid = False\n",
    "        while bool_valid == False:\n",
    "\n",
    "            # Prompting for user input.\n",
    "            try:\n",
    "                string = input('Enter: ')\n",
    "                if 'q' in string:\n",
    "                    bool_quit = True\n",
    "                    break\n",
    "                elif re.search(r'^[A-Za-z]+$', string) == None:\n",
    "                    raise ValueError\n",
    "\n",
    "            # If the input is invalid, \n",
    "            # repeat the loop.\n",
    "            except ValueError:\n",
    "                print('Please enter a valid name.')\n",
    "\n",
    "            # If the input is valid, \n",
    "            # add the value to the list.\n",
    "            else:\n",
    "                scores.append([])\n",
    "                scores[count_students].append(string)\n",
    "                bool_valid = True\n",
    "\n",
    "        # If the user typed a 'q',\n",
    "        # stop the loop.\n",
    "        if bool_quit == True:\n",
    "            break\n",
    "\n",
    "        # Instructing the user to input the first name.\n",
    "        print(f'[Last name] Student #{count_students + 1}')\n",
    "\n",
    "        # -------------------------------- #\n",
    "        # 3. Loops until the user inputs\n",
    "        #    a valid last name.\n",
    "        # -------------------------------- #\n",
    "        bool_valid = False\n",
    "        while bool_valid == False:\n",
    "\n",
    "            # Prompting for user input.\n",
    "            try:\n",
    "                string = input('Enter: ')\n",
    "                if 'q' in string:\n",
    "                    bool_quit = True\n",
    "                    break\n",
    "                elif re.search(r'^[A-Za-z]+$', string) == None:\n",
    "                    raise ValueError\n",
    "\n",
    "            # If the input is invalid, \n",
    "            # repeat the loop.\n",
    "            except ValueError:\n",
    "                print('Please enter a valid name.')\n",
    "\n",
    "            # If the input is valid, \n",
    "            # add the value to the list.\n",
    "            else:\n",
    "                scores[count_students].append(string)\n",
    "                bool_valid = True\n",
    "\n",
    "        # If the user typed a 'q',\n",
    "        # stop the loop.\n",
    "        if bool_quit == True:\n",
    "            break\n",
    "\n",
    "        # Instructing the user to input the first name.\n",
    "        print(f'[Exam 1 Grade] Student #{count_students + 1}')\n",
    "\n",
    "        # -------------------------------- #\n",
    "        # 4. Loops until the user inputs\n",
    "        #    a valid exam score #1.\n",
    "        # -------------------------------- #\n",
    "        bool_valid = False\n",
    "        while bool_valid == False:\n",
    "\n",
    "            # Prompting for user input.\n",
    "            try:\n",
    "                string = input('Enter: ')\n",
    "                if 'q' in string:\n",
    "                    bool_quit = True\n",
    "                    break\n",
    "                elif re.search(r'^\\d+$', string) == None:\n",
    "                    raise ValueError\n",
    "                elif int(string) < 0:\n",
    "                    raise ValueError\n",
    "                elif int(string) > 100:\n",
    "                    raise ValueError                \n",
    "\n",
    "            # If the input is invalid, \n",
    "            # repeat the loop.\n",
    "            except ValueError:\n",
    "                print('Please enter a valid score.')\n",
    "\n",
    "            # If the input is valid, \n",
    "            # add the value to the list.\n",
    "            else:\n",
    "                scores[count_students].append(string)\n",
    "                bool_valid = True\n",
    "\n",
    "        # If the user typed a 'q',\n",
    "        # stop the loop.\n",
    "        if bool_quit == True:\n",
    "            break        \n",
    "\n",
    "        # Instructing the user to input the first name.\n",
    "        print(f'[Exam 2 Grade] Student #{count_students + 1}')\n",
    "\n",
    "        # -------------------------------- #     \n",
    "        # 5. Loops until the user inputs\n",
    "        #    a valid exam score #2.\n",
    "        # -------------------------------- #\n",
    "        bool_valid = False\n",
    "        while bool_valid == False:\n",
    "\n",
    "            # Prompting for user input.\n",
    "            try:\n",
    "                string = input('Enter: ')\n",
    "                if 'q' in string:\n",
    "                    bool_quit = True\n",
    "                    break\n",
    "                elif re.search(r'^\\d+$', string) == None:\n",
    "                    raise ValueError\n",
    "                elif int(string) < 0:\n",
    "                    raise ValueError\n",
    "                elif int(string) > 100:\n",
    "                    raise ValueError                      \n",
    "\n",
    "            # If the input is invalid, \n",
    "            # repeat the loop.\n",
    "            except ValueError:\n",
    "                print('Please enter a valid score.')\n",
    "\n",
    "            # If the input is valid, \n",
    "            # add the value to the list.\n",
    "            else:\n",
    "                scores[count_students].append(string)\n",
    "                bool_valid = True\n",
    "\n",
    "        # If the user typed a 'q',\n",
    "        # stop the loop.\n",
    "        if bool_quit == True:\n",
    "            break                \n",
    "\n",
    "        # Instructing the user to input the first name.\n",
    "        print(f'[Exam 3 Grade] Student #{count_students + 1}')\n",
    "\n",
    "        # -------------------------------- #\n",
    "        # 6. Loops until the user inputs\n",
    "        #    a valid exam score #3.\n",
    "        # -------------------------------- #\n",
    "        bool_valid = False\n",
    "        while bool_valid == False:\n",
    "\n",
    "            # Prompting for user input.\n",
    "            try:\n",
    "                string = input('Enter: ')\n",
    "                if 'q' in string:\n",
    "                    bool_quit = True\n",
    "                    break\n",
    "                elif re.search(r'^\\d+$', string) == None:\n",
    "                    raise ValueError\n",
    "                elif int(string) < 0:\n",
    "                    raise ValueError\n",
    "                elif int(string) > 100:\n",
    "                    raise ValueError                      \n",
    "\n",
    "            # If the input is invalid, \n",
    "            # repeat the loop.\n",
    "            except ValueError:\n",
    "                print('Please enter a valid score.')\n",
    "\n",
    "            # If the input is valid, \n",
    "            # add the value to the list.\n",
    "            else:\n",
    "                scores[count_students].append(string)\n",
    "                count_students += 1\n",
    "                bool_valid = True\n",
    "\n",
    "            # I've included a \"finally\" clause, as instructed.\n",
    "            # However, there was no use for a \"finally\" clause here.\n",
    "            # So, I've made this clause to do a random thing:\n",
    "            finally:\n",
    "                random_variable = '19988991'\n",
    "                del random_variable\n",
    "\n",
    "        # If the user typed a 'q',\n",
    "        # stop the loop.\n",
    "        if bool_quit == True:\n",
    "            break                  \n",
    "\n",
    "        # Asking if the user wants to enter another student.\n",
    "        print('Would you like to enter another student? (y, n)')\n",
    "        string = input('Enter :')\n",
    "        if string == 'n':\n",
    "            break\n",
    "\n",
    "    # Converting the scores list into a dataframe.\n",
    "    column_names = [\n",
    "        'First Name', \n",
    "        'Last Name', \n",
    "        'Grade 1', \n",
    "        'Grade 2', \n",
    "        'Grade 3'\n",
    "    ]\n",
    "    df_scores = pd.DataFrame(scores, columns=column_names)\n",
    "\n",
    "    # Assigning the path of the output file.\n",
    "    name_output = 'grades.csv'\n",
    "    name_output_folder = 'output'\n",
    "    path_output = os.path.join(name_output_folder, name_output)\n",
    "\n",
    "    # Creating the output folder, if it doesn't already exist.\n",
    "    if not os.path.isdir(name_output_folder):\n",
    "        os.mkdir(name_output_folder)\n",
    "\n",
    "    # ------------------------------------------------- #\n",
    "    # 7. Saves the scores into a .csv file.\n",
    "    #    The output file has the form of\n",
    "    #    \"first_name,last_name,grade_1,grade_2,grade_3\"\n",
    "    # ------------------------------------------------- #\n",
    "    df_scores.to_csv(path_output, mode='a', header=False, index=False)\n",
    "\n",
    "    # ------------------------------------------------ #\n",
    "    # Alternatively, if we were to not use \n",
    "    # the dataframe object's \".to_csv\" method, \n",
    "    # we could do the following:\n",
    "    #\n",
    "    # with open(path_output, mode='a') as file_output:\n",
    "    #     for line in scores:\n",
    "    #         file_output.write(\n",
    "    #             f'{line[0]},' +\n",
    "    #             f'{line[1]},' +\n",
    "    #             f'{line[2]},' +\n",
    "    #             f'{line[3]},' +\n",
    "    #             f'{line[4]}\\n'\n",
    "    #         )\n",
    "    #\n",
    "    # ------------------------------------------------ #"
   ]
  },
  {
   "cell_type": "code",
   "execution_count": 180,
   "id": "aec4f3e8-c6e2-4011-a3c7-08ea41f7181f",
   "metadata": {},
   "outputs": [
    {
     "name": "stdout",
     "output_type": "stream",
     "text": [
      "===================\n",
      "Student Exam Scores\n",
      "===================\n",
      "\n",
      "[First name] Student #1\n"
     ]
    },
    {
     "name": "stdin",
     "output_type": "stream",
     "text": [
      "Enter:  Soobin\n"
     ]
    },
    {
     "name": "stdout",
     "output_type": "stream",
     "text": [
      "[Last name] Student #1\n"
     ]
    },
    {
     "name": "stdin",
     "output_type": "stream",
     "text": [
      "Enter:  Rho\n"
     ]
    },
    {
     "name": "stdout",
     "output_type": "stream",
     "text": [
      "[Exam 1 Grade] Student #1\n"
     ]
    },
    {
     "name": "stdin",
     "output_type": "stream",
     "text": [
      "Enter:  10\n"
     ]
    },
    {
     "name": "stdout",
     "output_type": "stream",
     "text": [
      "[Exam 2 Grade] Student #1\n"
     ]
    },
    {
     "name": "stdin",
     "output_type": "stream",
     "text": [
      "Enter:  50\n"
     ]
    },
    {
     "name": "stdout",
     "output_type": "stream",
     "text": [
      "[Exam 3 Grade] Student #1\n"
     ]
    },
    {
     "name": "stdin",
     "output_type": "stream",
     "text": [
      "Enter:  100\n"
     ]
    },
    {
     "name": "stdout",
     "output_type": "stream",
     "text": [
      "Would you like to enter another student? (y, n)\n"
     ]
    },
    {
     "name": "stdin",
     "output_type": "stream",
     "text": [
      "Enter : y\n"
     ]
    },
    {
     "name": "stdout",
     "output_type": "stream",
     "text": [
      "[First name] Student #2\n"
     ]
    },
    {
     "name": "stdin",
     "output_type": "stream",
     "text": [
      "Enter:  Bean\n"
     ]
    },
    {
     "name": "stdout",
     "output_type": "stream",
     "text": [
      "[Last name] Student #2\n"
     ]
    },
    {
     "name": "stdin",
     "output_type": "stream",
     "text": [
      "Enter:  Soup\n"
     ]
    },
    {
     "name": "stdout",
     "output_type": "stream",
     "text": [
      "[Exam 1 Grade] Student #2\n"
     ]
    },
    {
     "name": "stdin",
     "output_type": "stream",
     "text": [
      "Enter:  20\n"
     ]
    },
    {
     "name": "stdout",
     "output_type": "stream",
     "text": [
      "[Exam 2 Grade] Student #2\n"
     ]
    },
    {
     "name": "stdin",
     "output_type": "stream",
     "text": [
      "Enter:  40\n"
     ]
    },
    {
     "name": "stdout",
     "output_type": "stream",
     "text": [
      "[Exam 3 Grade] Student #2\n"
     ]
    },
    {
     "name": "stdin",
     "output_type": "stream",
     "text": [
      "Enter:  90\n"
     ]
    },
    {
     "name": "stdout",
     "output_type": "stream",
     "text": [
      "Would you like to enter another student? (y, n)\n"
     ]
    },
    {
     "name": "stdin",
     "output_type": "stream",
     "text": [
      "Enter : y\n"
     ]
    },
    {
     "name": "stdout",
     "output_type": "stream",
     "text": [
      "[First name] Student #3\n"
     ]
    },
    {
     "name": "stdin",
     "output_type": "stream",
     "text": [
      "Enter:  Penny\n"
     ]
    },
    {
     "name": "stdout",
     "output_type": "stream",
     "text": [
      "[Last name] Student #3\n"
     ]
    },
    {
     "name": "stdin",
     "output_type": "stream",
     "text": [
      "Enter:  Pilot\n"
     ]
    },
    {
     "name": "stdout",
     "output_type": "stream",
     "text": [
      "[Exam 1 Grade] Student #3\n"
     ]
    },
    {
     "name": "stdin",
     "output_type": "stream",
     "text": [
      "Enter:  20\n"
     ]
    },
    {
     "name": "stdout",
     "output_type": "stream",
     "text": [
      "[Exam 2 Grade] Student #3\n"
     ]
    },
    {
     "name": "stdin",
     "output_type": "stream",
     "text": [
      "Enter:  40\n"
     ]
    },
    {
     "name": "stdout",
     "output_type": "stream",
     "text": [
      "[Exam 3 Grade] Student #3\n"
     ]
    },
    {
     "name": "stdin",
     "output_type": "stream",
     "text": [
      "Enter:  85\n"
     ]
    },
    {
     "name": "stdout",
     "output_type": "stream",
     "text": [
      "Would you like to enter another student? (y, n)\n"
     ]
    },
    {
     "name": "stdin",
     "output_type": "stream",
     "text": [
      "Enter : n\n"
     ]
    },
    {
     "data": {
      "text/html": [
       "<div>\n",
       "<style scoped>\n",
       "    .dataframe tbody tr th:only-of-type {\n",
       "        vertical-align: middle;\n",
       "    }\n",
       "\n",
       "    .dataframe tbody tr th {\n",
       "        vertical-align: top;\n",
       "    }\n",
       "\n",
       "    .dataframe thead th {\n",
       "        text-align: right;\n",
       "    }\n",
       "</style>\n",
       "<table border=\"1\" class=\"dataframe\">\n",
       "  <thead>\n",
       "    <tr style=\"text-align: right;\">\n",
       "      <th></th>\n",
       "      <th>First Name</th>\n",
       "      <th>Last Name</th>\n",
       "      <th>Grade 1</th>\n",
       "      <th>Grade 2</th>\n",
       "      <th>Grade 3</th>\n",
       "    </tr>\n",
       "  </thead>\n",
       "  <tbody>\n",
       "    <tr>\n",
       "      <th>0</th>\n",
       "      <td>Soobin</td>\n",
       "      <td>Rho</td>\n",
       "      <td>10</td>\n",
       "      <td>50</td>\n",
       "      <td>100</td>\n",
       "    </tr>\n",
       "    <tr>\n",
       "      <th>1</th>\n",
       "      <td>Bean</td>\n",
       "      <td>Soup</td>\n",
       "      <td>20</td>\n",
       "      <td>40</td>\n",
       "      <td>90</td>\n",
       "    </tr>\n",
       "    <tr>\n",
       "      <th>2</th>\n",
       "      <td>Penny</td>\n",
       "      <td>Pilot</td>\n",
       "      <td>20</td>\n",
       "      <td>40</td>\n",
       "      <td>85</td>\n",
       "    </tr>\n",
       "  </tbody>\n",
       "</table>\n",
       "</div>"
      ],
      "text/plain": [
       "  First Name Last Name  Grade 1  Grade 2  Grade 3\n",
       "0     Soobin       Rho       10       50      100\n",
       "1       Bean      Soup       20       40       90\n",
       "2      Penny     Pilot       20       40       85"
      ]
     },
     "metadata": {},
     "output_type": "display_data"
    }
   ],
   "source": [
    "# Printing the title.\n",
    "str_title = 'Student Exam Scores'\n",
    "print(len(str_title) * '=')\n",
    "print(str_title)\n",
    "print((len(str_title) * '=') + '\\n')\n",
    "\n",
    "# Calling the main function.\n",
    "write_scores_to_csv()\n",
    "\n",
    "# Reading the .csv file.\n",
    "df_scores = pd.read_csv(path_output, names=column_names)\n",
    "\n",
    "# Printing the scores. By the way, display(...) preserves \n",
    "# the nice colors and formats of the dataframe, while\n",
    "# \"print(df_scores)\" outputs only the strings.\n",
    "display(df_scores)\n",
    "\n",
    "# ------------------------------------------------ #\n",
    "# Alternatively, if we were to not use \n",
    "# pandas \".read_csv\" method, \n",
    "# we could do the following:\n",
    "#\n",
    "# with open(path_output, mode='r') as file_output:\n",
    "#     for line in file_output:\n",
    "#         print(line.split())\n",
    "#\n",
    "# ------------------------------------------------ #"
   ]
  },
  {
   "cell_type": "markdown",
   "id": "9f6d9d77",
   "metadata": {},
   "source": [
    "***\n",
    "\n",
    "<center><em>----- End of Homework -----</em><center>"
   ]
  },
  {
   "cell_type": "markdown",
   "id": "84838657",
   "metadata": {},
   "source": [
    "<br>\n",
    "<br>\n",
    "<br>"
   ]
  }
 ],
 "metadata": {
  "kernelspec": {
   "display_name": "Python 3 (ipykernel)",
   "language": "python",
   "name": "python3"
  },
  "language_info": {
   "codemirror_mode": {
    "name": "ipython",
    "version": 3
   },
   "file_extension": ".py",
   "mimetype": "text/x-python",
   "name": "python",
   "nbconvert_exporter": "python",
   "pygments_lexer": "ipython3",
   "version": "3.9.12"
  }
 },
 "nbformat": 4,
 "nbformat_minor": 5
}
