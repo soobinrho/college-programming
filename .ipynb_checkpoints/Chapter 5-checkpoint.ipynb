{
 "cells": [
  {
   "cell_type": "markdown",
   "id": "edb25a48",
   "metadata": {},
   "source": [
    "# COSC 210: Introduction to Python Programming\n",
    "### Lists and Tuples\n",
    "\n",
    "In this notebook, we will cover...\n",
    "- Create and initialize lists and tuples\n",
    "- Refer to elements in a list, tuple, or string\n",
    "- Unpacking Sequences\n",
    "- del statement\n",
    "- Passing list to functions\n",
    "- Sorting Lists\n",
    "- Searching Sequences\n",
    "- Other methods for organizing sequences\n",
    "- List Comprehensions\n",
    "- Map, Filter, Reduce\n",
    "- 2D Lists\n",
    "- Visualizations\n",
    "\n",
    "Based on Deitel Ch 5\n",
    "\n",
    "### Lists\n",
    "Lists are a data type that can hold homogeneous or heterogeneous types of information. Unlike their counterparts in other languages, lists in Python are highly flexible."
   ]
  },
  {
   "cell_type": "code",
   "execution_count": 12,
   "id": "21b5f013",
   "metadata": {},
   "outputs": [
    {
     "name": "stdout",
     "output_type": "stream",
     "text": [
      "[-47, 76, 80, 50, 72, 111, -10]\n"
     ]
    },
    {
     "data": {
      "text/plain": [
       "list"
      ]
     },
     "execution_count": 12,
     "metadata": {},
     "output_type": "execute_result"
    }
   ],
   "source": [
    "# Notice lists have square brackets [] and different values are separated by commas\n",
    "a = [-47, 76, 80, 50, 72, 111, -10]\n",
    "print(a)\n",
    "type(a)"
   ]
  },
  {
   "cell_type": "code",
   "execution_count": 13,
   "id": "123db7cc",
   "metadata": {},
   "outputs": [],
   "source": [
    "# You can also store all sorts of heterogenous data\n",
    "# For example, this list could hold the information for a student with their first and\n",
    "# last names, gpa, and expected graduation year\n",
    "l = ['Mary', 'Smith', 3.57, '2022']"
   ]
  },
  {
   "attachments": {
    "image.png": {
     "image/png": "[encoded data removed]"
    }
   },
   "cell_type": "markdown",
   "id": "c5e8fc92",
   "metadata": {},
   "source": [
    "### Accessing elements in a list\n",
    "![image.png](attachment:image.png)"
   ]
  },
  {
   "cell_type": "code",
   "execution_count": 14,
   "id": "d394042e",
   "metadata": {},
   "outputs": [
    {
     "name": "stdout",
     "output_type": "stream",
     "text": [
      "-47\n"
     ]
    }
   ],
   "source": [
    "# if we want to get the first item in this list...\n",
    "a = [-47, 76, 80, 50, 72, 111, -10]\n",
    "\n",
    "# We would use the element's index .. that is, the number of the item starting with 0\n",
    "# surrounded by square brackets\n",
    "print(a[0]) "
   ]
  },
  {
   "cell_type": "code",
   "execution_count": 15,
   "id": "a06071de",
   "metadata": {},
   "outputs": [
    {
     "name": "stdout",
     "output_type": "stream",
     "text": [
      "72\n"
     ]
    }
   ],
   "source": [
    "# for the index 4 (or 5th element in the list)\n",
    "print(a[4])"
   ]
  },
  {
   "cell_type": "code",
   "execution_count": 16,
   "id": "2f23ede6",
   "metadata": {},
   "outputs": [
    {
     "data": {
      "text/plain": [
       "7"
      ]
     },
     "execution_count": 16,
     "metadata": {},
     "output_type": "execute_result"
    }
   ],
   "source": [
    "# To get the number of elements in a list\n",
    "len(a)"
   ]
  },
  {
   "cell_type": "code",
   "execution_count": 17,
   "id": "a7e2cd07",
   "metadata": {},
   "outputs": [
    {
     "name": "stdout",
     "output_type": "stream",
     "text": [
      "-10\n"
     ]
    }
   ],
   "source": [
    "# You can also count backwards...\n",
    "# For the last element in the list\n",
    "print(a[-1])"
   ]
  },
  {
   "cell_type": "code",
   "execution_count": 18,
   "id": "4ed373db",
   "metadata": {},
   "outputs": [
    {
     "name": "stdout",
     "output_type": "stream",
     "text": [
      "72\n"
     ]
    }
   ],
   "source": [
    "# or the third to last\n",
    "print(a[-3])"
   ]
  },
  {
   "cell_type": "code",
   "execution_count": 19,
   "id": "b950983e",
   "metadata": {},
   "outputs": [
    {
     "name": "stdout",
     "output_type": "stream",
     "text": [
      "50\n"
     ]
    }
   ],
   "source": [
    "## You can use expressions in the operator that result in an int\n",
    "print(a[1+2])"
   ]
  },
  {
   "cell_type": "code",
   "execution_count": 20,
   "id": "419eca34",
   "metadata": {},
   "outputs": [
    {
     "ename": "TypeError",
     "evalue": "list indices must be integers or slices, not float",
     "output_type": "error",
     "traceback": [
      "\u001b[1;31m---------------------------------------------------------------------------\u001b[0m",
      "\u001b[1;31mTypeError\u001b[0m                                 Traceback (most recent call last)",
      "\u001b[1;32m~\\AppData\\Local\\Temp\\ipykernel_2900\\453843950.py\u001b[0m in \u001b[0;36m<module>\u001b[1;34m\u001b[0m\n\u001b[0;32m      1\u001b[0m \u001b[1;31m## But cannot use non-ints\u001b[0m\u001b[1;33m\u001b[0m\u001b[1;33m\u001b[0m\u001b[0m\n\u001b[1;32m----> 2\u001b[1;33m \u001b[0mprint\u001b[0m\u001b[1;33m(\u001b[0m\u001b[0ma\u001b[0m\u001b[1;33m[\u001b[0m\u001b[1;36m3.14159\u001b[0m\u001b[1;33m]\u001b[0m\u001b[1;33m)\u001b[0m\u001b[1;33m\u001b[0m\u001b[1;33m\u001b[0m\u001b[0m\n\u001b[0m",
      "\u001b[1;31mTypeError\u001b[0m: list indices must be integers or slices, not float"
     ]
    }
   ],
   "source": [
    "## But cannot use non-ints\n",
    "print(a[3.14159])"
   ]
  },
  {
   "cell_type": "code",
   "execution_count": null,
   "id": "01267fe3",
   "metadata": {},
   "outputs": [],
   "source": [
    "## But you can't access items that don't exist\n",
    "print(a[100])"
   ]
  },
  {
   "cell_type": "code",
   "execution_count": null,
   "id": "b03585b9",
   "metadata": {},
   "outputs": [],
   "source": [
    "## We can perform operations with certain elements\n",
    "a[2] - a[1]"
   ]
  },
  {
   "cell_type": "markdown",
   "id": "eb4a20f8",
   "metadata": {},
   "source": [
    "### Lists are mutable\n",
    "You can change the values in a list"
   ]
  },
  {
   "cell_type": "code",
   "execution_count": null,
   "id": "59fe7253",
   "metadata": {},
   "outputs": [],
   "source": [
    "a = [-47, 76, 80, 50, 72, 111, -10]\n",
    "id(a)"
   ]
  },
  {
   "cell_type": "code",
   "execution_count": null,
   "id": "27fec8bf",
   "metadata": {},
   "outputs": [],
   "source": [
    "# Reassign the a certain value at an index to a new value\n",
    "a[0] = 88\n",
    "print(a)\n",
    "print(id(a))"
   ]
  },
  {
   "cell_type": "markdown",
   "id": "6013c008",
   "metadata": {},
   "source": [
    "### Initializing a list and appending items\n",
    "You will often need to add values to a list. There are two main ways to do that\n",
    "- the += expression\n",
    "- list.append(value) expression"
   ]
  },
  {
   "cell_type": "code",
   "execution_count": null,
   "id": "0732635c",
   "metadata": {},
   "outputs": [],
   "source": [
    "# Initialize an empty list. This lets Python know the type so it can use the appropriate methods\n",
    "a_list = []\n",
    "\n",
    "# Add numbers 1-5 to a list by using range()\n",
    "for number in range(1,6):\n",
    "    # use the += augemented assignment to add a new value each iteration\n",
    "    a_list += [number]   # Notice that number needs to be in [] \n",
    "    \n",
    "print(a_list)"
   ]
  },
  {
   "cell_type": "code",
   "execution_count": null,
   "id": "6f8f8385",
   "metadata": {},
   "outputs": [],
   "source": [
    "## You can do this for anything sequence (a list or string)\n",
    "letters = []\n",
    "letters += 'Python'\n",
    "print(letters)"
   ]
  },
  {
   "cell_type": "markdown",
   "id": "0bbf2253",
   "metadata": {},
   "source": [
    "### Concatenation"
   ]
  },
  {
   "cell_type": "code",
   "execution_count": null,
   "id": "96051091",
   "metadata": {},
   "outputs": [],
   "source": [
    "# add two lists together with concatenation\n",
    "b = [1,2,3]\n",
    "c = [6,7,8]\n",
    "d = b + c\n",
    "print(d)"
   ]
  },
  {
   "cell_type": "markdown",
   "id": "f53593f3",
   "metadata": {},
   "source": [
    "### Iterating over a List"
   ]
  },
  {
   "cell_type": "code",
   "execution_count": null,
   "id": "1a437cac",
   "metadata": {},
   "outputs": [],
   "source": [
    "# We can iterate over a list using a for loop with the range and len functions\n",
    "\n",
    "a = [-47, 76, 80, 50, 72, 111, -10]\n",
    "\n",
    "for i in range(len(a)):\n",
    "    print(a[i])"
   ]
  },
  {
   "cell_type": "code",
   "execution_count": null,
   "id": "dc09cfd7",
   "metadata": {},
   "outputs": [],
   "source": [
    "# Great tool for doing something with a list of numbers\n",
    "product = 1\n",
    "for i in range(len(a)):\n",
    "    product *= a[i]\n",
    "print(product)"
   ]
  },
  {
   "cell_type": "code",
   "execution_count": null,
   "id": "00759770",
   "metadata": {},
   "outputs": [],
   "source": [
    "# Great tool for doing something with a list of numbers\n",
    "total = 0\n",
    "for i in range(len(a)):\n",
    "    total += a[i]\n",
    "print(total)"
   ]
  },
  {
   "cell_type": "markdown",
   "id": "16f9c4dd",
   "metadata": {},
   "source": [
    "### Tuples\n",
    "As we've seen before, we can also hold heterogeneous values in tuples. We can also access elements in a tuple in the same way as a list. \n",
    "\n",
    "But there are some important differences to lists - \n",
    "**tuples are not mutable -- the values in the tuple cannot change**"
   ]
  },
  {
   "cell_type": "code",
   "execution_count": null,
   "id": "33306853",
   "metadata": {},
   "outputs": [],
   "source": [
    "# We use round parentheses, but when initializing, you can just separate values by commas\n",
    "student_tuple = 'John', 'Green', 3.3\n",
    "print(student_tuple)"
   ]
  },
  {
   "cell_type": "code",
   "execution_count": null,
   "id": "7b8533bd",
   "metadata": {},
   "outputs": [],
   "source": [
    "# Access information in the same way\n",
    "print(student_tuple[1])"
   ]
  },
  {
   "cell_type": "code",
   "execution_count": null,
   "id": "1a1ae966",
   "metadata": {},
   "outputs": [],
   "source": [
    "#Using the len function\n",
    "len(student_tuple)"
   ]
  },
  {
   "cell_type": "code",
   "execution_count": null,
   "id": "80900f52",
   "metadata": {},
   "outputs": [],
   "source": [
    "# Single element tuple\n",
    "single = ('John',)\n",
    "type(single)"
   ]
  },
  {
   "cell_type": "code",
   "execution_count": null,
   "id": "f88a76d2",
   "metadata": {},
   "outputs": [],
   "source": [
    "# Unlike lists, you cannot modify the values in tuples\n",
    "student_tuple[0] = \"Hank\""
   ]
  },
  {
   "cell_type": "code",
   "execution_count": null,
   "id": "f1759aba",
   "metadata": {},
   "outputs": [],
   "source": [
    "# But we can modify values if there is a mutable type within the tuple (like a list)\n",
    "mixed = ('John', 'Green', [3.3,3.5,2.5])\n",
    "print(id(mixed))\n",
    "mixed[2][2] = 3.9\n",
    "print(mixed)\n",
    "print(id(mixed))"
   ]
  },
  {
   "cell_type": "code",
   "execution_count": null,
   "id": "0663b752",
   "metadata": {},
   "outputs": [],
   "source": [
    "# You can add items with another tuple. This creates a \"new\" tuple\n",
    "student_tuple += (2020, \"graduated\")\n",
    "print(student_tuple)"
   ]
  },
  {
   "cell_type": "markdown",
   "id": "8a4122cd",
   "metadata": {},
   "source": [
    "### Strings are also immutable and indexable"
   ]
  },
  {
   "cell_type": "code",
   "execution_count": null,
   "id": "538f9b09",
   "metadata": {},
   "outputs": [],
   "source": [
    "st = \"apple\"\n",
    "print(st[2])"
   ]
  },
  {
   "cell_type": "code",
   "execution_count": null,
   "id": "2858a71e",
   "metadata": {},
   "outputs": [],
   "source": [
    "# strings are immutable\n",
    "st[0] = 'e'"
   ]
  },
  {
   "cell_type": "markdown",
   "id": "e73c702e",
   "metadata": {},
   "source": [
    "### Slicing\n",
    "\n",
    "You can create new sequences from larger sequences with slicing. A slice copies elements from a starting index on the left of the colon up to, but not including, the ending index on teh right of the colon"
   ]
  },
  {
   "cell_type": "code",
   "execution_count": null,
   "id": "42ae3875",
   "metadata": {},
   "outputs": [],
   "source": [
    "a = [-47, 76, 80, 50, 72, 111, -10]\n",
    "# slice the 2:6 items\n",
    "a = a[2:6]\n",
    "print(a)"
   ]
  },
  {
   "cell_type": "code",
   "execution_count": null,
   "id": "b7313e9a",
   "metadata": {},
   "outputs": [],
   "source": [
    "# if you omit the starting index, 0 is assumed\n",
    "a = [-47, 76, 80, 50, 72, 111, -10]\n",
    "# slice the 2:6 items\n",
    "a = a[:6]\n",
    "print(a)"
   ]
  },
  {
   "cell_type": "code",
   "execution_count": null,
   "id": "0770ce03",
   "metadata": {},
   "outputs": [],
   "source": [
    "# if you omit the ending index, the entire length is assumed\n",
    "a = [-47, 76, 80, 50, 72, 111, -10]\n",
    "# slice the 2:6 items\n",
    "a = a[2:]\n",
    "print(a)"
   ]
  },
  {
   "cell_type": "code",
   "execution_count": null,
   "id": "45b7ad09",
   "metadata": {},
   "outputs": [],
   "source": [
    "## if you put two colons and then a number, it will increment the list by that many. Every other element\n",
    "a[::2]"
   ]
  },
  {
   "cell_type": "code",
   "execution_count": null,
   "id": "dbcf2403",
   "metadata": {},
   "outputs": [],
   "source": [
    "## backwards\n",
    "a[::-1]"
   ]
  },
  {
   "cell_type": "markdown",
   "id": "9e029ba4",
   "metadata": {},
   "source": [
    "### Exercise 1\n",
    "Practice what we've talked about! Start with the string \"Python is cool!\". Make it into a list and slice the list so that it just says \"is cool\""
   ]
  },
  {
   "cell_type": "code",
   "execution_count": null,
   "id": "3a207924",
   "metadata": {},
   "outputs": [],
   "source": []
  },
  {
   "cell_type": "markdown",
   "id": "04835b3b",
   "metadata": {},
   "source": [
    "### Grocery List\n",
    "\n",
    "We will be working mostly with this grocery list for the following example"
   ]
  },
  {
   "cell_type": "code",
   "execution_count": null,
   "id": "e27758dc",
   "metadata": {},
   "outputs": [],
   "source": [
    "grocery = ['garlic','daikon','carrot','bok choy','fish sauce']"
   ]
  },
  {
   "cell_type": "markdown",
   "id": "405b65fd",
   "metadata": {},
   "source": [
    "### Unpacking Sequences\n",
    "- We can unpack any sequence (list, tuple, or string) by assigning the sequence to a comma separated list of variables\n",
    "- We will get an error if we do not have an identical number of variable assignments and elements in the list"
   ]
  },
  {
   "cell_type": "code",
   "execution_count": null,
   "id": "04035b09",
   "metadata": {},
   "outputs": [],
   "source": [
    "a,b,c,d,e = grocery\n",
    "print(a)\n",
    "print(b)\n",
    "print(c)\n",
    "print(d)\n",
    "print(e)"
   ]
  },
  {
   "cell_type": "code",
   "execution_count": null,
   "id": "9ad60cd3",
   "metadata": {},
   "outputs": [],
   "source": [
    "a,b,c = grocery"
   ]
  },
  {
   "cell_type": "markdown",
   "id": "d33cae3c",
   "metadata": {},
   "source": [
    "The enumerate() function will unpack the sequence and put the index number next to each element"
   ]
  },
  {
   "cell_type": "code",
   "execution_count": null,
   "id": "5ca51422",
   "metadata": {},
   "outputs": [],
   "source": [
    "list(enumerate(grocery))"
   ]
  },
  {
   "cell_type": "code",
   "execution_count": null,
   "id": "e2e2ae51",
   "metadata": {},
   "outputs": [],
   "source": [
    "tuple(enumerate(grocery))"
   ]
  },
  {
   "cell_type": "code",
   "execution_count": null,
   "id": "7b2b672e",
   "metadata": {},
   "outputs": [],
   "source": [
    "for index, item in enumerate(grocery):\n",
    "    print(f'{index+1}: {item}')"
   ]
  },
  {
   "cell_type": "markdown",
   "id": "869d90b5",
   "metadata": {},
   "source": [
    "### del Statement\n",
    "\n",
    "The del statement will delete elements from a sequence. We can even use it to delete a variable"
   ]
  },
  {
   "cell_type": "code",
   "execution_count": null,
   "id": "0e1c9ff9",
   "metadata": {},
   "outputs": [],
   "source": [
    "grocery = ['garlic','daikon','carrot','bok choy','fish sauce']"
   ]
  },
  {
   "cell_type": "code",
   "execution_count": null,
   "id": "8713c4d2",
   "metadata": {},
   "outputs": [],
   "source": [
    "# Let's get rid of daikon\n",
    "del grocery[1]"
   ]
  },
  {
   "cell_type": "code",
   "execution_count": null,
   "id": "39e2d9c1",
   "metadata": {},
   "outputs": [],
   "source": [
    "grocery"
   ]
  },
  {
   "cell_type": "code",
   "execution_count": null,
   "id": "e08f1cba",
   "metadata": {},
   "outputs": [],
   "source": [
    "# We can get rid of the last element\n",
    "del grocery[-1]"
   ]
  },
  {
   "cell_type": "code",
   "execution_count": null,
   "id": "f40d14a0",
   "metadata": {},
   "outputs": [],
   "source": [
    "grocery"
   ]
  },
  {
   "cell_type": "code",
   "execution_count": null,
   "id": "5ecf14d4",
   "metadata": {},
   "outputs": [],
   "source": [
    "# We can get rid of a range of elements as well\n",
    "del grocery[0:2]"
   ]
  },
  {
   "cell_type": "code",
   "execution_count": null,
   "id": "27132c9f",
   "metadata": {},
   "outputs": [],
   "source": [
    "grocery"
   ]
  },
  {
   "cell_type": "code",
   "execution_count": null,
   "id": "1ba4f2de",
   "metadata": {},
   "outputs": [],
   "source": [
    "# Finally, delete the whole variable\n",
    "del grocery"
   ]
  },
  {
   "cell_type": "code",
   "execution_count": null,
   "id": "97f04e2c",
   "metadata": {},
   "outputs": [],
   "source": [
    "grocery"
   ]
  },
  {
   "cell_type": "markdown",
   "id": "08541970",
   "metadata": {},
   "source": [
    "### Passing Lists to Functions"
   ]
  },
  {
   "cell_type": "code",
   "execution_count": null,
   "id": "10539445",
   "metadata": {},
   "outputs": [],
   "source": [
    "def modify_elements(items: list):\n",
    "    '''Multyply all elements in a list by 2'''\n",
    "    for i in range(len(items)):\n",
    "        items[i] *= 2\n",
    "        # or \n",
    "        #items[i] = item[i] * 2\n",
    "        \n",
    "numbers = [10,3,7,1,9]\n",
    "modify_elements(numbers)\n",
    "\n",
    "print(numbers)\n",
    "\n",
    "### This doesn't seem right immediately! \n",
    "### We didn't return any values! However, since numbers was defined at the global level,\n",
    "### the loop's suite modifies each element in the original (global) list"
   ]
  },
  {
   "cell_type": "markdown",
   "id": "606cc7dc",
   "metadata": {},
   "source": [
    "### Sorting Lists\n",
    "We have a couple ways to sort a list:\n",
    "1. The .sort() method will permenantly sort the list in ascending or descending order\n",
    "2. The sorted() function will sort the list but not save it"
   ]
  },
  {
   "cell_type": "code",
   "execution_count": null,
   "id": "98a5bac9",
   "metadata": {},
   "outputs": [],
   "source": [
    "grocery = ['garlic','daikon','carrot','bok choy','fish sauce']"
   ]
  },
  {
   "cell_type": "code",
   "execution_count": null,
   "id": "ecbe13df",
   "metadata": {},
   "outputs": [],
   "source": [
    "# Sort Ascending\n",
    "grocery.sort()\n",
    "grocery"
   ]
  },
  {
   "cell_type": "code",
   "execution_count": null,
   "id": "d0aa0775",
   "metadata": {},
   "outputs": [],
   "source": [
    "# Sort Descending\n",
    "grocery.sort(reverse = True)\n",
    "grocery"
   ]
  },
  {
   "cell_type": "code",
   "execution_count": null,
   "id": "dd63f14f",
   "metadata": {},
   "outputs": [],
   "source": [
    "# The sorted() function which will not alter the original list\n",
    "grocery = ['garlic','daikon','carrot','bok choy','fish sauce']\n",
    "sorted(grocery)"
   ]
  },
  {
   "cell_type": "code",
   "execution_count": null,
   "id": "a0df4b34",
   "metadata": {},
   "outputs": [],
   "source": [
    "# Sorted in descending order\n",
    "sorted(grocery, reverse = True)"
   ]
  },
  {
   "cell_type": "code",
   "execution_count": null,
   "id": "3c6bb272",
   "metadata": {},
   "outputs": [],
   "source": [
    "# Still the same\n",
    "grocery"
   ]
  },
  {
   "cell_type": "markdown",
   "id": "1928987d",
   "metadata": {},
   "source": [
    "### Searching Sequences\n",
    "We have a couple ways to search a sequence:\n",
    "1. The .index() method will return the index number of the first match in the sequence\n",
    "2. The \"in\" and \"not in\" operators will determine if the element exists in the list"
   ]
  },
  {
   "cell_type": "code",
   "execution_count": null,
   "id": "82ce2f15",
   "metadata": {},
   "outputs": [],
   "source": [
    "# Let's see if I put bok choy in my list\n",
    "grocery.index('bok choy')"
   ]
  },
  {
   "cell_type": "code",
   "execution_count": null,
   "id": "0ae4ebfc",
   "metadata": {},
   "outputs": [],
   "source": [
    "'bok choy' in grocery"
   ]
  },
  {
   "cell_type": "code",
   "execution_count": null,
   "id": "76cbc421",
   "metadata": {},
   "outputs": [],
   "source": [
    "# We can also search over a range. In this we search from index 2 up to 4\n",
    "grocery.index('bok choy', 2 , 4)"
   ]
  },
  {
   "cell_type": "code",
   "execution_count": null,
   "id": "87873a5f",
   "metadata": {},
   "outputs": [],
   "source": [
    "# Let's see if 'soy sauce' is in there\n",
    "'soy sauce' in grocery"
   ]
  },
  {
   "cell_type": "code",
   "execution_count": null,
   "id": "833b5e87",
   "metadata": {},
   "outputs": [],
   "source": [
    "grocery.index('soy sauce')"
   ]
  },
  {
   "cell_type": "code",
   "execution_count": null,
   "id": "cca723a4",
   "metadata": {},
   "outputs": [],
   "source": [
    "# Let's confirm that'soy sauce' is not in there\n",
    "'soy sauce' not in grocery"
   ]
  },
  {
   "cell_type": "markdown",
   "id": "ad66911d",
   "metadata": {},
   "source": [
    "### Other Methods\n",
    "\n",
    "1. .insert(index, value) will insert an element with the given value at the indexed position\n",
    "2. .append(value) will add the value to the end of a list\n",
    "3. .extend([list of values]) will add a list to the end of the list\n",
    "4. .remove(value) will remove the first instance of that value from the list\n",
    "5. .clear() will empty out the list\n",
    "6. .count(value) will give the number of occurrences of that value in the sequence\n",
    "7. .reverse() will reverse the order of the list\n",
    "8. .copy() will create a copy of the sequence"
   ]
  },
  {
   "cell_type": "code",
   "execution_count": null,
   "id": "19339303",
   "metadata": {},
   "outputs": [],
   "source": [
    "# Let's add soy sauce on there. We will add it at the start of the list(index 0)\n",
    "grocery.insert(0,'soy sauce')\n",
    "grocery"
   ]
  },
  {
   "cell_type": "code",
   "execution_count": null,
   "id": "3a3146e1",
   "metadata": {},
   "outputs": [],
   "source": [
    "# Let's also add in 'napa cabbage'. This time append to the end\n",
    "grocery.append('napa cabbage')\n",
    "grocery"
   ]
  },
  {
   "cell_type": "code",
   "execution_count": null,
   "id": "45968a3c",
   "metadata": {},
   "outputs": [],
   "source": [
    "# Let's add in 'shitake' and 'pear' at the same time with the extend method\n",
    "grocery.extend(['shitake','shitake'])\n",
    "grocery"
   ]
  },
  {
   "cell_type": "code",
   "execution_count": null,
   "id": "6c77ec97",
   "metadata": {},
   "outputs": [],
   "source": [
    "# Whoops! I don't want shitakes for this recipe. Let's remove those\n",
    "grocery.remove('shitake')\n",
    "grocery"
   ]
  },
  {
   "cell_type": "code",
   "execution_count": null,
   "id": "5b2fa00f",
   "metadata": {},
   "outputs": [],
   "source": [
    "# Let's see how many times daikon is on this list\n",
    "grocery.count('shitake')"
   ]
  },
  {
   "cell_type": "code",
   "execution_count": null,
   "id": "f6ae705a",
   "metadata": {},
   "outputs": [],
   "source": [
    "# Let's reverese the order. First look\n",
    "grocery.reverse()\n",
    "grocery"
   ]
  },
  {
   "cell_type": "code",
   "execution_count": null,
   "id": "465b693e",
   "metadata": {},
   "outputs": [],
   "source": [
    "# Make a copy of the list\n",
    "grocery_copy = grocery.copy()\n",
    "grocery_copy"
   ]
  },
  {
   "cell_type": "code",
   "execution_count": null,
   "id": "bafda180",
   "metadata": {},
   "outputs": [],
   "source": [
    "# Empty out the list\n",
    "grocery.clear()\n",
    "grocery"
   ]
  },
  {
   "cell_type": "markdown",
   "id": "7211f107",
   "metadata": {},
   "source": [
    "### Exercise 2: Birthday Party\n",
    "\n",
    "Below is the list of people I want to invite to my birthday party. However, there are some changes I want to make to the list:\n",
    "- Make a copy of the original list\n",
    "- Steve has been jerk to me lately so I want to remove him from the list\n",
    "- I want to add Carrie and Travis to the list\n",
    "- I want to sort the list in ascending order\n",
    "- I want to make sure that Sienna is in the list\n",
    "- Print out the complete list with a number next to each name (start at 1)"
   ]
  },
  {
   "cell_type": "code",
   "execution_count": null,
   "id": "eb97bf9d",
   "metadata": {},
   "outputs": [],
   "source": [
    "birthday = ['Steve', 'Ryan', 'Lonnie', 'Sienna']"
   ]
  },
  {
   "cell_type": "markdown",
   "id": "2c353e73",
   "metadata": {},
   "source": [
    "### List Comprehensions\n",
    "\n",
    "List comprehensions allow us to create list without explicitly typing out every element in a list. Sometimes lists might be long and/or we do not want to make a mistake when creating the list.\n",
    "\n",
    "Before we may have made a long list as follows:"
   ]
  },
  {
   "cell_type": "code",
   "execution_count": null,
   "id": "01ab869a",
   "metadata": {},
   "outputs": [],
   "source": [
    "list1 = []\n",
    "\n",
    "for item in range(1,20,2):\n",
    "    list1.append(item)\n",
    "    \n",
    "list1"
   ]
  },
  {
   "cell_type": "markdown",
   "id": "ef6ee32f",
   "metadata": {},
   "source": [
    "With a list comprehension, we can do this process in less lines of code:"
   ]
  },
  {
   "cell_type": "code",
   "execution_count": null,
   "id": "bc0dadc6",
   "metadata": {},
   "outputs": [],
   "source": [
    "list2 = [item for item in range(1,20,2)]\n",
    "\n",
    "list2"
   ]
  },
  {
   "cell_type": "markdown",
   "id": "84a77d86",
   "metadata": {},
   "source": [
    "An even simplier method:"
   ]
  },
  {
   "cell_type": "code",
   "execution_count": null,
   "id": "997ac3ee",
   "metadata": {},
   "outputs": [],
   "source": [
    "list3 = list(range(1,20,2))\n",
    "\n",
    "list3"
   ]
  },
  {
   "cell_type": "markdown",
   "id": "f7ba29f4",
   "metadata": {},
   "source": [
    "## Filter, Map, Reduce\n",
    "\n",
    "These techniques are integral in data analysis and processing. Let's go over each technique:\n",
    "- Filter: Extracting only the elements of a list that match a certain condition. There will be less elements (or the same) after a filter happens\n",
    "- Mapping: takes an original list and transforms the elements into something new. There will be the same number of elements after mapping takes place.\n",
    "- Reduce: Processing a sequence's elements into a sinlge value.\n",
    "\n",
    "### Filter\n",
    "\n",
    "We can create a filter for a list using the if statement within our list comprehension."
   ]
  },
  {
   "cell_type": "code",
   "execution_count": null,
   "id": "6e9c8c40",
   "metadata": {},
   "outputs": [],
   "source": [
    "filtered_list = [item for item in list3 if item % 3 == 0]\n",
    "filtered_list"
   ]
  },
  {
   "cell_type": "markdown",
   "id": "f3ea1160",
   "metadata": {},
   "source": [
    "We can also filter using the \"filter\" function. This function takes two arguments:\n",
    "- the first is the filter we wish to apply which comes in the form of a function\n",
    "- the second is the list we want to filter"
   ]
  },
  {
   "cell_type": "code",
   "execution_count": null,
   "id": "661d7262",
   "metadata": {},
   "outputs": [],
   "source": [
    "def div_three(x: int) -> bool:\n",
    "    \"\"\"\"Return True if divisable by three\"\"\"\n",
    "    return x % 3 == 0"
   ]
  },
  {
   "cell_type": "code",
   "execution_count": null,
   "id": "875762bb",
   "metadata": {},
   "outputs": [],
   "source": [
    "list(filter(div_three, list1))"
   ]
  },
  {
   "cell_type": "markdown",
   "id": "9368d401",
   "metadata": {},
   "source": [
    "#### Lambdas\n",
    "\n",
    "Instead of creating a whole function, we can use a lambda to make a quick funciton that will perform the same task but in a sinlge line.\n",
    "\n",
    "Lambdas are *anonymous* functions that do not have names but work like a function without being explicitly defined"
   ]
  },
  {
   "cell_type": "code",
   "execution_count": null,
   "id": "66b66405",
   "metadata": {},
   "outputs": [],
   "source": [
    "list(filter(lambda x: x % 3 == 0, list1))"
   ]
  },
  {
   "cell_type": "markdown",
   "id": "7306c9e2",
   "metadata": {},
   "source": [
    "#### Exercise 3\n",
    "\n",
    "Below are the high temps in Sioux Falls for January 2022. Let's make a filter using the techniques above to create a list of only the high temperaturs above 30."
   ]
  },
  {
   "cell_type": "code",
   "execution_count": null,
   "id": "240b9e98",
   "metadata": {},
   "outputs": [],
   "source": [
    "jan = [4, 22, 43, 43, 0, -1, 21, 37, 22, 22, 52, 51, 43, 31, 16, 41, \n",
    "       45, 52, 11, 13, 28, 43, 29, 35, 15, 43, 37, 34, 47, 29, 50]"
   ]
  },
  {
   "cell_type": "code",
   "execution_count": null,
   "id": "8f7969cb",
   "metadata": {},
   "outputs": [],
   "source": []
  },
  {
   "cell_type": "code",
   "execution_count": null,
   "id": "e252db7b",
   "metadata": {},
   "outputs": [],
   "source": []
  },
  {
   "cell_type": "code",
   "execution_count": null,
   "id": "c765d758",
   "metadata": {},
   "outputs": [],
   "source": []
  },
  {
   "cell_type": "markdown",
   "id": "5bd4dbe4",
   "metadata": {},
   "source": [
    "### Mapping\n",
    "\n",
    "This technique allows us to transform a list of data into something else. We will still have the same number of elements after we are done mapping. Inside of our list comprehension, we use an expression to say what we want to do to the list."
   ]
  },
  {
   "cell_type": "code",
   "execution_count": null,
   "id": "b04ac294",
   "metadata": {},
   "outputs": [],
   "source": [
    "root_list = [item ** (1/2) for item in list1]\n",
    "root_list"
   ]
  },
  {
   "cell_type": "markdown",
   "id": "4fbcee67",
   "metadata": {},
   "source": [
    "There is also the built in \"map\" function which allows us to do like we did with the filter function and pass a function to do our transformation."
   ]
  },
  {
   "cell_type": "code",
   "execution_count": null,
   "id": "fa5f2122",
   "metadata": {},
   "outputs": [],
   "source": [
    "def square_root(x: float) -> float:\n",
    "    \"\"\"Returns the square root of the input\"\"\"\n",
    "    return x ** (1 / 2)\n",
    "\n",
    "list(map(square_root, list1))"
   ]
  },
  {
   "cell_type": "markdown",
   "id": "bf9ae9f6",
   "metadata": {},
   "source": [
    "Or, instead of defining a whole function, we can use a lambda."
   ]
  },
  {
   "cell_type": "code",
   "execution_count": null,
   "id": "59bb4647",
   "metadata": {},
   "outputs": [],
   "source": [
    "list(map(lambda x: x ** (1/2), list1))"
   ]
  },
  {
   "cell_type": "markdown",
   "id": "7260caae",
   "metadata": {},
   "source": [
    "#### Exercise 4\n",
    "\n",
    "Using our high temps from above, let's map that data from farenheit to celcius. Remember the formula is:\n",
    "\n",
    "C = (F - 32) * (5 / 9)"
   ]
  },
  {
   "cell_type": "code",
   "execution_count": null,
   "id": "a08707fc",
   "metadata": {},
   "outputs": [],
   "source": []
  },
  {
   "cell_type": "markdown",
   "id": "7cd94811",
   "metadata": {},
   "source": [
    "### Reduce\n",
    "\n",
    "This is summarizing a list into one value. We have seen these functions before: sum(), mean(), stdev(), ect"
   ]
  },
  {
   "cell_type": "code",
   "execution_count": null,
   "id": "e528a63d",
   "metadata": {},
   "outputs": [],
   "source": [
    "sum(list1)"
   ]
  },
  {
   "cell_type": "code",
   "execution_count": null,
   "id": "65811c6a",
   "metadata": {},
   "outputs": [],
   "source": [
    "import statistics as s\n",
    "s.mean(list1)"
   ]
  },
  {
   "cell_type": "code",
   "execution_count": null,
   "id": "05d50956",
   "metadata": {},
   "outputs": [],
   "source": [
    "s.stdev(list1)"
   ]
  },
  {
   "cell_type": "markdown",
   "id": "b334cd92",
   "metadata": {},
   "source": [
    "#### Exercise 5\n",
    "\n",
    "Let's reduce our January high temps (original list) down to the sum, average, and max."
   ]
  },
  {
   "cell_type": "code",
   "execution_count": null,
   "id": "950f40d4",
   "metadata": {},
   "outputs": [],
   "source": []
  },
  {
   "attachments": {
    "image-2.png": {
     "image/png": "[encoded data removed]"
    },
    "image.png": {
     "image/png": "[encoded data removed]"
    }
   },
   "cell_type": "markdown",
   "id": "3b7f5c74",
   "metadata": {},
   "source": [
    "### Two-Dimensional Lists\n",
    "![image.png](attachment:image.png)\n",
    "![image-2.png](attachment:image-2.png)\n",
    "\n",
    "Two-Dimensional lists are just a list with other lists as each element. We can use 2D lists to represents tables of data like something you would see in an Excel spreadsheet. Each row represents a collection of information related to one person, entity, or observation. Each row following contains the same information but pertaining to a different person, entity, or observation. Below is a table representation for a dataset called cars. There are 5 different cars represented here (5 rows) and each element is a specific piece of information about that car. Here is the order of each list:\n",
    "- Car Name\n",
    "- Car Year\n",
    "- Current Value\n",
    "- Total Kms\n",
    "- Petrol or Diesel Fuel\n",
    "- Manual or Automatic Transmission"
   ]
  },
  {
   "cell_type": "code",
   "execution_count": null,
   "id": "8834833e",
   "metadata": {},
   "outputs": [],
   "source": [
    "cars = [['ritz',2014,5.59,27000,'Petrol','Manual'],\n",
    "['sx4',2013,9.54,43000,'Diesel','Automatic'],\n",
    "['ciaz',2017,9.85,6900,'Petrol','Manual'],\n",
    "['wagon r',2011,4.15,5200,'Petrol','Manual'],\n",
    "['swift',2014,6.87,42450,'Diesel','Automatic']]"
   ]
  },
  {
   "cell_type": "markdown",
   "id": "c0be4256",
   "metadata": {},
   "source": [
    "If we want to access a certain row, we use our subscription operators as we did before. If we want the infor for the second car in the list, we can use:"
   ]
  },
  {
   "cell_type": "code",
   "execution_count": null,
   "id": "e96ff699",
   "metadata": {},
   "outputs": [],
   "source": [
    "cars[1]"
   ]
  },
  {
   "cell_type": "markdown",
   "id": "9576d831",
   "metadata": {},
   "source": [
    "How would we get info for the last car on the list?"
   ]
  },
  {
   "cell_type": "code",
   "execution_count": null,
   "id": "2985fa02",
   "metadata": {},
   "outputs": [],
   "source": []
  },
  {
   "cell_type": "markdown",
   "id": "247027a1",
   "metadata": {},
   "source": [
    "Accessing a column from the 2D list is a little trickier but we can use our list comprehensions to get the desired column. Let's pull the column for all the years of the cars"
   ]
  },
  {
   "cell_type": "code",
   "execution_count": null,
   "id": "41715d1e",
   "metadata": {},
   "outputs": [],
   "source": [
    "[row[1] for row in cars]"
   ]
  },
  {
   "cell_type": "markdown",
   "id": "57909fac",
   "metadata": {},
   "source": [
    "How would we get the column of Fuel Types?"
   ]
  },
  {
   "cell_type": "code",
   "execution_count": null,
   "id": "7c48b89c",
   "metadata": {},
   "outputs": [],
   "source": []
  },
  {
   "cell_type": "markdown",
   "id": "f014879b",
   "metadata": {},
   "source": [
    "Accessing a specific element is easier, we just use a double subscription operator. If we wanted the Transmission type for the third car, we would type:"
   ]
  },
  {
   "cell_type": "code",
   "execution_count": null,
   "id": "02158906",
   "metadata": {},
   "outputs": [],
   "source": []
  },
  {
   "cell_type": "markdown",
   "id": "6dc59496",
   "metadata": {},
   "source": [
    "How could we get the current value of the fourth car?"
   ]
  },
  {
   "cell_type": "code",
   "execution_count": null,
   "id": "994954df",
   "metadata": {},
   "outputs": [],
   "source": []
  },
  {
   "cell_type": "markdown",
   "id": "5a94c0d2",
   "metadata": {},
   "source": [
    "We can use a nested loop to print out the informationm on each car"
   ]
  },
  {
   "cell_type": "code",
   "execution_count": null,
   "id": "667fe828",
   "metadata": {},
   "outputs": [],
   "source": [
    "for row in cars:\n",
    "    for element in row:\n",
    "        print(element, end=' ')\n",
    "    print('\\n')"
   ]
  },
  {
   "cell_type": "markdown",
   "id": "faf5af8b",
   "metadata": {},
   "source": [
    "### Visualizations with Matplotlib and Seaborn\n",
    "\n",
    "We took a survey of students score (1 to 5) of the cafeteria food at Augie and got the following results:"
   ]
  },
  {
   "cell_type": "code",
   "execution_count": null,
   "id": "8f9073b1",
   "metadata": {},
   "outputs": [],
   "source": [
    "survey = [1, 2, 5, 4, 3, 5, 2, 1, 3, 3, 1, 4, 3, 3, 3, 2, 3, 3, 2, 5]\n",
    "len(survey)"
   ]
  },
  {
   "cell_type": "markdown",
   "id": "234320ac",
   "metadata": {},
   "source": [
    "We are going to create a barchart of the data to showcase our results. First we need to load in our modules:"
   ]
  },
  {
   "cell_type": "code",
   "execution_count": null,
   "id": "5b3fd176",
   "metadata": {},
   "outputs": [],
   "source": [
    "import matplotlib.pyplot as plt\n",
    "import numpy as np\n",
    "import seaborn as sns"
   ]
  },
  {
   "cell_type": "code",
   "execution_count": null,
   "id": "f4207b77",
   "metadata": {},
   "outputs": [],
   "source": [
    "score = [1,2,3,4,5]\n",
    "freqs = [survey.count(1),survey.count(2),survey.count(3),survey.count(4),survey.count(5)]\n",
    "freqs"
   ]
  },
  {
   "cell_type": "markdown",
   "id": "2bc50766",
   "metadata": {},
   "source": [
    "Now that we have our data summarized, we can make the chart. \n",
    "1. This line sets the theme of the chart. Other options are: 'darkgrid', 'whitegrid', 'dark', 'white' and 'ticks'\n",
    "2. This line defines the data we are using. The x is our categories and the y is the frequencies\n",
    "3. This line is to set a title for the whole chart\n",
    "4. This line is to set the x and y axis labels"
   ]
  },
  {
   "cell_type": "code",
   "execution_count": null,
   "id": "d5e4dac1",
   "metadata": {},
   "outputs": [],
   "source": [
    "sns.set_theme(style='whitegrid')\n",
    "ax = sns.barplot(x=score,y=freqs)\n",
    "ax.set_title('Survey Results')\n",
    "ax.set(xlabel='Survey Score',ylabel='Frequency')\n",
    "plt.show()"
   ]
  },
  {
   "cell_type": "markdown",
   "id": "92f80133",
   "metadata": {},
   "source": [
    "Going back to our cars data, we now have all of the cars in our database for their transmission types in the list below:"
   ]
  },
  {
   "cell_type": "code",
   "execution_count": null,
   "id": "51d2f941",
   "metadata": {},
   "outputs": [],
   "source": [
    "transmission = ['Manual','Manual','Manual','Manual','Manual','Manual','Manual','Manual','Manual',\n",
    "                'Manual','Manual','Manual','Automatic','Manual','Manual','Manual','Manual','Manual',\n",
    "                'Manual','Manual','Manual','Manual','Automatic','Manual','Manual','Manual','Manual',\n",
    "                'Manual','Manual','Manual','Manual','Manual','Manual','Manual','Manual','Manual',\n",
    "                'Manual','Manual','Manual','Manual','Automatic','Manual','Manual','Manual','Manual',\n",
    "                'Automatic','Manual','Manual','Manual','Automatic','Automatic','Automatic','Automatic','Automatic',\n",
    "                'Manual','Automatic','Manual','Manual','Manual','Automatic','Manual','Manual','Automatic','Automatic',\n",
    "                'Automatic','Manual','Automatic','Manual','Manual','Manual','Manual','Manual','Manual','Manual',\n",
    "                'Manual','Manual','Manual','Automatic','Automatic','Automatic','Manual','Manual','Automatic',\n",
    "                'Manual','Automatic','Manual','Manual','Manual','Manual','Manual','Manual','Automatic',\n",
    "                'Automatic','Manual','Automatic','Manual','Manual','Manual','Manual','Manual','Manual',\n",
    "                'Manual','Manual','Manual','Manual','Manual','Manual','Manual','Manual','Manual','Manual',\n",
    "                'Manual','Manual','Manual','Manual','Manual','Manual','Manual','Manual','Manual','Manual',\n",
    "                'Manual','Manual','Manual','Manual','Manual','Manual','Manual','Manual','Manual','Manual',\n",
    "                'Manual','Manual','Manual','Manual','Manual','Manual','Manual','Manual','Manual','Manual',\n",
    "                'Manual','Manual','Manual','Manual','Manual','Manual','Manual','Manual','Manual','Manual',\n",
    "                'Manual','Manual','Automatic','Manual','Manual','Manual','Automatic','Manual','Manual',\n",
    "                'Manual','Manual','Manual','Automatic','Manual','Manual','Manual','Manual','Manual','Manual',\n",
    "                'Manual','Automatic','Manual','Manual','Manual','Automatic','Automatic','Manual','Manual',\n",
    "                'Manual','Manual','Manual','Automatic','Automatic','Manual','Manual','Manual','Manual','Manual',\n",
    "                'Manual','Manual','Manual','Manual','Manual','Manual','Manual','Manual','Manual','Manual',\n",
    "                'Manual','Manual','Manual','Manual','Automatic','Manual','Manual','Manual','Manual','Manual',\n",
    "                'Manual','Manual','Manual','Manual','Manual','Manual','Manual','Manual','Automatic','Manual',\n",
    "                'Manual','Automatic','Manual','Manual','Manual','Manual','Manual','Manual','Manual','Automatic',\n",
    "                'Manual','Manual','Manual','Manual','Manual','Manual','Manual','Manual','Manual','Manual',\n",
    "                'Manual','Manual','Manual','Manual','Manual','Manual','Manual','Manual','Manual','Automatic',\n",
    "                'Manual','Manual','Manual','Manual','Manual','Manual','Manual','Manual','Manual','Manual',\n",
    "                'Manual','Manual','Manual','Manual','Manual','Manual','Manual','Manual','Manual','Manual',\n",
    "                'Manual','Manual','Automatic','Manual','Manual','Manual','Manual','Manual','Manual','Manual',\n",
    "                'Manual','Manual','Automatic','Manual','Automatic','Manual','Manual','Manual','Manual',\n",
    "                'Manual','Manual','Manual','Manual','Manual','Manual','Manual','Manual','Manual']\n"
   ]
  },
  {
   "cell_type": "markdown",
   "id": "3f343564",
   "metadata": {},
   "source": [
    "### Exercise 6:\n",
    "Using this list, create a barchart with the two groups(Manual and Automatic) on the x-axis and the frequencies on the y-axis"
   ]
  },
  {
   "cell_type": "code",
   "execution_count": null,
   "id": "d0eba8ee",
   "metadata": {},
   "outputs": [],
   "source": []
  }
 ],
 "metadata": {
  "kernelspec": {
   "display_name": "Python 3 (ipykernel)",
   "language": "python",
   "name": "python3"
  },
  "language_info": {
   "codemirror_mode": {
    "name": "ipython",
    "version": 3
   },
   "file_extension": ".py",
   "mimetype": "text/x-python",
   "name": "python",
   "nbconvert_exporter": "python",
   "pygments_lexer": "ipython3",
   "version": "3.9.12"
  }
 },
 "nbformat": 4,
 "nbformat_minor": 5
}
