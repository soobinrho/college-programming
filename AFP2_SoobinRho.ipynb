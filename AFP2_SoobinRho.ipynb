{
 "cells": [
  {
   "cell_type": "markdown",
   "id": "9a37a6ef-106d-41cb-a1f6-40ffd6ae5eeb",
   "metadata": {},
   "source": [
    "# Assigned Forum Problem #2\n",
    "\n",
    "`8.4.24`\n",
    "`Calculus II`\n",
    "`June 16, 2022`\n",
    "`Soobin Rho`\n",
    "***"
   ]
  },
  {
   "cell_type": "markdown",
   "id": "8a2175ee",
   "metadata": {},
   "source": [
    "$$\\textbf{24.}\\quad \\int_0^1 \\frac{dx}{(4-x^2)^{\\frac{3}{2}}}$$"
   ]
  },
  {
   "cell_type": "markdown",
   "id": "3b368d44",
   "metadata": {},
   "source": [
    "Before diving into how we can solve this problem, what is the importance of this problem? In other words, why are we trying to solve problems like this one? \n",
    "\n",
    "Of course as you may well know, one good thing about knowing the integral of a function is that you can now calculate the area under the funciton. Finding the area, however, may not be the best thing; rather, there can be much better things about integrals. \n",
    "\n",
    "What we gain by solving problems like this one is that we gain a deeper understanding of the function inside, which we call the integrand. In this case, the integrand is $\\frac{1}{(4-x^2)^{\\frac{3}{2}}}$ By integrating the integrand, we get the solution -- we call this the integral. What do I mean by a deeper understanding? \n",
    "\n",
    "It means that we can better understand how the function behaves. It means that we can not only calculate the area under the function, but we can also calculate many other things related to the function. This exact function may or may not be descriptive of something in our everyday life, but by learning how to integrate functions like this one, we will be better at integrating functions that can actually be descriptive of things around us. If we can find functions that describe things around us and then find integrals of those functions, we will have a deeper understanding of the world around us. This will help us better understand our world, and this in turn will help us to make it better."
   ]
  },
  {
   "cell_type": "markdown",
   "id": "5f320938",
   "metadata": {},
   "source": [
    "$$\\int log_2(x)dx= mf(m) \\int mf(m) dm$$\n",
    "$$\\int log_2(x)dx= m2^{m} \\int m2^{m} dm \\tag{what it should have been}$$\n",
    "<br>\n",
    "$$\\int log_2(x)dx= m2^{m} \\int m2^{m} dm \\tag{where I went wrong. I forgot that I should}$$\n",
    "$$\\int log_2(x)dx= m2^{m} \\int x dx \\tag{substitute back m after integrating!}$$"
   ]
  },
  {
   "cell_type": "raw",
   "id": "50bacd50",
   "metadata": {},
   "source": [
    "## Initial Thoughts"
   ]
  },
  {
   "cell_type": "markdown",
   "id": "5da43f99",
   "metadata": {},
   "source": [
    "At first, I had no idea how to begin this problem. Especially, I was not sure about the instruction right above the question, which was this:"
   ]
  },
  {
   "cell_type": "markdown",
   "id": "959b9a60",
   "metadata": {},
   "source": [
    "It turns out that `integrate( log[2](x), x )` and `integrate( ln(x)/ln(2), x )` give the same answer! Well, this may sound obvious to you, but it was not for me :) Anyways, what I did now was to change the original questoin from $ \\int log_2(x)\\,dx$ into $ \\int \\frac{ln(x)}{ln(2)}\\,dx$\n",
    "\n",
    "\n",
    "What, then, is the answer to this? $$ \\int \\frac{ln(x)}{ln(2)}\\,dx$$"
   ]
  },
  {
   "cell_type": "markdown",
   "id": "ae8f4daf",
   "metadata": {},
   "source": [
    "Then, $\\int f(x)g'(x)\\,dx = f(x)g(x) - \\int f'(x)g(x)\\,dx$, so \n",
    "\n",
    "$$\\frac{1}{ln(2)} \\int ln(x)\\,dx = \\frac{1}{ln(2)} [xln(x) - \\int \\frac{1}{x}x\\,dx]$$\n",
    "\n",
    "$$= \\frac{1}{ln(2)} [xln(x) - \\int \\frac{x}{x}\\,dx]$$\n",
    "\n",
    "$$= \\frac{1}{ln(2)} [xln(x) - \\int 1\\,dx]$$\n",
    "\n",
    "$$= \\frac{1}{ln(2)} [xln(x) -x+C]$$\n",
    "\n",
    "$$= \\frac{xln(x) -x+C}{ln(2)}$$"
   ]
  },
  {
   "cell_type": "markdown",
   "id": "741856c1",
   "metadata": {},
   "source": [
    "## Integration"
   ]
  },
  {
   "cell_type": "markdown",
   "id": "046b4c4e",
   "metadata": {},
   "source": [
    "bla bla"
   ]
  },
  {
   "cell_type": "markdown",
   "id": "159b3c83",
   "metadata": {},
   "source": [
    "## Verifying the Integral by Differentiating the Integral"
   ]
  },
  {
   "cell_type": "markdown",
   "id": "7dbc69f5",
   "metadata": {},
   "source": []
  },
  {
   "cell_type": "markdown",
   "id": "ce628c4e",
   "metadata": {},
   "source": []
  },
  {
   "cell_type": "markdown",
   "id": "f26d9e32",
   "metadata": {},
   "source": [
    "## One More Way of Verifying: Making Graphs"
   ]
  },
  {
   "cell_type": "code",
   "execution_count": 1,
   "id": "f2bd0d8d",
   "metadata": {
    "scrolled": false
   },
   "outputs": [
    {
     "data": {
      "image/png": "[encoded data removed]",
      "text/plain": [
       "<Figure size 400x400 with 1 Axes>"
      ]
     },
     "metadata": {
      "needs_background": "light"
     },
     "output_type": "display_data"
    }
   ],
   "source": [
    "'''\n",
    "Python code for verifying our integral. You can ignore this code.\n",
    "I would have written this AFP on Maple, but my minus signs were\n",
    "failing to render. Instead of the minus sing(-), it would show as K.\n",
    "I think it probably is because my laptop is a Linux. \n",
    "\n",
    "So, I chose to write my AFP on Jupyter Notebook instead, since\n",
    "I happen to be learning about Jupyter Notebook's on my other class: Computer Science I.\n",
    "'''\n",
    "import numpy as np\n",
    "import matplotlib.pyplot as plt\n",
    "import seaborn as sns\n",
    "\n",
    "# Initializing the graph.\n",
    "fig = plt.figure(figsize=(5, 5), dpi=80)\n",
    "plt.axhline(0, color='black')\n",
    "plt.axvline(0, color='black')\n",
    "plt.ylim(-1, 3)\n",
    "sns.set_theme()\n",
    "ax = plt.gca()\n",
    "ax.set_aspect(1)\n",
    "\n",
    "# Define the function of the integrand.\n",
    "x_integrand = np.linspace(-1.9, 1.9, 1000)\n",
    "y_integrand = np.power(4 - np.power(x_integrand, 2), (-3/2))\n",
    "plt.plot(x_integrand, y_integrand)\n",
    "str_equation = r'$f(x)=\\frac{1}{(4-x^2)^{\\frac{3}{2}}}$'\n",
    "plt.annotate(str_equation, xy=(0, 0), xytext=(-1.6, 0.63), fontsize=15)\n",
    "\n",
    "# Define the function of the integral.\n",
    "x_integral = np.linspace(-1.9, 1.99, 100)\n",
    "y_integral = x_integral / (4 * (4 - np.power(x_integral, 2)))\n",
    "plt.plot(x_integral, y_integral)\n",
    "str_equation = r'$F(x)=\\frac{x}{4\\sqrt{4-x^2}}$'\n",
    "plt.annotate(str_equation, xy=(0, 0), xytext=(-1.6, -0.5), fontsize=15)\n",
    "\n",
    "# Hightlight the area\n",
    "plt.fill_between(x_integrand, \n",
    "                 y_integrand, \n",
    "                 where= (x_integrand >= 0)&(x_integrand <= 1),\n",
    "                 facecolor=\"grey\", \n",
    "                 alpha=0.3)\n",
    "\n",
    "# Display the graph.\n",
    "plt.show()"
   ]
  },
  {
   "cell_type": "markdown",
   "id": "ac594120",
   "metadata": {},
   "source": [
    "First, let's visualize how the integrand and the integral look like."
   ]
  },
  {
   "cell_type": "code",
   "execution_count": 173,
   "id": "2854b31e",
   "metadata": {},
   "outputs": [
    {
     "data": {
      "image/png": "[encoded data removed]",
      "text/plain": [
       "<Figure size 400x400 with 1 Axes>"
      ]
     },
     "metadata": {},
     "output_type": "display_data"
    }
   ],
   "source": [
    "# Initializing the graph.\n",
    "fig = plt.figure(figsize=(5, 5), dpi=80)\n",
    "plt.axhline(0, color='black')\n",
    "plt.axvline(0, color='black')\n",
    "plt.xlim(-0.95, 1.5)\n",
    "plt.ylim(-0.35, 0.5)\n",
    "\n",
    "# Plot the function of the integrand.\n",
    "plt.plot(x_integrand, y_integrand)\n",
    "str_equation = r'$f(x)=\\frac{1}{(4-x^2)^{\\frac{3}{2}}}$'\n",
    "plt.annotate(str_equation, xy=(0, 0), xytext=(-0.9, 0.2), fontsize=15)\n",
    "\n",
    "# Plot the function of the integral.\n",
    "plt.plot(x_integral, y_integral)\n",
    "str_equation = r'$F(x)=\\frac{x}{4\\sqrt{4-x^2}}$'\n",
    "plt.annotate(str_equation, xy=(0, 0), xytext=(-0.9, -0.13), fontsize=15)\n",
    "\n",
    "# Hightlight the area\n",
    "plt.fill_between(x_integrand, \n",
    "                 y_integrand, \n",
    "                 where= (x_integrand >= 0)&(x_integrand <= 1),\n",
    "                 facecolor=\"grey\", \n",
    "                 alpha=0.23)\n",
    "\n",
    "# Display the graph.\n",
    "plt.show()"
   ]
  },
  {
   "cell_type": "markdown",
   "id": "7e93f64c",
   "metadata": {},
   "source": [
    "The question asks us to evaluate $\\int_0^1$ So, here's the same graph zoomed in. "
   ]
  },
  {
   "cell_type": "markdown",
   "id": "b68bd1a2",
   "metadata": {},
   "source": [
    "Hope this was clear and easy to understand. Will try to make it clearer and easier to understand next time :) See you later!"
   ]
  },
  {
   "cell_type": "markdown",
   "id": "600646ac",
   "metadata": {},
   "source": [
    "<br>"
   ]
  }
 ],
 "metadata": {
  "kernelspec": {
   "display_name": "Python 3 (ipykernel)",
   "language": "python",
   "name": "python3"
  },
  "language_info": {
   "codemirror_mode": {
    "name": "ipython",
    "version": 3
   },
   "file_extension": ".py",
   "mimetype": "text/x-python",
   "name": "python",
   "nbconvert_exporter": "python",
   "pygments_lexer": "ipython3",
   "version": "3.9.12"
  }
 },
 "nbformat": 4,
 "nbformat_minor": 5
}
