{
 "cells": [
  {
   "cell_type": "markdown",
   "id": "9a37a6ef-106d-41cb-a1f6-40ffd6ae5eeb",
   "metadata": {},
   "source": [
    "# Assigned Forum Problem #2\n",
    "\n",
    "`8.4.24`\n",
    "`Calculus II`\n",
    "`June 16, 2022`\n",
    "`Soobin Rho`\n",
    "***"
   ]
  },
  {
   "cell_type": "markdown",
   "id": "339c82f8-416d-45da-80f0-7886efaddb74",
   "metadata": {},
   "source": [
    "## Problem #8.4.24"
   ]
  },
  {
   "cell_type": "markdown",
   "id": "8a2175ee",
   "metadata": {},
   "source": [
    "$$\\textbf{24.}\\quad \\int_0^1 \\frac{dx}{(4-x^2)^{\\frac{3}{2}}}$$"
   ]
  },
  {
   "cell_type": "markdown",
   "id": "89f1c50a-5fc5-49cc-9c04-604e0353232f",
   "metadata": {},
   "source": [
    "Before diving into how we can solve this problem, what is the importance of this problem? In other words, why are we trying to solve problems like this one? \n",
    "\n",
    "Of course as you may well know, one good thing about knowing the integral of a function is that you can now calculate the area under the funciton. Finding the area, however, may not be the best thing; rather, there can be much better things about integrals. \n",
    "\n",
    "What we gain by solving problems like this one is that we gain a deeper understanding of the function inside, which we call the integrand. In this case, the integrand is $\\frac{1}{(4-x^2)^{\\frac{3}{2}}}$ By integrating the integrand, we get the solution -- we call this the integral. What do I mean by a deeper understanding? \n",
    "\n",
    "It means that we can better understand how the function behaves. It means that we can not only calculate the area under the function, but we can also calculate many other things related to the function. This exact function may or may not be descriptive of something in our everyday life, but by learning how to integrate functions like this one, we will be better at integrating functions that can actually be descriptive of things around us. If we can find functions that describe things around us and then find integrals of those functions, we will have a deeper understanding of the world around us. This will help us better understand our world, and this in turn will help us to make it better."
   ]
  },
  {
   "cell_type": "markdown",
   "id": "25b97c4e-90c2-46a3-90b0-340c6d8c010b",
   "metadata": {},
   "source": [
    "## Are there many ways of solving this problem?"
   ]
  },
  {
   "cell_type": "markdown",
   "id": "d80337c1-e074-451a-92ec-81ac3e40101c",
   "metadata": {},
   "source": [
    "To answer this question, I assume yes. I think there are multiple ways of solving this problem.\n",
    "To tell you the truth, I've been able to come up with only one. So, please share if you find any other way\n",
    "of solving this problem!\n",
    "\n",
    "I solved this problem using both trigonometric substitution and u-substitution. So far in our class, we've learned a number of techniques for integration, including basic u-substitutiom, integration by parts, and trigonometric substitution. I think all of these could be used for solving this problem somehow, but I was only able to solve this problem one way, which is using both \n",
    "trigonometric substitution and u-substitution."
   ]
  },
  {
   "cell_type": "markdown",
   "id": "8842f807-8e54-4aba-b731-72674a11cf76",
   "metadata": {},
   "source": [
    "## My failed attempts to solve this problem "
   ]
  },
  {
   "cell_type": "markdown",
   "id": "19752c40-7e7d-4916-aea4-6ac5e83c637d",
   "metadata": {},
   "source": [
    "Before telling you how I managed to solve this problem, I'll briefly cover how I attempted to solve this problem but failed.\n",
    "$$\\textbf{24.}\\quad \\int_0^1 \\frac{dx}{(4-x^2)^{\\frac{3}{2}}}$$\n",
    "1. Using only u-substitution\n",
    "    <br>\n",
    "    Just trying to find if any u-substitution works by trial and error. Supposing $u=(4-x^2)$ \n",
    "    $$\\int_0^1 \\frac{dx}{(4-x^2)^{\\frac{3}{2}}} = \\int_0^1 \\frac{dx}{(u)^{\\frac{3}{2}}}$$\n",
    "    $$\\frac{du}{dx}=-2x \\quad \\quad dx = \\frac{du}{-2x}$$\n",
    "    $$\\int_0^1 \\frac{dx}{(u)^{\\frac{3}{2}}} = \\int_0^1 \\frac{1}{(u)^{\\frac{3}{2}}} \\cdot \\frac{du}{-2x}$$\n",
    "    I didn't know how to solve $\\int_0^1 \\frac{1}{(u)^{\\frac{3}{2}}} \\cdot \\frac{du}{-2x}$ because \n",
    "    substituting $u$ results in $dx = \\frac{du}{-2x}$ I would've known how to solve this if the $x$ term\n",
    "    somehow cancels out, but in this case, the $x$ term doesn't cancel out.\n",
    "    \n",
    "1. Using integration by parts\n",
    "    <br>\n",
    "    The integration by parts method is derived from the product rule in diffrentiation. Integrating every term in the product rule \n",
    "    formula, as we learned in Lesson 3, gives us the integration by parts formula:\n",
    "    $$\\int u dv = u v - \\int v du$$\n",
    "    With this integration by parts formula, I attempted to solve our problem by rewriting the original problem from \n",
    "    $\\int_0^1 \\frac{dx}{(4-x^2)^{\\frac{3}{2}}}$ to $\\int_0^1 \\frac{dx}{(4-x^2)^{\\frac{2}{2}}(4-x^2)^{\\frac{1}{2}}}$ and supposing \n",
    "    $u=\\frac{1}{(4-x^2)^{\\frac{2}{2}}} \\quad v'=\\frac{1}{(4-x^2)^{\\frac{1}{2}}}$ From here, I calculated $u'$ and $v$.\n",
    "    $$u=\\frac{1}{(4-x^2)^{\\frac{2}{2}}} \\quad v'=\\frac{1}{(4-x^2)^{\\frac{1}{2}}}$$\n",
    "    $$u'=2x(4-x^2)^{-2} \\quad v= \\int \\frac{dx}{(4-x^2)^{\\frac{1}{2}}}$$\n",
    "    $$\\int u dv = \\frac{1}{(4-x^2)^{\\frac{2}{2}}} \\cdot \\int \\frac{dx}{(4-x^2)^{\\frac{1}{2}}} - \\int \\int \\frac{2x(4-x^2)^{-2}}{(4-x^2)^{\\frac{1}{2}}} dx$$\n",
    "    This gave me an integrend that I don't know how to integrate. As you can see, our original problem became a more complex problem."
   ]
  },
  {
   "cell_type": "markdown",
   "id": "046a69e9-426b-489f-9ed0-45ed28219e00",
   "metadata": {},
   "source": [
    "## How I solved this problem\n",
    "\n",
    "Trigonometric substitution worked. Where did I learn trigonometric substitution? I learned it from Lesson 7. Here's how I used trigonometric substitution to solve this problem.\n",
    "$$\\textbf{24.}\\quad \\int_0^1 \\frac{dx}{(4-x^2)^{\\frac{3}{2}}}$$"
   ]
  },
  {
   "cell_type": "markdown",
   "id": "b5a7e0a9-f705-430f-8a0f-ff9b6028c450",
   "metadata": {},
   "source": [
    "As we saw previously, trying u-substitution or integration parts by themselves didn't work out for me. According to Lesson 7, however, there's a way to rewrite a function like our problem to another form so that we can integrate it more easily. Functions in the form of $(\\pm a^2\\pm x^2)$ can be substituted with trigonometric fuctions, and from there, the integrand can be integrated more easily. Hence, this is where the name trigonometric substitution comes from.\n",
    "\n",
    "The first step of trigonometric substitution is finding either $sin\\theta$ or $cos\\theta$ or $tan\\theta$. Well, it sounds confusing. It indeed is confusing at first, but we can find it by drawing a right-angle triangle with the angle $\\theta$. Now, if a function is in the form of $(\\pm a^2\\pm x^2)$ that means there's a value such that $sin\\theta$ or $cos\\theta$ or $tan\\theta$ is related to $(\\pm a^2\\pm x^2)$. For instance, our problem is in the form of $(4-x^2)$\n",
    "$$4cos^2\\theta=(2^2-x^2)$$\n",
    "$$2cos\\theta=\\sqrt{2^2-x^2}$$\n",
    "$$cos\\theta=\\frac{\\sqrt{2^2-x^2}}{2}$$\n",
    "$$cos\\theta=\\frac{adjacent}{hypotenuse}$$"
   ]
  },
  {
   "cell_type": "markdown",
   "id": "f26d9e32",
   "metadata": {},
   "source": [
    "I think this was the hardest step! Personally, I think this also happens to be the coolest part of our solution -- substituting a function like $(\\pm a^2\\pm x^2)$ with $sin\\theta$ or $cos\\theta$ or $tan\\theta$ by using a right-angle triangle. \n",
    "$$\\textbf{24.}\\quad \\int_0^1 \\frac{dx}{(4-x^2)^{\\frac{3}{2}}} = \\int_0^1 \\frac{dx}{(4cos^2\\theta)^{\\frac{3}{2}}}$$"
   ]
  },
  {
   "cell_type": "markdown",
   "id": "3688aaa5-8bac-4a20-b4b1-b3d0e253e3de",
   "metadata": {},
   "source": [
    "Plus, since we changed the variable in our function from $x$ to $\\theta$, we need to rewrite $dx$ into $d\\theta$ as well. The same right-angle triangle we talked about above can be used for finding $d\\theta$ in terms of $dx$.\n",
    "$$sin\\theta=\\frac{opposite}{hypotenuse}$$\n",
    "$$sin\\theta=\\frac{x}{2}$$\n",
    "$$2sin\\theta=x$$"
   ]
  },
  {
   "cell_type": "markdown",
   "id": "49def664-1aa5-4398-84b6-73e7a7c5bc25",
   "metadata": {},
   "source": [
    "To get $dx$, we can differentiate both terms:\n",
    "$$\\frac{dx}{d\\theta}=2\\frac{d}{d\\theta}(sin\\theta)$$\n",
    "$$\\frac{dx}{d\\theta}=2cos\\theta$$\n",
    "$$dx=2cos\\theta \\ d\\theta$$"
   ]
  },
  {
   "cell_type": "markdown",
   "id": "86baf6b2-218f-4142-87ce-eeb2cb6f044d",
   "metadata": {},
   "source": [
    "From now on, we can just substitute $4cos^2\\theta=(4-x^2)$ and $dx=2cos\\theta \\  d\\theta$ into our problem, and this makes our integrand easier to integrate.\n",
    "$$\\textbf{24.}\\quad \\int_0^1 \\frac{dx}{(4-x^2)^{\\frac{3}{2}}} = \n",
    "\\int_0^1 \\frac{1}{(4cos\\theta)^{\\frac{3}{2}}} \\cdot 2cos\\theta \\ d\\theta$$"
   ]
  },
  {
   "cell_type": "markdown",
   "id": "94f93cb4-9bbc-49b2-a1ba-eb9eaafeef85",
   "metadata": {},
   "source": [
    "Simplifying with algebra gives us\n",
    "$$\\int_0^1 \\frac{1}{(4cos^2\\theta)^{\\frac{3}{2}}} \\cdot 2cos\\theta \\ d\\theta = \n",
    "\\int_0^1 \\frac{2cos\\theta}{(4cos^2\\theta)^{\\frac{3}{2}}} \\ d\\theta$$\n",
    "$$\\qquad \\qquad \\qquad \\qquad \\qquad = \\int_0^1 \\frac{2cos\\theta}{(\\sqrt{4}\\sqrt{cos^2\\theta})^{3}} \\ d\\theta$$\n",
    "$$\\qquad \\qquad \\qquad \\qquad \\qquad = \\int_0^1 \\frac{2cos\\theta}{(2cos\\theta)^{3}} \\ d\\theta$$\n",
    "$$\\qquad \\qquad \\qquad \\qquad \\qquad = \\int_0^1 \\frac{2cos\\theta}{(2)^3(cos\\theta)^{3}} \\ d\\theta$$\n",
    "$$\\qquad \\qquad \\qquad \\qquad \\qquad = \\int_0^1 \\frac{2cos\\theta}{8cos^3\\theta} \\ d\\theta$$\n",
    "$$\\qquad \\qquad \\qquad \\qquad \\qquad = \\frac{1}{4} \\int_0^1 \\frac{cos\\theta}{cos^3\\theta} \\ d\\theta$$\n",
    "$$\\qquad \\qquad \\qquad \\qquad \\qquad = \\frac{1}{4} \\int_0^1 cos^2(\\theta) \\ d\\theta$$"
   ]
  },
  {
   "cell_type": "markdown",
   "id": "ceacf7b7-d137-411d-a165-aa918ef8f616",
   "metadata": {},
   "source": [
    "Since $\\int cos^2\\theta = \\tan\\theta + C$\n",
    "$$\\textbf{24.}\\quad \\int_0^1 \\frac{dx}{(4-x^2)^{\\frac{3}{2}}} = \\int_0^1 cos^2(\\theta) \\ d\\theta = \\frac{1}{4} [tan\\theta]_0^1$$"
   ]
  },
  {
   "cell_type": "markdown",
   "id": "2b870d67-4a28-4405-a817-d0fa0ac17f46",
   "metadata": {},
   "source": [
    "Here's another cool trick I learned from Lesson 7. Looking back at the same right-angle triangle we used, we can user $tan\\theta = \\frac{sin\\theta}{cos\\theta}$\n",
    "$$tan\\theta = \\frac{sin\\theta}{cos\\theta}$$\n",
    "$$\\quad \\  = \\frac{\\frac{x}{2}}{\\frac{\\sqrt{2^2-x^2}}{2}} = \\frac{x}{2} \\cdot \\frac{2}{\\sqrt{2^2-x^2}} =\n",
    "\\frac{x}{\\sqrt{4-x^2}}$$"
   ]
  },
  {
   "cell_type": "markdown",
   "id": "9ee73330-5a5c-4fc3-b454-ebecda2d53da",
   "metadata": {},
   "source": [
    "Finally, we can then substitute $tan\\theta = \\frac{x}{\\sqrt{4-x^2}}$\n",
    "$$\\textbf{24.}\\quad \\int_0^1 \\frac{dx}{(4-x^2)^{\\frac{3}{2}}} = \\int_0^1 cos^2(\\theta) \\ d\\theta = \\frac{1}{4} [tan\\theta]_0^1 = \n",
    "\\frac{1}{4} \\bigg[\\frac{x}{\\sqrt{4-x^2}}\\bigg]_0^1$$\n",
    "$$=\\frac{1}{4} \\bigg[\\frac{(1)}{\\sqrt{4-(1)^2}}-\\frac{(0)}{\\sqrt{4-(0)^2}}\\bigg]$$\n",
    "$$=\\frac{1}{4} \\bigg[\\frac{1}{\\sqrt{3}}-0\\bigg]$$\n",
    "$$=\\frac{1}{4\\sqrt{3}}$$"
   ]
  },
  {
   "cell_type": "markdown",
   "id": "52f6527e-2a44-4cb1-8a8e-bb36ffac4e42",
   "metadata": {},
   "source": [
    "## Geometrically Verifying the Integral"
   ]
  },
  {
   "cell_type": "code",
   "execution_count": 3,
   "id": "f2bd0d8d",
   "metadata": {},
   "outputs": [
    {
     "data": {
      "image/png": "[encoded data removed]",
      "text/plain": [
       "<Figure size 400x400 with 1 Axes>"
      ]
     },
     "metadata": {},
     "output_type": "display_data"
    }
   ],
   "source": [
    "'''\n",
    "Python code for verifying our integral.\n",
    "We can export this file to a pdf file without the code inside:\n",
    "jupyter nbconvert --no-input AFP2_SoobinRho.ipynb --to pdfviahtml --output-dir='~/Downloads'\n",
    "'''\n",
    "import numpy as np\n",
    "import matplotlib.pyplot as plt\n",
    "import seaborn as sns\n",
    "\n",
    "# Initializing the graph.\n",
    "fig = plt.figure(figsize=(5, 5), dpi=80)\n",
    "plt.axhline(0, color='black')\n",
    "plt.axvline(0, color='black')\n",
    "plt.ylim(-1, 3)\n",
    "sns.set_theme()\n",
    "ax = plt.gca()\n",
    "ax.set_aspect(1)\n",
    "\n",
    "# Define the function of the integrand.\n",
    "x_integrand = np.linspace(-1.9, 1.9, 1000)\n",
    "y_integrand = np.power(4 - np.power(x_integrand, 2), (-3/2))\n",
    "plt.plot(x_integrand, y_integrand)\n",
    "str_equation = r'$f(x)=\\frac{1}{(4-x^2)^{\\frac{3}{2}}}$'\n",
    "plt.annotate(str_equation, xy=(0, 0), xytext=(-1.55, 0.63), fontsize=15)\n",
    "\n",
    "# Define the function of the integral.\n",
    "x_integral = np.linspace(-1.9, 1.99, 100)\n",
    "y_integral = x_integral / (4 * (4 - np.power(x_integral, 2)))\n",
    "plt.plot(x_integral, y_integral)\n",
    "str_equation = r'$F(x)=\\frac{x}{4\\sqrt{4-x^2}}+C$'\n",
    "plt.annotate(str_equation, xy=(0, 0), xytext=(-1.55, -0.5), fontsize=15)\n",
    "\n",
    "# Hightlight the area\n",
    "plt.fill_between(x_integrand, \n",
    "                 y_integrand, \n",
    "                 where= (x_integrand >= 0)&(x_integrand <= 1),\n",
    "                 facecolor=\"grey\", \n",
    "                 alpha=0.3)\n",
    "\n",
    "# Display the graph.\n",
    "plt.show()"
   ]
  },
  {
   "cell_type": "markdown",
   "id": "ac594120",
   "metadata": {},
   "source": [
    "First, let's visualize how the integrand and the integral look like."
   ]
  },
  {
   "cell_type": "code",
   "execution_count": 15,
   "id": "2854b31e",
   "metadata": {},
   "outputs": [
    {
     "data": {
      "image/png": "[encoded data removed]",
      "text/plain": [
       "<Figure size 400x400 with 1 Axes>"
      ]
     },
     "metadata": {},
     "output_type": "display_data"
    }
   ],
   "source": [
    "# Initializing the graph.\n",
    "fig = plt.figure(figsize=(5, 5), dpi=80)\n",
    "plt.axhline(0, color='black')\n",
    "plt.axvline(0, color='black')\n",
    "plt.xlim(-0.95, 1.5)\n",
    "plt.ylim(-0.35, 0.5)\n",
    "\n",
    "# Plot the function of the integrand.\n",
    "plt.plot(x_integrand, y_integrand)\n",
    "str_equation = r'$f(x)=\\frac{1}{(4-x^2)^{\\frac{3}{2}}}$'\n",
    "plt.annotate(str_equation, xy=(0, 0), xytext=(-0.9, 0.2), fontsize=15)\n",
    "\n",
    "# Plot the function of the integral.\n",
    "plt.plot(x_integral, y_integral)\n",
    "str_equation = r'$F(x)=\\frac{x}{4\\sqrt{4-x^2}}+C$'\n",
    "plt.annotate(str_equation, xy=(0, 0), xytext=(-0.9, -0.13), fontsize=15)\n",
    "\n",
    "# Hightlight the area\n",
    "plt.fill_between(x_integrand, \n",
    "                 y_integrand, \n",
    "                 where= (x_integrand >= 0)&(x_integrand <= 1),\n",
    "                 facecolor=\"grey\", \n",
    "                 alpha=0.23)\n",
    "\n",
    "# Display the graph.\n",
    "plt.show()"
   ]
  },
  {
   "cell_type": "markdown",
   "id": "7e93f64c",
   "metadata": {},
   "source": [
    "The question asks us to evaluate $\\int_0^1$ So, here's the same graph zoomed in. To verify our answer, which was $\\frac{1}{4\\sqrt{3}} \\approx 0.14$, let's assume that the area is a rectangle, calculate the area of the rectangle, and compare that area and the answer we got. The area of the renctangle is $base*height$ So, in this case, \n",
    "$$area \\approx base * height$$\n",
    "$$area \\approx (1.0) * (0.13)$$\n",
    "$$area \\approx 0.13$$\n",
    "\n",
    "This approximation $0.13$ is not far away from $\\frac{\\sqrt{3}}{12} \\approx 0.14$ Therefore, this graph verifies that our answer is likely to be correct. This was one way of verifying our answer. Now, let's try to verify our answer analytically so that we can be more certain that our answer is correct."
   ]
  },
  {
   "cell_type": "markdown",
   "id": "6e78e21c",
   "metadata": {},
   "source": [
    "## Analytically Verifying the Integral"
   ]
  },
  {
   "cell_type": "markdown",
   "id": "6c7c9a54",
   "metadata": {},
   "source": [
    "What do we mean by analytically verifying the integral? We can analytically verify the integral simply by diffrentiating the integral. This is because of the fundamental theorem of calculus, which states that an integral of a function also happens to be the antiderivative of the function. Thus, if our answer is correct, we should be able to differentiate the integral and get the function we had on our original problem.\n",
    "\n",
    "Of course, the original question asks for the definite integral, but this way we can be certain that at least our indefinite version of integral is definitely correct. The indefinite version of the integral we got is\n",
    "$$\\textbf{24.}\\quad \\int \\frac{dx}{(4-x^2)^{\\frac{3}{2}}} = \\frac{x}{4\\sqrt{4-x^2}} + C$$"
   ]
  },
  {
   "cell_type": "markdown",
   "id": "55e2bfa3-7170-4216-8ddb-23332cf47f95",
   "metadata": {},
   "source": [
    "Differentiating this on Maple, we get the integrand of our original problem.\n",
    "$$diff\\bigg[ \\frac{x}{\\sqrt{4-x^2}}, x \\bigg] = \\frac{1}{(4-x^2)^{3/2}} $$"
   ]
  },
  {
   "cell_type": "markdown",
   "id": "dd1bd2d1-295b-4424-9b48-e24aba1dc341",
   "metadata": {},
   "source": [
    "So, finally, we can conclude that $\\frac{1}{(4-x^2)^{3/2}}$ is the correct integral of the integrand ofour original problem. Hope this was clear and easy to understand. I'll try to make it clearer and easier to understand next time :) See you later!"
   ]
  },
  {
   "cell_type": "markdown",
   "id": "f68cadea-908c-4eb1-8c1f-469a8ca28a24",
   "metadata": {},
   "source": [
    "<br><br><br><br><br><br><br>"
   ]
  }
 ],
 "metadata": {
  "kernelspec": {
   "display_name": "Python 3 (ipykernel)",
   "language": "python",
   "name": "python3"
  },
  "language_info": {
   "codemirror_mode": {
    "name": "ipython",
    "version": 3
   },
   "file_extension": ".py",
   "mimetype": "text/x-python",
   "name": "python",
   "nbconvert_exporter": "python",
   "pygments_lexer": "ipython3",
   "version": "3.9.12"
  }
 },
 "nbformat": 4,
 "nbformat_minor": 5
}
