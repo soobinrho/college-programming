{
 "cells": [
  {
   "cell_type": "markdown",
   "id": "9a37a6ef-106d-41cb-a1f6-40ffd6ae5eeb",
   "metadata": {},
   "source": [
    "# Day 3 Homework\n",
    "\n",
    "`COSC210`\n",
    "`Chapter 3: Control Flow`\n",
    "`Soobin Rho`"
   ]
  },
  {
   "cell_type": "markdown",
   "id": "4e81c54a-b975-46bb-a2e8-262ededb7c12",
   "metadata": {},
   "source": [
    "**Fahrenheit to Celsius**"
   ]
  },
  {
   "cell_type": "code",
   "execution_count": null,
   "id": "72bdaf30",
   "metadata": {},
   "outputs": [],
   "source": [
    "# Input\n"
   ]
  },
  {
   "cell_type": "markdown",
   "id": "a882cf3b",
   "metadata": {},
   "source": [
    "**Fahrenheit to Celsius**"
   ]
  },
  {
   "cell_type": "code",
   "execution_count": 2,
   "id": "d1aef838",
   "metadata": {},
   "outputs": [
    {
     "name": "stdout",
     "output_type": "stream",
     "text": [
      "hi\n"
     ]
    }
   ],
   "source": [
    "print('hi')"
   ]
  }
 ],
 "metadata": {
  "kernelspec": {
   "display_name": "Python 3 (ipykernel)",
   "language": "python",
   "name": "python3"
  },
  "language_info": {
   "codemirror_mode": {
    "name": "ipython",
    "version": 3
   },
   "file_extension": ".py",
   "mimetype": "text/x-python",
   "name": "python",
   "nbconvert_exporter": "python",
   "pygments_lexer": "ipython3",
   "version": "3.9.12"
  }
 },
 "nbformat": 4,
 "nbformat_minor": 5
}
