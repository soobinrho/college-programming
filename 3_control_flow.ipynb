{
 "cells": [
  {
   "cell_type": "markdown",
   "id": "9a37a6ef-106d-41cb-a1f6-40ffd6ae5eeb",
   "metadata": {},
   "source": [
    "# Day 3 Homework\n",
    "\n",
    "`CS210`\n",
    "`Chapter 3: Control Flow`\n",
    "`Soobin Rho`"
   ]
  },
  {
   "cell_type": "markdown",
   "id": "4e81c54a-b975-46bb-a2e8-262ededb7c12",
   "metadata": {},
   "source": [
    "### Part 1: *Fahrenheit to Celsius*"
   ]
  },
  {
   "cell_type": "code",
   "execution_count": 2,
   "id": "5fe23ca1-6bbd-4204-9912-4cd8fc2e0f0e",
   "metadata": {},
   "outputs": [],
   "source": [
    "# Input\n"
   ]
  },
  {
   "cell_type": "markdown",
   "id": "67885184-92cf-4443-b54d-7da987b1f560",
   "metadata": {},
   "source": [
    "### Part 2: *Four 4s*"
   ]
  },
  {
   "cell_type": "code",
   "execution_count": 1,
   "id": "6afcb93e-10f2-4ff8-8152-3c807ab1955c",
   "metadata": {},
   "outputs": [
    {
     "name": "stdout",
     "output_type": "stream",
     "text": [
      "0 is:  0\n"
     ]
    }
   ],
   "source": [
    "print(\"0 is: \", 4 + 4 - 4 - 4)\n",
    "\n",
    "\n",
    "\n",
    "\n",
    "\n"
   ]
  }
 ],
 "metadata": {
  "kernelspec": {
   "display_name": "Python 3 (ipykernel)",
   "language": "python",
   "name": "python3"
  },
  "language_info": {
   "codemirror_mode": {
    "name": "ipython",
    "version": 3
   },
   "file_extension": ".py",
   "mimetype": "text/x-python",
   "name": "python",
   "nbconvert_exporter": "python",
   "pygments_lexer": "ipython3",
   "version": "3.9.12"
  }
 },
 "nbformat": 4,
 "nbformat_minor": 5
}
