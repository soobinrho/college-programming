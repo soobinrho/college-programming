{
 "cells": [
  {
   "cell_type": "markdown",
   "id": "9a37a6ef-106d-41cb-a1f6-40ffd6ae5eeb",
   "metadata": {},
   "source": [
    "# Day 1 Homework\n",
    "\n",
    "`Chapter 1: Introduction to Computers and Python`\n",
    "\n",
    "Hello Dr. Leach! I am excited to take *Computer Science I* and *Computer Science II* this summer.\n",
    "The reason why I am majoring in philosophy, math, and *data science* is because it just feels right.\n",
    "I was never able to come up with a rational reason for doing what I do in whatever I do, \n",
    "but - I figured - that I just gotta do what feels *right* and ***fun***, until I find out **why**.\n",
    "\n",
    "Plus, I will be participating in *Call for Code* with another sophomore named Mariam Wisaal.\n",
    "We are not trying to win it though. We will just try to learn and have fun! \n",
    "\n",
    "Thank you for mentoring in such a great program!"
   ]
  },
  {
   "cell_type": "code",
   "execution_count": 3,
   "id": "26a18edc-d766-463f-a9d5-a0be4d753282",
   "metadata": {},
   "outputs": [
    {
     "name": "stdout",
     "output_type": "stream",
     "text": [
      "Hello, my name is: Soobin Rho\n"
     ]
    }
   ],
   "source": [
    "# I'm from South Korea, but I grew up in Dubai.\n",
    "print('Hello, my name is: Soobin Rho')"
   ]
  }
 ],
 "metadata": {
  "kernelspec": {
   "display_name": "Python 3 (ipykernel)",
   "language": "python",
   "name": "python3"
  },
  "language_info": {
   "codemirror_mode": {
    "name": "ipython",
    "version": 3
   },
   "file_extension": ".py",
   "mimetype": "text/x-python",
   "name": "python",
   "nbconvert_exporter": "python",
   "pygments_lexer": "ipython3",
   "version": "3.9.12"
  }
 },
 "nbformat": 4,
 "nbformat_minor": 5
}
