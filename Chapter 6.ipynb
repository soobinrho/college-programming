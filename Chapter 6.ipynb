{
 "cells": [
  {
   "cell_type": "markdown",
   "id": "b57e90a5",
   "metadata": {},
   "source": [
    "# COSC 210: Introduction to Python Programming\n",
    "### Dictionaries and Sets\n",
    "\n",
    "In this notebook, we will cover\n",
    "- defining Dictionaries and Sets\n",
    "- functions that are useful for working with dictionaries and sets\n",
    "- Creating barcharts from datasets\n",
    "\n",
    "#### Some notes about dictionaries and sets\n",
    "\n",
    "- Dictionaries and Sets are collection data types just like Lists and Tuples \n",
    "- However, they are Unordered meaning that we cannot use index subscribing to get specific elements. \n",
    "- Dictionaires are composed of two components: keys and values\n",
    "- Keys are unique and cannot be duplicated within the same dictionary\n",
    "- Each key has an assocated value\n",
    "- Sets are unordered collections of unique values\n",
    "- Sets are iterable but we cannot use indexing or slicing on them\n",
    "\n",
    "### Dictionary"
   ]
  },
  {
   "cell_type": "code",
   "execution_count": null,
   "id": "693ec42b",
   "metadata": {},
   "outputs": [],
   "source": [
    "AL_Central = {\n",
    "    'Kansas City': 'Royals', 'Minnesota': 'Twins', 'Cleveland': 'Indians', 'Chicago': 'White Sox', 'Detroit': 'Tigers'}"
   ]
  },
  {
   "cell_type": "code",
   "execution_count": null,
   "id": "ec22ee46",
   "metadata": {},
   "outputs": [],
   "source": [
    "# How many key-value pairs\n",
    "len(AL_Central)"
   ]
  },
  {
   "cell_type": "code",
   "execution_count": null,
   "id": "075101cd",
   "metadata": {},
   "outputs": [],
   "source": [
    "# Unpack into tuples\n",
    "list(AL_Central.items())"
   ]
  },
  {
   "cell_type": "code",
   "execution_count": null,
   "id": "94f97643",
   "metadata": {},
   "outputs": [],
   "source": [
    "# Getting cetrain values by entering in the key\n",
    "AL_Central['Minnesota']"
   ]
  },
  {
   "cell_type": "code",
   "execution_count": null,
   "id": "748dbfd4",
   "metadata": {},
   "outputs": [],
   "source": [
    "AL_Central['Boston']"
   ]
  },
  {
   "cell_type": "code",
   "execution_count": null,
   "id": "b049036b",
   "metadata": {},
   "outputs": [],
   "source": [
    "# Another way to do it\n",
    "AL_Central.get('Minnesota')"
   ]
  },
  {
   "cell_type": "code",
   "execution_count": null,
   "id": "7d32f432-daf1-420d-a96c-73443d434179",
   "metadata": {},
   "outputs": [],
   "source": [
    "test_dic = {'a':1}\n",
    "test_dic.get('b') * 1"
   ]
  },
  {
   "cell_type": "code",
   "execution_count": null,
   "id": "5cd7e6f7",
   "metadata": {},
   "outputs": [],
   "source": [
    "# Will not get an error if the key doesn't exist\n",
    "AL_Central.get('Boston')"
   ]
  },
  {
   "cell_type": "code",
   "execution_count": null,
   "id": "c77e0ef2",
   "metadata": {},
   "outputs": [],
   "source": [
    "# Check if a key is in a dictionary\n",
    "'Cleveland' in AL_Central"
   ]
  },
  {
   "cell_type": "code",
   "execution_count": null,
   "id": "f774584d",
   "metadata": {},
   "outputs": [],
   "source": [
    "# Check to see if it is not in there\n",
    "'Arizona' in AL_Central"
   ]
  },
  {
   "cell_type": "code",
   "execution_count": null,
   "id": "09a85eb9",
   "metadata": {},
   "outputs": [],
   "source": [
    "# List out all the Keys in the dictionary\n",
    "list(AL_Central.keys())"
   ]
  },
  {
   "cell_type": "code",
   "execution_count": null,
   "id": "b6682b4d",
   "metadata": {},
   "outputs": [],
   "source": [
    "# List out all the values in the dictionary\n",
    "list(AL_Central.values())"
   ]
  },
  {
   "cell_type": "code",
   "execution_count": null,
   "id": "1a16baa5",
   "metadata": {},
   "outputs": [],
   "source": [
    "# Add an entry to the dictionary\n",
    "AL_Central.update(Milwaukee = 'Brewers')"
   ]
  },
  {
   "cell_type": "code",
   "execution_count": null,
   "id": "7055098a",
   "metadata": {},
   "outputs": [],
   "source": [
    "AL_Central"
   ]
  },
  {
   "cell_type": "code",
   "execution_count": null,
   "id": "0689947b",
   "metadata": {},
   "outputs": [],
   "source": [
    "# How to delete an entry\n",
    "del AL_Central['Milwaukee']"
   ]
  },
  {
   "cell_type": "code",
   "execution_count": null,
   "id": "f74669f8",
   "metadata": {},
   "outputs": [],
   "source": [
    "# How to update an entry\n",
    "AL_Central.update(Cleveland = 'Guardians')"
   ]
  },
  {
   "cell_type": "code",
   "execution_count": null,
   "id": "092da996",
   "metadata": {},
   "outputs": [],
   "source": [
    "AL_Central"
   ]
  },
  {
   "cell_type": "markdown",
   "id": "070beb5f",
   "metadata": {},
   "source": [
    "#### A script for storing scores"
   ]
  },
  {
   "cell_type": "code",
   "execution_count": null,
   "id": "3d4ddc13",
   "metadata": {
    "scrolled": true
   },
   "outputs": [],
   "source": [
    "# fig06_01.py\n",
    "\"\"\"Using a dictionary to represent an instructor's grade book.\"\"\"\n",
    "grade_book = {            \n",
    "    'Susan': [92, 85, 100], \n",
    "    'Eduardo': [83, 95, 79],\n",
    "    'Azizi': [91, 89, 82],  \n",
    "    'Pantipa': [97, 91, 92] \n",
    "}\n",
    "\n",
    "all_grades_total = 0\n",
    "all_grades_count = 0\n",
    "\n",
    "for name, grades in grade_book.items():\n",
    "    total = sum(grades)\n",
    "    print(f'Average for {name} is {total/len(grades):.2f}')\n",
    "    all_grades_total += total\n",
    "    all_grades_count += len(grades)\n",
    "    \n",
    "print(f\"Class's average is: {all_grades_total / all_grades_count:.2f}\")\n"
   ]
  },
  {
   "cell_type": "markdown",
   "id": "9569b8e6",
   "metadata": {},
   "source": [
    "#### A script for tokenizing a string and counting words"
   ]
  },
  {
   "cell_type": "code",
   "execution_count": null,
   "id": "0214e254",
   "metadata": {
    "scrolled": true
   },
   "outputs": [],
   "source": [
    "# fig06_02.py\n",
    "\"\"\"Tokenizing a string and counting unique words.\"\"\"\n",
    "\n",
    "text = ('this is sample text with several words '\n",
    "       'this is more sample text with some different words')\n",
    "word_counts = {}\n",
    "\n",
    "# count occurrences of each unique word\n",
    "for word in text.split():\n",
    "    if word in word_counts:\n",
    "        word_counts[word] += 1  # update existing key-value pair\n",
    "    else:\n",
    "        word_counts[word] = 1  # insert new key-value pair\n",
    "\n",
    "print(f'{\"WORD\":<12}COUNT')\n",
    "\n",
    "for word, count in sorted(word_counts.items()):\n",
    "    print(f'{word:<12}{count}')\n",
    "\n",
    "print('\\nNumber of unique words:', len(word_counts))"
   ]
  },
  {
   "cell_type": "code",
   "execution_count": null,
   "id": "8077b97d",
   "metadata": {},
   "outputs": [],
   "source": [
    "text = ('this is sample text with several words '\n",
    "       'this is more sample text with some different words')\n",
    "text.split()"
   ]
  },
  {
   "cell_type": "code",
   "execution_count": null,
   "id": "86f28f7c",
   "metadata": {},
   "outputs": [],
   "source": [
    "from collections import Counter\n",
    "text = ('this is sample text with several words '\n",
    "       'this is more sample text with some different words')\n",
    "Counter(text.split())"
   ]
  },
  {
   "cell_type": "markdown",
   "id": "617f6f4a",
   "metadata": {},
   "source": [
    "#### The Counter function"
   ]
  },
  {
   "cell_type": "code",
   "execution_count": null,
   "id": "845ee384",
   "metadata": {},
   "outputs": [],
   "source": [
    "from collections import Counter\n",
    "text = ('this is sample text with several words '\n",
    "        'this is more sample text with some different words')\n",
    "\n",
    "counter = Counter(text.split())\n",
    "\n",
    "print(f'{\"WORD\":<12}COUNT')\n",
    "\n",
    "for word, count in sorted(counter.items()):\n",
    "    print(f'{word:<12}{count}')\n",
    "\n",
    "print('Number of unique keys:', len(counter.keys()))"
   ]
  },
  {
   "cell_type": "markdown",
   "id": "e06b7d3b",
   "metadata": {},
   "source": [
    "### Sets"
   ]
  },
  {
   "cell_type": "code",
   "execution_count": null,
   "id": "5e209e03",
   "metadata": {},
   "outputs": [],
   "source": [
    "states = {'Minnesota','Wisconsin','Minnesota','California','Minnesota','South Dakota'}"
   ]
  },
  {
   "cell_type": "code",
   "execution_count": null,
   "id": "87763f7c",
   "metadata": {},
   "outputs": [],
   "source": [
    "states"
   ]
  },
  {
   "cell_type": "code",
   "execution_count": null,
   "id": "488cb146",
   "metadata": {},
   "outputs": [],
   "source": [
    "len(states)"
   ]
  },
  {
   "cell_type": "code",
   "execution_count": null,
   "id": "4f1fec0f",
   "metadata": {},
   "outputs": [],
   "source": [
    "# We can convert a list to a set using the set() function\n",
    "a = list(range(10))+list(range(5))\n",
    "b = set(a)\n",
    "print(a)\n",
    "print(b)"
   ]
  },
  {
   "cell_type": "markdown",
   "id": "3a783c89",
   "metadata": {},
   "source": [
    "#### Subsets and Supersets"
   ]
  },
  {
   "cell_type": "code",
   "execution_count": null,
   "id": "6b313a23",
   "metadata": {},
   "outputs": [],
   "source": [
    "a = {1,3,5,7,9,11}\n",
    "b = {3,9,11}"
   ]
  },
  {
   "cell_type": "code",
   "execution_count": null,
   "id": "4bdaaa77",
   "metadata": {},
   "outputs": [],
   "source": [
    "a.issubset(b)"
   ]
  },
  {
   "cell_type": "code",
   "execution_count": null,
   "id": "c9c4d55a",
   "metadata": {},
   "outputs": [],
   "source": [
    "a.issuperset(b)"
   ]
  },
  {
   "attachments": {
    "image.png": {
     "image/png": "[encoded data removed]"
    }
   },
   "cell_type": "markdown",
   "id": "0d826db5",
   "metadata": {},
   "source": [
    "#### Unions\n",
    "\n",
    "![image.png](attachment:image.png)"
   ]
  },
  {
   "cell_type": "code",
   "execution_count": null,
   "id": "a3f45050",
   "metadata": {},
   "outputs": [],
   "source": [
    "x = {1,2,3,4}\n",
    "y = {4,5,6,7,8}\n",
    "x | y"
   ]
  },
  {
   "cell_type": "code",
   "execution_count": null,
   "id": "aa036f68",
   "metadata": {},
   "outputs": [],
   "source": [
    "# Alternativelty\n",
    "x.union(y)"
   ]
  },
  {
   "cell_type": "markdown",
   "id": "c04e2b28",
   "metadata": {},
   "source": [
    "#### Intersections"
   ]
  },
  {
   "cell_type": "code",
   "execution_count": null,
   "id": "1bb627e9",
   "metadata": {},
   "outputs": [],
   "source": [
    "x & y"
   ]
  },
  {
   "cell_type": "code",
   "execution_count": null,
   "id": "e70107d1",
   "metadata": {},
   "outputs": [],
   "source": [
    "# Alternatively\n",
    "x.intersection(y)"
   ]
  },
  {
   "cell_type": "markdown",
   "id": "cbd56a05",
   "metadata": {},
   "source": [
    "#### Difference"
   ]
  },
  {
   "cell_type": "code",
   "execution_count": null,
   "id": "0e21e922",
   "metadata": {},
   "outputs": [],
   "source": [
    "x - y"
   ]
  },
  {
   "cell_type": "code",
   "execution_count": null,
   "id": "8bc6d66e",
   "metadata": {},
   "outputs": [],
   "source": [
    "y.difference(x)"
   ]
  },
  {
   "cell_type": "code",
   "execution_count": null,
   "id": "56f8b85e",
   "metadata": {
    "jupyter": {
     "source_hidden": true
    },
    "tags": []
   },
   "outputs": [],
   "source": [
    "x ^ y"
   ]
  },
  {
   "cell_type": "code",
   "execution_count": null,
   "id": "c56b0e3a",
   "metadata": {},
   "outputs": [],
   "source": [
    "y.symmetric_difference(x)"
   ]
  },
  {
   "cell_type": "markdown",
   "id": "d2353786",
   "metadata": {},
   "source": [
    "#### Disjoint"
   ]
  },
  {
   "cell_type": "code",
   "execution_count": null,
   "id": "b5f235ef",
   "metadata": {},
   "outputs": [],
   "source": [
    "x.isdisjoint(y)"
   ]
  },
  {
   "cell_type": "code",
   "execution_count": null,
   "id": "ebd479bf",
   "metadata": {},
   "outputs": [],
   "source": [
    "y = {'apple','banana','orange'}\n",
    "x.isdisjoint(y)"
   ]
  },
  {
   "cell_type": "markdown",
   "id": "4bced873",
   "metadata": {},
   "source": [
    "#### Adding and Deleting from a Set"
   ]
  },
  {
   "cell_type": "code",
   "execution_count": null,
   "id": "90fbcc2d",
   "metadata": {},
   "outputs": [],
   "source": [
    "# Add Elements\n",
    "x.add(19)\n",
    "x"
   ]
  },
  {
   "cell_type": "code",
   "execution_count": null,
   "id": "58f9d917",
   "metadata": {},
   "outputs": [],
   "source": [
    "x.remove(4)\n",
    "x"
   ]
  },
  {
   "cell_type": "code",
   "execution_count": null,
   "id": "e4ca41a2",
   "metadata": {},
   "outputs": [],
   "source": [
    "x.discard(13)"
   ]
  },
  {
   "cell_type": "code",
   "execution_count": null,
   "id": "3d3d1a00",
   "metadata": {},
   "outputs": [],
   "source": [
    "x.remove(13)"
   ]
  },
  {
   "cell_type": "code",
   "execution_count": null,
   "id": "879c300c",
   "metadata": {},
   "outputs": [],
   "source": [
    "x.discard(2)\n",
    "x"
   ]
  },
  {
   "cell_type": "code",
   "execution_count": null,
   "id": "6286948d",
   "metadata": {},
   "outputs": [],
   "source": [
    "x.pop()\n",
    "x"
   ]
  },
  {
   "cell_type": "code",
   "execution_count": null,
   "id": "0e5dbca1",
   "metadata": {
    "scrolled": true
   },
   "outputs": [],
   "source": [
    "x.clear()\n",
    "x"
   ]
  },
  {
   "cell_type": "markdown",
   "id": "f3675900",
   "metadata": {},
   "source": [
    "### Exercie 1"
   ]
  },
  {
   "cell_type": "markdown",
   "id": "1cf30cce",
   "metadata": {},
   "source": [
    "Take the following message, tokenize it with the .split() method, and then extract all of the unique words."
   ]
  },
  {
   "cell_type": "code",
   "execution_count": null,
   "id": "3871bd47",
   "metadata": {},
   "outputs": [],
   "source": []
  },
  {
   "cell_type": "markdown",
   "id": "d4ff4d37",
   "metadata": {},
   "source": [
    "### Exercise 2\n",
    "Given the sets {10, 20, 30} and {5, 10, 15, 20}, use the mathematical set operators to produce the following sets:\n",
    "\n",
    "a. {30}\n",
    "\n",
    "b. {5, 15, 30}\n",
    "\n",
    "c. {5, 10, 15, 20, 30}\n",
    "\n",
    "d. {10, 20}"
   ]
  },
  {
   "cell_type": "code",
   "execution_count": null,
   "id": "fe1be334",
   "metadata": {},
   "outputs": [],
   "source": [
    "x = {10,20,30}\n",
    "y = {5,10,15,20}"
   ]
  },
  {
   "cell_type": "code",
   "execution_count": null,
   "id": "d7f39225",
   "metadata": {},
   "outputs": [],
   "source": []
  },
  {
   "cell_type": "code",
   "execution_count": null,
   "id": "595aaf15",
   "metadata": {},
   "outputs": [],
   "source": []
  },
  {
   "cell_type": "code",
   "execution_count": null,
   "id": "8aad1dc1",
   "metadata": {},
   "outputs": [],
   "source": []
  },
  {
   "cell_type": "markdown",
   "id": "5c1efd93",
   "metadata": {},
   "source": [
    "### Exercise 3\n",
    "Associate each value in the English alphabet with the number of the letter and put them in a dictionary.\n",
    "For example:\n",
    "- {'a':1, 'b':2, 'c':3, 'd':4...'z':26}\n",
    "\n",
    "You must NOT just type in each key, pair value. I suggest using a looping structure. Use the subscription operator to add key-value pairs to the dictionary."
   ]
  },
  {
   "cell_type": "code",
   "execution_count": null,
   "id": "f07e313b",
   "metadata": {},
   "outputs": [],
   "source": []
  },
  {
   "cell_type": "markdown",
   "id": "4403a90a",
   "metadata": {},
   "source": [
    "### Data Analysis with Dictionaries"
   ]
  },
  {
   "cell_type": "code",
   "execution_count": null,
   "id": "48ced6fd",
   "metadata": {},
   "outputs": [],
   "source": [
    "import matplotlib.pyplot as plt\n",
    "import numpy as np\n",
    "import pandas as pd\n",
    "import random \n",
    "import seaborn as sns\n",
    "from collections import Counter"
   ]
  },
  {
   "cell_type": "code",
   "execution_count": null,
   "id": "a29cdb96",
   "metadata": {},
   "outputs": [],
   "source": [
    "transmission = ['Manual','Manual','Manual','Manual','Manual','Manual','Manual','Manual','Manual',\n",
    "                'Manual','Manual','Manual','Automatic','Manual','Manual','Manual','Manual','Manual',\n",
    "                'Manual','Manual','Manual','Manual','Automatic','Manual','Manual','Manual','Manual',\n",
    "                'Manual','Manual','Manual','Manual','Manual','Manual','Manual','Manual','Manual',\n",
    "                'Manual','Manual','Manual','Manual','Automatic','Manual','Manual','Manual','Manual',\n",
    "                'Automatic','Manual','Manual','Manual','Automatic','Automatic','Automatic','Automatic','Automatic',\n",
    "                'Manual','Automatic','Manual','Manual','Manual','Automatic','Manual','Manual','Automatic','Automatic',\n",
    "                'Automatic','Manual','Automatic','Manual','Manual','Manual','Manual','Manual','Manual','Manual',\n",
    "                'Manual','Manual','Manual','Automatic','Automatic','Automatic','Manual','Manual','Automatic',\n",
    "                'Manual','Automatic','Manual','Manual','Manual','Manual','Manual','Manual','Automatic',\n",
    "                'Automatic','Manual','Automatic','Manual','Manual','Manual','Manual','Manual','Manual',\n",
    "                'Manual','Manual','Manual','Manual','Manual','Manual','Manual','Manual','Manual','Manual',\n",
    "                'Manual','Manual','Manual','Manual','Manual','Manual','Manual','Manual','Manual','Manual',\n",
    "                'Manual','Manual','Manual','Manual','Manual','Manual','Manual','Manual','Manual','Manual',\n",
    "                'Manual','Manual','Manual','Manual','Manual','Manual','Manual','Manual','Manual','Manual',\n",
    "                'Manual','Manual','Manual','Manual','Manual','Manual','Manual','Manual','Manual','Manual',\n",
    "                'Manual','Manual','Automatic','Manual','Manual','Manual','Automatic','Manual','Manual',\n",
    "                'Manual','Manual','Manual','Automatic','Manual','Manual','Manual','Manual','Manual','Manual',\n",
    "                'Manual','Automatic','Manual','Manual','Manual','Automatic','Automatic','Manual','Manual',\n",
    "                'Manual','Manual','Manual','Automatic','Automatic','Manual','Manual','Manual','Manual','Manual',\n",
    "                'Manual','Manual','Manual','Manual','Manual','Manual','Manual','Manual','Manual','Manual',\n",
    "                'Manual','Manual','Manual','Manual','Automatic','Manual','Manual','Manual','Manual','Manual',\n",
    "                'Manual','Manual','Manual','Manual','Manual','Manual','Manual','Manual','Automatic','Manual',\n",
    "                'Manual','Automatic','Manual','Manual','Manual','Manual','Manual','Manual','Manual','Automatic',\n",
    "                'Manual','Manual','Manual','Manual','Manual','Manual','Manual','Manual','Manual','Manual',\n",
    "                'Manual','Manual','Manual','Manual','Manual','Manual','Manual','Manual','Manual','Automatic',\n",
    "                'Manual','Manual','Manual','Manual','Manual','Manual','Manual','Manual','Manual','Manual',\n",
    "                'Manual','Manual','Manual','Manual','Manual','Manual','Manual','Manual','Manual','Manual',\n",
    "                'Manual','Manual','Automatic','Manual','Manual','Manual','Manual','Manual','Manual','Manual',\n",
    "                'Manual','Manual','Automatic','Manual','Automatic','Manual','Manual','Manual','Manual',\n",
    "                'Manual','Manual','Manual','Manual','Manual','Manual','Manual','Manual','Manual']"
   ]
  },
  {
   "cell_type": "markdown",
   "id": "c2ff2d23",
   "metadata": {},
   "source": [
    "#### We can use the Counter() function to get a dictionary of the counts"
   ]
  },
  {
   "cell_type": "code",
   "execution_count": null,
   "id": "2144c357",
   "metadata": {},
   "outputs": [],
   "source": [
    "list(Counter(transmission).keys())"
   ]
  },
  {
   "cell_type": "markdown",
   "id": "0dba7cc6",
   "metadata": {},
   "source": [
    "Use the .keys() and .values() methods will give us the groups and counts respectively"
   ]
  },
  {
   "cell_type": "code",
   "execution_count": null,
   "id": "10cce8ad",
   "metadata": {},
   "outputs": [],
   "source": [
    "groups = list(Counter(transmission).keys())\n",
    "counts = list(Counter(transmission).values())"
   ]
  },
  {
   "cell_type": "markdown",
   "id": "a062e096",
   "metadata": {},
   "source": [
    "Creating the barchart"
   ]
  },
  {
   "cell_type": "code",
   "execution_count": null,
   "id": "3556e08b",
   "metadata": {},
   "outputs": [],
   "source": [
    "sns.set_theme(style='darkgrid')\n",
    "ax = sns.barplot(x = groups, y = counts)\n",
    "ax.set_title('Transmission Types')\n",
    "ax.set(xlabel='Transmission',ylabel='Frequency')\n",
    "plt.show()"
   ]
  },
  {
   "cell_type": "markdown",
   "id": "aef2da56",
   "metadata": {},
   "source": [
    "### Try it with some imported data\n",
    "\n",
    "Make sure the 'churn.csv' dataset is in your working directory in order to load it in. This dataset is full of customers who have phone and internet plans with a telecommunications company. From this dataset we can create some bar charts."
   ]
  },
  {
   "cell_type": "code",
   "execution_count": null,
   "id": "6b2cf6b8",
   "metadata": {},
   "outputs": [],
   "source": [
    "df = pd.read_csv('churn.csv')"
   ]
  },
  {
   "cell_type": "markdown",
   "id": "c2913702",
   "metadata": {},
   "source": [
    "When we load in the file, we save it's contents as a datafram so we save the info under the name \"df\". We can use the .head(x) method to peek at the top x rows of the dataset."
   ]
  },
  {
   "cell_type": "code",
   "execution_count": null,
   "id": "55e9ec53",
   "metadata": {},
   "outputs": [],
   "source": [
    "df.head(5)"
   ]
  },
  {
   "cell_type": "markdown",
   "id": "1ad6e198",
   "metadata": {},
   "source": [
    "To access a column (think of this as a list) we use the subscription operator. Start with the dataset name (df), then square brackets, and inside the square brackets the name of the variable we want to grab. Let's start with 'Phone_service'"
   ]
  },
  {
   "cell_type": "code",
   "execution_count": null,
   "id": "0fe17ec7",
   "metadata": {},
   "outputs": [],
   "source": [
    "df['Phone_service']"
   ]
  },
  {
   "cell_type": "markdown",
   "id": "82f5b647",
   "metadata": {},
   "source": [
    "We can use the Counter() function to count up the number of yes and no in this list. Let's save this dictionary as 'counter'"
   ]
  },
  {
   "cell_type": "code",
   "execution_count": null,
   "id": "cc237447",
   "metadata": {},
   "outputs": [],
   "source": [
    "counter = Counter(df['Phone_service'])\n",
    "counter"
   ]
  },
  {
   "cell_type": "markdown",
   "id": "7635bd95",
   "metadata": {},
   "source": [
    "We will save the keys (group names) and the values (counts) for use in our barchart."
   ]
  },
  {
   "cell_type": "code",
   "execution_count": null,
   "id": "3505d19f",
   "metadata": {},
   "outputs": [],
   "source": [
    "groups = list(counter.keys())\n",
    "counts = list(counter.values())"
   ]
  },
  {
   "cell_type": "code",
   "execution_count": null,
   "id": "cc63ad6b",
   "metadata": {},
   "outputs": [],
   "source": [
    "sns.set_theme(style='darkgrid')\n",
    "ax = sns.barplot(x = groups, y = counts)\n",
    "ax.set_title('Customers with Phone Service')\n",
    "ax.set(xlabel='Does the Customer Have Phone Service',ylabel='Frequency')\n",
    "plt.show()"
   ]
  },
  {
   "cell_type": "markdown",
   "id": "c1b8e9a7",
   "metadata": {},
   "source": [
    "### Exercise 4\n",
    "\n",
    "Create a barchart for the type of 'Internet_service' a customer has."
   ]
  },
  {
   "cell_type": "code",
   "execution_count": null,
   "id": "31f29ecc",
   "metadata": {},
   "outputs": [],
   "source": []
  },
  {
   "cell_type": "code",
   "execution_count": null,
   "id": "b41f050e",
   "metadata": {},
   "outputs": [],
   "source": []
  },
  {
   "cell_type": "code",
   "execution_count": null,
   "id": "c1fcda69",
   "metadata": {},
   "outputs": [],
   "source": []
  },
  {
   "cell_type": "code",
   "execution_count": null,
   "id": "9b79b648-4a0e-418d-aa78-20f1e348a802",
   "metadata": {},
   "outputs": [],
   "source": []
  }
 ],
 "metadata": {
  "kernelspec": {
   "display_name": "Python 3 (ipykernel)",
   "language": "python",
   "name": "python3"
  },
  "language_info": {
   "codemirror_mode": {
    "name": "ipython",
    "version": 3
   },
   "file_extension": ".py",
   "mimetype": "text/x-python",
   "name": "python",
   "nbconvert_exporter": "python",
   "pygments_lexer": "ipython3",
   "version": "3.9.12"
  }
 },
 "nbformat": 4,
 "nbformat_minor": 5
}
